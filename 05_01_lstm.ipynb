{
 "cells": [
  {
   "cell_type": "code",
   "execution_count": null,
   "id": "d0b870cc",
   "metadata": {},
   "outputs": [],
   "source": [
    "# Run Date: Friday, June 02, 2023\n",
    "# Run Time: 00:08:16"
   ]
  },
  {
   "cell_type": "code",
   "execution_count": 1,
   "id": "fa9fe7dd",
   "metadata": {},
   "outputs": [],
   "source": [
    "import time\n",
    "from datetime import date\n",
    "\n",
    "startTime = time.time()\n",
    "todaysDate = date.today()"
   ]
  },
  {
   "attachments": {},
   "cell_type": "markdown",
   "id": "b076bd1a-b236-4fbc-953d-8295b25122ae",
   "metadata": {},
   "source": [
    "# 🥙 LSTM on Recipe Data"
   ]
  },
  {
   "attachments": {},
   "cell_type": "markdown",
   "id": "658a95da-9645-4bcf-bd9d-4b95a4b6f582",
   "metadata": {},
   "source": [
    "In this notebook, we'll walk through the steps required to train your own LSTM on the recipes dataset"
   ]
  },
  {
   "cell_type": "code",
   "execution_count": 2,
   "id": "4e0d56cc-4773-4029-97d8-26f882ba79c9",
   "metadata": {},
   "outputs": [
    {
     "name": "stderr",
     "output_type": "stream",
     "text": [
      "2023-06-02 17:54:44.525260: I tensorflow/core/platform/cpu_feature_guard.cc:193] This TensorFlow binary is optimized with oneAPI Deep Neural Network Library (oneDNN) to use the following CPU instructions in performance-critical operations:  AVX2 FMA\n",
      "To enable them in other operations, rebuild TensorFlow with the appropriate compiler flags.\n",
      "2023-06-02 17:54:44.636182: E tensorflow/stream_executor/cuda/cuda_blas.cc:2981] Unable to register cuBLAS factory: Attempting to register factory for plugin cuBLAS when one has already been registered\n"
     ]
    }
   ],
   "source": [
    "%load_ext autoreload\n",
    "%autoreload 2\n",
    "\n",
    "import numpy as np\n",
    "import json\n",
    "import re\n",
    "import string\n",
    "\n",
    "import tensorflow as tf\n",
    "from tensorflow.keras import layers, models, callbacks, losses"
   ]
  },
  {
   "attachments": {},
   "cell_type": "markdown",
   "id": "339e6268-ebd7-4feb-86db-1fe7abccdbe5",
   "metadata": {},
   "source": [
    "## 0. Parameters <a name=\"parameters\"></a>"
   ]
  },
  {
   "cell_type": "code",
   "execution_count": 3,
   "id": "2d8352af-343e-4c2e-8c91-95f8bac1c8a1",
   "metadata": {},
   "outputs": [],
   "source": [
    "VOCAB_SIZE = 10000\n",
    "MAX_LEN = 200\n",
    "EMBEDDING_DIM = 100\n",
    "N_UNITS = 128\n",
    "VALIDATION_SPLIT = 0.2\n",
    "SEED = 42\n",
    "LOAD_MODEL = False\n",
    "BATCH_SIZE = 32\n",
    "EPOCHS = 25"
   ]
  },
  {
   "attachments": {},
   "cell_type": "markdown",
   "id": "b7716fac-0010-49b0-b98e-53be2259edde",
   "metadata": {},
   "source": [
    "## 1. Load the data <a name=\"load\"></a>"
   ]
  },
  {
   "cell_type": "code",
   "execution_count": 4,
   "id": "2247cb5a",
   "metadata": {},
   "outputs": [],
   "source": [
    "dataFolder = '/tf/All/Data/Documents/Github/davidADSP/data/'"
   ]
  },
  {
   "cell_type": "code",
   "execution_count": 5,
   "id": "93cf6b0f-9667-4146-8911-763a8a2925d3",
   "metadata": {
    "tags": []
   },
   "outputs": [],
   "source": [
    "# Load the full dataset\n",
    "jsonFile = dataFolder + \"full_format_recipes.json\"\n",
    "with open(jsonFile) as json_data:\n",
    "    recipe_data = json.load(json_data)"
   ]
  },
  {
   "cell_type": "code",
   "execution_count": 6,
   "id": "23a74eca-f1b7-4a46-9a1f-b5806a4ed361",
   "metadata": {
    "tags": []
   },
   "outputs": [],
   "source": [
    "# Filter the dataset\n",
    "filtered_data = [\n",
    "    \"Recipe for \" + x[\"title\"] + \" | \" + \" \".join(x[\"directions\"])\n",
    "    for x in recipe_data\n",
    "    if \"title\" in x\n",
    "    and x[\"title\"] is not None\n",
    "    and \"directions\" in x\n",
    "    and x[\"directions\"] is not None\n",
    "]"
   ]
  },
  {
   "cell_type": "code",
   "execution_count": 7,
   "id": "389c20de-0422-4c48-a7b4-6ee12a7bf0e2",
   "metadata": {
    "tags": []
   },
   "outputs": [
    {
     "name": "stdout",
     "output_type": "stream",
     "text": [
      "20111 recipes loaded\n"
     ]
    }
   ],
   "source": [
    "# Count the recipes\n",
    "n_recipes = len(filtered_data)\n",
    "print(f\"{n_recipes} recipes loaded\")"
   ]
  },
  {
   "cell_type": "code",
   "execution_count": 8,
   "id": "1b2e3cf7-e416-460e-874a-0dd9637bca36",
   "metadata": {},
   "outputs": [
    {
     "name": "stdout",
     "output_type": "stream",
     "text": [
      "Recipe for Ham Persillade with Mustard Potato Salad and Mashed Peas  | Chop enough parsley leaves to measure 1 tablespoon; reserve. Chop remaining leaves and stems and simmer with broth and garlic in a small saucepan, covered, 5 minutes. Meanwhile, sprinkle gelatin over water in a medium bowl and let soften 1 minute. Strain broth through a fine-mesh sieve into bowl with gelatin and stir to dissolve. Season with salt and pepper. Set bowl in an ice bath and cool to room temperature, stirring. Toss ham with reserved parsley and divide among jars. Pour gelatin on top and chill until set, at least 1 hour. Whisk together mayonnaise, mustard, vinegar, 1/4 teaspoon salt, and 1/4 teaspoon pepper in a large bowl. Stir in celery, cornichons, and potatoes. Pulse peas with marjoram, oil, 1/2 teaspoon pepper, and 1/4 teaspoon salt in a food processor to a coarse mash. Layer peas, then potato salad, over ham.\n"
     ]
    }
   ],
   "source": [
    "example = filtered_data[9]\n",
    "print(example)"
   ]
  },
  {
   "attachments": {},
   "cell_type": "markdown",
   "id": "3f871aaf-d873-41c7-8946-e4eef7ac17c1",
   "metadata": {},
   "source": [
    "## 2. Tokenise the data"
   ]
  },
  {
   "cell_type": "code",
   "execution_count": 9,
   "id": "5b2064fb-5dcc-4657-b470-0928d10e2ddc",
   "metadata": {
    "tags": []
   },
   "outputs": [],
   "source": [
    "# Pad the punctuation, to treat them as separate 'words'\n",
    "def pad_punctuation(s):\n",
    "    s = re.sub(f\"([{string.punctuation}])\", r\" \\1 \", s)\n",
    "    s = re.sub(\" +\", \" \", s)\n",
    "    return s\n",
    "\n",
    "\n",
    "text_data = [pad_punctuation(x) for x in filtered_data]"
   ]
  },
  {
   "cell_type": "code",
   "execution_count": 10,
   "id": "b87d7c65-9a46-492a-a5c0-a043b0d252f3",
   "metadata": {},
   "outputs": [
    {
     "data": {
      "text/plain": [
       "'Recipe for Ham Persillade with Mustard Potato Salad and Mashed Peas | Chop enough parsley leaves to measure 1 tablespoon ; reserve . Chop remaining leaves and stems and simmer with broth and garlic in a small saucepan , covered , 5 minutes . Meanwhile , sprinkle gelatin over water in a medium bowl and let soften 1 minute . Strain broth through a fine - mesh sieve into bowl with gelatin and stir to dissolve . Season with salt and pepper . Set bowl in an ice bath and cool to room temperature , stirring . Toss ham with reserved parsley and divide among jars . Pour gelatin on top and chill until set , at least 1 hour . Whisk together mayonnaise , mustard , vinegar , 1 / 4 teaspoon salt , and 1 / 4 teaspoon pepper in a large bowl . Stir in celery , cornichons , and potatoes . Pulse peas with marjoram , oil , 1 / 2 teaspoon pepper , and 1 / 4 teaspoon salt in a food processor to a coarse mash . Layer peas , then potato salad , over ham . '"
      ]
     },
     "execution_count": 10,
     "metadata": {},
     "output_type": "execute_result"
    }
   ],
   "source": [
    "# Display an example of a recipe\n",
    "example_data = text_data[9]\n",
    "example_data"
   ]
  },
  {
   "cell_type": "code",
   "execution_count": 11,
   "id": "9834f916-b21a-4104-acc9-f28d3bd7a8c1",
   "metadata": {
    "tags": []
   },
   "outputs": [
    {
     "name": "stderr",
     "output_type": "stream",
     "text": [
      "2023-06-02 17:54:47.821161: I tensorflow/stream_executor/cuda/cuda_gpu_executor.cc:980] successful NUMA node read from SysFS had negative value (-1), but there must be at least one NUMA node, so returning NUMA node zero\n",
      "2023-06-02 17:54:47.821354: I tensorflow/stream_executor/cuda/cuda_gpu_executor.cc:980] successful NUMA node read from SysFS had negative value (-1), but there must be at least one NUMA node, so returning NUMA node zero\n",
      "2023-06-02 17:54:47.823896: I tensorflow/stream_executor/cuda/cuda_gpu_executor.cc:980] successful NUMA node read from SysFS had negative value (-1), but there must be at least one NUMA node, so returning NUMA node zero\n",
      "2023-06-02 17:54:47.824047: I tensorflow/stream_executor/cuda/cuda_gpu_executor.cc:980] successful NUMA node read from SysFS had negative value (-1), but there must be at least one NUMA node, so returning NUMA node zero\n",
      "2023-06-02 17:54:47.824188: I tensorflow/stream_executor/cuda/cuda_gpu_executor.cc:980] successful NUMA node read from SysFS had negative value (-1), but there must be at least one NUMA node, so returning NUMA node zero\n",
      "2023-06-02 17:54:47.824325: I tensorflow/stream_executor/cuda/cuda_gpu_executor.cc:980] successful NUMA node read from SysFS had negative value (-1), but there must be at least one NUMA node, so returning NUMA node zero\n",
      "2023-06-02 17:54:47.824440: I tensorflow/core/common_runtime/gpu/gpu_device.cc:2006] Ignoring visible gpu device (device: 1, name: NVIDIA GeForce GTX 1050, pci bus id: 0000:01:00.0, compute capability: 6.1) with core count: 5. The minimum required count is 8. You can adjust this requirement with the env var TF_MIN_GPU_MULTIPROCESSOR_COUNT.\n",
      "2023-06-02 17:54:47.824729: I tensorflow/core/platform/cpu_feature_guard.cc:193] This TensorFlow binary is optimized with oneAPI Deep Neural Network Library (oneDNN) to use the following CPU instructions in performance-critical operations:  AVX2 FMA\n",
      "To enable them in other operations, rebuild TensorFlow with the appropriate compiler flags.\n",
      "2023-06-02 17:54:47.824998: I tensorflow/stream_executor/cuda/cuda_gpu_executor.cc:980] successful NUMA node read from SysFS had negative value (-1), but there must be at least one NUMA node, so returning NUMA node zero\n",
      "2023-06-02 17:54:47.825153: I tensorflow/stream_executor/cuda/cuda_gpu_executor.cc:980] successful NUMA node read from SysFS had negative value (-1), but there must be at least one NUMA node, so returning NUMA node zero\n",
      "2023-06-02 17:54:47.825291: I tensorflow/stream_executor/cuda/cuda_gpu_executor.cc:980] successful NUMA node read from SysFS had negative value (-1), but there must be at least one NUMA node, so returning NUMA node zero\n",
      "2023-06-02 17:54:48.257559: I tensorflow/stream_executor/cuda/cuda_gpu_executor.cc:980] successful NUMA node read from SysFS had negative value (-1), but there must be at least one NUMA node, so returning NUMA node zero\n",
      "2023-06-02 17:54:48.257749: I tensorflow/stream_executor/cuda/cuda_gpu_executor.cc:980] successful NUMA node read from SysFS had negative value (-1), but there must be at least one NUMA node, so returning NUMA node zero\n",
      "2023-06-02 17:54:48.257942: I tensorflow/stream_executor/cuda/cuda_gpu_executor.cc:980] successful NUMA node read from SysFS had negative value (-1), but there must be at least one NUMA node, so returning NUMA node zero\n",
      "2023-06-02 17:54:48.258130: I tensorflow/core/common_runtime/gpu/gpu_device.cc:1616] Created device /job:localhost/replica:0/task:0/device:GPU:0 with 6649 MB memory:  -> device: 0, name: NVIDIA GeForce RTX 2070 SUPER, pci bus id: 0000:02:00.0, compute capability: 7.5\n"
     ]
    }
   ],
   "source": [
    "# Convert to a Tensorflow Dataset\n",
    "text_ds = (\n",
    "    tf.data.Dataset.from_tensor_slices(text_data)\n",
    "    .batch(BATCH_SIZE)\n",
    "    .shuffle(1000)\n",
    ")"
   ]
  },
  {
   "cell_type": "code",
   "execution_count": 12,
   "id": "884c0bcb-0807-45a1-8f7e-a32f2c6fa4de",
   "metadata": {},
   "outputs": [],
   "source": [
    "# Create a vectorisation layer\n",
    "vectorize_layer = layers.TextVectorization(\n",
    "    standardize=\"lower\",\n",
    "    max_tokens=VOCAB_SIZE,\n",
    "    output_mode=\"int\",\n",
    "    output_sequence_length=MAX_LEN + 1,\n",
    ")"
   ]
  },
  {
   "cell_type": "code",
   "execution_count": 13,
   "id": "4d6dd34a-d905-497b-926a-405380ebcf98",
   "metadata": {},
   "outputs": [],
   "source": [
    "# Adapt the layer to the training set\n",
    "vectorize_layer.adapt(text_ds)\n",
    "vocab = vectorize_layer.get_vocabulary()"
   ]
  },
  {
   "cell_type": "code",
   "execution_count": 14,
   "id": "f6c1c7ce-3cf0-40d4-a3dc-ab7090f69f2f",
   "metadata": {},
   "outputs": [
    {
     "name": "stdout",
     "output_type": "stream",
     "text": [
      "0: \n",
      "1: [UNK]\n",
      "2: .\n",
      "3: ,\n",
      "4: and\n",
      "5: to\n",
      "6: in\n",
      "7: the\n",
      "8: with\n",
      "9: a\n"
     ]
    }
   ],
   "source": [
    "# Display some token:word mappings\n",
    "for i, word in enumerate(vocab[:10]):\n",
    "    print(f\"{i}: {word}\")"
   ]
  },
  {
   "cell_type": "code",
   "execution_count": 15,
   "id": "1cc30186-7ec6-4eb6-b29a-65df6714d321",
   "metadata": {},
   "outputs": [
    {
     "name": "stdout",
     "output_type": "stream",
     "text": [
      "[  26   16  557    1    8  298  335  189    4 1054  494   27  332  228\n",
      "  235  262    5  594   11  133   22  311    2  332   45  262    4  671\n",
      "    4   70    8  171    4   81    6    9   65   80    3  121    3   59\n",
      "   12    2  299    3   88  650   20   39    6    9   29   21    4   67\n",
      "  529   11  164    2  320  171  102    9  374   13  643  306   25   21\n",
      "    8  650    4   42    5  931    2   63    8   24    4   33    2  114\n",
      "   21    6  178  181 1245    4   60    5  140  112    3   48    2  117\n",
      "  557    8  285  235    4  200  292  980    2  107  650   28   72    4\n",
      "  108   10  114    3   57  204   11  172    2   73  110  482    3  298\n",
      "    3  190    3   11   23   32  142   24    3    4   11   23   32  142\n",
      "   33    6    9   30   21    2   42    6  353    3 3224    3    4  150\n",
      "    2  437  494    8 1281    3   37    3   11   23   15  142   33    3\n",
      "    4   11   23   32  142   24    6    9  291  188    5    9  412  572\n",
      "    2  230  494    3   46  335  189    3   20  557    2    0    0    0\n",
      "    0    0    0    0    0]\n"
     ]
    }
   ],
   "source": [
    "# Display the same example converted to ints\n",
    "example_tokenised = vectorize_layer(example_data)\n",
    "print(example_tokenised.numpy())"
   ]
  },
  {
   "attachments": {},
   "cell_type": "markdown",
   "id": "8c195efb-84c6-4be0-a989-a7542188ad35",
   "metadata": {},
   "source": [
    "## 3. Create the Training Set"
   ]
  },
  {
   "cell_type": "code",
   "execution_count": 16,
   "id": "740294a1-1a6b-4c89-92f2-036d7d1b788b",
   "metadata": {},
   "outputs": [],
   "source": [
    "# Create the training set of recipes and the same text shifted by one word\n",
    "def prepare_inputs(text):\n",
    "    text = tf.expand_dims(text, -1)\n",
    "    tokenized_sentences = vectorize_layer(text)\n",
    "    x = tokenized_sentences[:, :-1]\n",
    "    y = tokenized_sentences[:, 1:]\n",
    "    return x, y\n",
    "\n",
    "\n",
    "train_ds = text_ds.map(prepare_inputs)"
   ]
  },
  {
   "attachments": {},
   "cell_type": "markdown",
   "id": "aff50401-3abe-4c10-bba8-b35bc13ad7d5",
   "metadata": {
    "tags": []
   },
   "source": [
    "## 4. Build the LSTM <a name=\"build\"></a>"
   ]
  },
  {
   "cell_type": "code",
   "execution_count": 17,
   "id": "9230b5bf-b4a8-48d5-b73b-6899a598f296",
   "metadata": {},
   "outputs": [
    {
     "name": "stdout",
     "output_type": "stream",
     "text": [
      "Model: \"model\"\n",
      "_________________________________________________________________\n",
      " Layer (type)                Output Shape              Param #   \n",
      "=================================================================\n",
      " input_1 (InputLayer)        [(None, None)]            0         \n",
      "                                                                 \n",
      " embedding (Embedding)       (None, None, 100)         1000000   \n",
      "                                                                 \n",
      " lstm (LSTM)                 (None, None, 128)         117248    \n",
      "                                                                 \n",
      " dense (Dense)               (None, None, 10000)       1290000   \n",
      "                                                                 \n",
      "=================================================================\n",
      "Total params: 2,407,248\n",
      "Trainable params: 2,407,248\n",
      "Non-trainable params: 0\n",
      "_________________________________________________________________\n"
     ]
    }
   ],
   "source": [
    "inputs = layers.Input(shape=(None,), dtype=\"int32\")\n",
    "x = layers.Embedding(VOCAB_SIZE, EMBEDDING_DIM)(inputs)\n",
    "x = layers.LSTM(N_UNITS, return_sequences=True)(x)\n",
    "outputs = layers.Dense(VOCAB_SIZE, activation=\"softmax\")(x)\n",
    "lstm = models.Model(inputs, outputs)\n",
    "lstm.summary()"
   ]
  },
  {
   "cell_type": "code",
   "execution_count": 18,
   "id": "800a3c6e-fb11-4792-b6bc-9a43a7c977ad",
   "metadata": {
    "tags": []
   },
   "outputs": [],
   "source": [
    "if LOAD_MODEL:\n",
    "    # model.load_weights('./models/model')\n",
    "    lstm = models.load_model(\"05_01_lstm/models/lstm\", compile=False)"
   ]
  },
  {
   "attachments": {},
   "cell_type": "markdown",
   "id": "35b14665-4359-447b-be58-3fd58ba69084",
   "metadata": {},
   "source": [
    "## 5. Train the LSTM <a name=\"train\"></a>"
   ]
  },
  {
   "cell_type": "code",
   "execution_count": 19,
   "id": "ffb1bd3b-6fd9-4536-973e-6375bbcbf16d",
   "metadata": {},
   "outputs": [],
   "source": [
    "loss_fn = losses.SparseCategoricalCrossentropy()\n",
    "lstm.compile(\"adam\", loss_fn)"
   ]
  },
  {
   "cell_type": "code",
   "execution_count": 20,
   "id": "3ddcff5f-829d-4449-99d2-9a3cb68f7d72",
   "metadata": {},
   "outputs": [],
   "source": [
    "# Create a TextGenerator checkpoint\n",
    "class TextGenerator(callbacks.Callback):\n",
    "    def __init__(self, index_to_word, top_k=10):\n",
    "        self.index_to_word = index_to_word\n",
    "        self.word_to_index = {\n",
    "            word: index for index, word in enumerate(index_to_word)\n",
    "        }  # <1>\n",
    "\n",
    "    def sample_from(self, probs, temperature):  # <2>\n",
    "        probs = probs ** (1 / temperature)\n",
    "        probs = probs / np.sum(probs)\n",
    "        return np.random.choice(len(probs), p=probs), probs\n",
    "\n",
    "    def generate(self, start_prompt, max_tokens, temperature):\n",
    "        start_tokens = [\n",
    "            self.word_to_index.get(x, 1) for x in start_prompt.split()\n",
    "        ]  # <3>\n",
    "        sample_token = None\n",
    "        info = []\n",
    "        while len(start_tokens) < max_tokens and sample_token != 0:  # <4>\n",
    "            x = np.array([start_tokens])\n",
    "            y = self.model.predict(x, verbose=0)  # <5>\n",
    "            sample_token, probs = self.sample_from(y[0][-1], temperature)  # <6>\n",
    "            info.append({\"prompt\": start_prompt, \"word_probs\": probs})\n",
    "            start_tokens.append(sample_token)  # <7>\n",
    "            start_prompt = start_prompt + \" \" + self.index_to_word[sample_token]\n",
    "        print(f\"\\ngenerated text:\\n{start_prompt}\\n\")\n",
    "        return info\n",
    "\n",
    "    def on_epoch_end(self, epoch, logs=None):\n",
    "        self.generate(\"recipe for\", max_tokens=100, temperature=1.0)"
   ]
  },
  {
   "cell_type": "code",
   "execution_count": 21,
   "id": "349865fe-ffbe-450e-97be-043ae1740e78",
   "metadata": {},
   "outputs": [],
   "source": [
    "# Create a model save checkpoint\n",
    "model_checkpoint_callback = callbacks.ModelCheckpoint(\n",
    "    filepath=\"05_01_lstm/checkpoint/checkpoint.ckpt\",\n",
    "    save_weights_only=True,\n",
    "    save_freq=\"epoch\",\n",
    "    verbose=0,\n",
    ")\n",
    "\n",
    "tensorboard_callback = callbacks.TensorBoard(log_dir=\"05_01_lstm/logs\")\n",
    "\n",
    "# Tokenize starting prompt\n",
    "text_generator = TextGenerator(vocab)"
   ]
  },
  {
   "cell_type": "code",
   "execution_count": 22,
   "id": "461c2b3e-b5ae-4def-8bd9-e7bab8c63d8e",
   "metadata": {
    "tags": []
   },
   "outputs": [
    {
     "name": "stdout",
     "output_type": "stream",
     "text": [
      "Epoch 1/25\n"
     ]
    },
    {
     "name": "stderr",
     "output_type": "stream",
     "text": [
      "2023-06-02 17:54:51.853728: I tensorflow/stream_executor/cuda/cuda_dnn.cc:384] Loaded cuDNN version 8100\n"
     ]
    },
    {
     "name": "stdout",
     "output_type": "stream",
     "text": [
      "629/629 [==============================] - ETA: 0s - loss: 4.4694\n",
      "generated text:\n",
      "recipe for thinning , garlic stuffing , oven | 4 heavy heat dark arugula . oven . pepper to transfer oil to cut marnier , about all carrot . heavy heavy quart in large bowl in cayenne , whisk . stir of overnight , platter or until to mixture of few - desired minutes . ( day for a fine juice ( cook heat . 2 pan occasionally , or pour pieces and transfer cooking in a strainer to spoon , about in high 20 to \n",
      "\n",
      "629/629 [==============================] - 22s 31ms/step - loss: 4.4694\n",
      "Epoch 2/25\n",
      "629/629 [==============================] - ETA: 0s - loss: 3.1577\n",
      "generated text:\n",
      "recipe for latin french peel heart | stir in salt , jalapeño and 2 powder , 5 juice , almonds , onion , on 2 slices , mint , about 1 / 5 ingredients in a colander whisk until grilling scones ) to a slotted heat 1 tablespoon black pat aside . corn chicken in chocolate overhangs . transfer \n",
      "\n",
      "629/629 [==============================] - 18s 29ms/step - loss: 3.1577\n",
      "Epoch 3/25\n",
      "628/629 [============================>.] - ETA: 0s - loss: 2.5880\n",
      "generated text:\n",
      "recipe for guajillo chicken with mussels and thyme | heat , and remaining 3 cups oil in a colander until small saucepan in heavy saucepan to taste until roux are reduced to moist clumps . divide bok among foil , and discard excess whipped oil . return muddle to remaining tomatoes ; beat until well blended . add the onion . peel and pears with sauce , and pepper . season soup with nut mixture to taste with reserved chocolate . add until meat is inner to the easy golden ( and been chartreuse begins to 4 heated de coals\n",
      "\n",
      "629/629 [==============================] - 20s 31ms/step - loss: 2.5874\n",
      "Epoch 4/25\n",
      "629/629 [==============================] - ETA: 0s - loss: 2.3107\n",
      "generated text:\n",
      "recipe for creamy edamame - apricot braised sauce | preheat oven to 400°f . reheat cakes to simmer and cook until a shade puffed , 12 to 25 minutes for overnight . \n",
      "\n",
      "629/629 [==============================] - 18s 28ms/step - loss: 2.3107\n",
      "Epoch 5/25\n",
      "629/629 [==============================] - ETA: 0s - loss: 2.1498\n",
      "generated text:\n",
      "recipe for prosciutto , pineapple , dill , white , alternating | a glass with pancetta , then roll down , and 13 to dot 2 inches from 11 - cup by 8 - free , 4 to 8 inches , 2 inches from the corn , skin and sides of dry as softened , then in the beaters process together water , the celery - half of apricots , and milk mixture forms a little . taste for each rum , then make the brittle , jamón the cracker , and pomegranate slices into long cubes . divide among\n",
      "\n",
      "629/629 [==============================] - 19s 31ms/step - loss: 2.1498\n",
      "Epoch 6/25\n",
      "628/629 [============================>.] - ETA: 0s - loss: 2.0385\n",
      "generated text:\n",
      "recipe for scallop - marinated lamb with pork tarts | in a bowl with an electric mixer beat the ingredients until smooth , glossy peaks . preheat to 500°f with parchment a paper towels , or freeze for at least 1 hour . pull the ghee : cut bread lengthwise into stems and score the flour , place the grain on the sheets in the pan . chill overnight , turning for 30 minutes . cut the artichokes on the edge is completely set , 2 to 13 inches the pan and up the loaf pan . you across advance\n",
      "\n",
      "629/629 [==============================] - 20s 32ms/step - loss: 2.0384\n",
      "Epoch 7/25\n",
      "629/629 [==============================] - ETA: 0s - loss: 1.9544\n",
      "generated text:\n",
      "recipe for roast turkey with beets , mozzarella , and raisins topping | preheat oven to 375°f . line shaker and baking sheets , grind to coarse salt . scoop out a greased 8 - inch baking pan , then pour over liquid over 1 minute . transfer cake to rack . do ahead : can be made 4 hours ahead . cool . cover and continue to coat about 1 / 2 hours . transfer to a bowl ; cool . let stand at room temperature until tops remain before adding honey . ) strain into a buttered 6\n",
      "\n",
      "629/629 [==============================] - 20s 31ms/step - loss: 1.9544\n",
      "Epoch 8/25\n",
      "628/629 [============================>.] - ETA: 0s - loss: 1.8901\n",
      "generated text:\n",
      "recipe for easy beef chili \" chicken | blend first 4 ingredients into the hummus . brush 1 cup of heavy gas grill pan over moderate heat , stirring once or twice , until most of meat is cooking enough to 1 1 / 2 hours while cooked . in a small microwave pan toast the beans , stirring occasionally , for 8 minutes , or until browned and fragrant . remove from heat for another use or peeler and seed and transfer to paper towels . meanwhile , transfer a mixing bowl to place the bread thoroughly . warm\n",
      "\n",
      "629/629 [==============================] - 20s 31ms/step - loss: 1.8900\n",
      "Epoch 9/25\n",
      "629/629 [==============================] - ETA: 0s - loss: 1.8387\n",
      "generated text:\n",
      "recipe for fettuccine with crème fraîche and mushroom sauce | whisk together and lemon juice and oil in a small bowl with a mortar and pestle , then blend well . butter and pound to package instructions . reserve one base remaining tablespoon oil . whisk first 4 ingredients in a medium bowl ( adjust to [UNK] ) . pour dollops of peanut mixture in skillet to cover and cook until fat is absorbed , about 4 minutes . transfer pine nuts and stacking as directed . hold watermelon wedge for a foil , thread about 6 tablespoons cheese .\n",
      "\n",
      "629/629 [==============================] - 20s 31ms/step - loss: 1.8387\n",
      "Epoch 10/25\n",
      "628/629 [============================>.] - ETA: 0s - loss: 1.7965\n",
      "generated text:\n",
      "recipe for steamed chicken and asparagus corn for eggplants | in a large heavy skillet heat , buttermilk vinegar , bell pepper , and salt , stirring frequently until pepper is softened , about 30 seconds . turn off heat and cook in oil and stir in parsley cheese . cool , draft - inch - high power to room temperature . diagonally 10 to 12 1 / 4 - inch each of edge of meat , then held kitchen string halve . place 1 cole pesto and spread seeds inside a large baking sheet . chill , covered .\n",
      "\n",
      "629/629 [==============================] - 20s 31ms/step - loss: 1.7967\n",
      "Epoch 11/25\n",
      "628/629 [============================>.] - ETA: 0s - loss: 1.7613\n",
      "generated text:\n",
      "recipe for lamb with tomato - roasted - lemongrass coconut dressing | simmer collard greens in small saucepan of boiling salted water until desired , about 1 minute . transfer corn and garlic to pot . add wine ; bring to boil . reduce heat to medium - low . add plantain . cover and simmer until chicken is chicken is tender , stirring occasionally , about 25 minutes longer . ( can be made 1 day ahead . keep refrigerated . ) \n",
      "\n",
      "629/629 [==============================] - 19s 30ms/step - loss: 1.7611\n",
      "Epoch 12/25\n",
      "629/629 [==============================] - ETA: 0s - loss: 1.7311\n",
      "generated text:\n",
      "recipe for curried cosmopolitan waffles | combine cajun wine and fruit in a bowl stir the strawberries with 1 1 / 2 cup yogurt and spread of some of ice water to bring to a boil . cover and simmer , stirring and until the eggs are soft , about 8 minutes . add apricots and stir to low . a cool and blend until smooth and strain through a fine sieve ( into 1 cup ) ; return to a bowl . place oranges , olive oil , and lemon peel in a small bowl . let stand until\n",
      "\n",
      "629/629 [==============================] - 20s 31ms/step - loss: 1.7311\n",
      "Epoch 13/25\n",
      "628/629 [============================>.] - ETA: 0s - loss: 1.7048\n",
      "generated text:\n",
      "recipe for herbed corn pudding | combine 2 tablespoons chocolate , sugar and 3 tablespoons oil in large skillet over medium heat until warm . add cooked seconds , then cook until tender , about 6 minutes . add crushed mushrooms ; stir until warmed to brown , about 2 minutes . stir in beef , rosemary , rum . mix mix in truffle oil . using small slotted spoon , cut sections crosswise into strips . working in batches , skewer , cut chicken in half . roll rectangle into 1 / 4 - inch - wide . 4\n",
      "\n",
      "629/629 [==============================] - 20s 31ms/step - loss: 1.7048\n",
      "Epoch 14/25\n",
      "628/629 [============================>.] - ETA: 0s - loss: 1.6818\n",
      "generated text:\n",
      "recipe for peppery apple sauce | pour chicken into large bowl ; stir on low to coat . cook with 1 1 / 2 cups water if necessary . add garlic and cinnamon jalapeños ; sauté until potatoes are tender and browned on all just cooked through , about 5 minutes longer . remove from heat , tilting skillet 2 to 4 inches from heat pot . pour syrup through cheese mixture and transfer to prepared baking . bake until golden brown , about 3 hours . cool slightly , 1 day to 400°f . whisk paste , parsnip ,\n",
      "\n",
      "629/629 [==============================] - 20s 31ms/step - loss: 1.6818\n",
      "Epoch 15/25\n",
      "629/629 [==============================] - ETA: 0s - loss: 1.6611\n",
      "generated text:\n",
      "recipe for plum or green vegetable iced | combine lemongrass , vegetable , water , 2 teaspoons sugar , and lemon peel in a large bowl . strain broth into saucepan . add wine and boil until reduced by about 1 about about 10 inches , then stir in crème fraîche . reduce heat to medium - low and boil until berries burst , 6 to 6 minutes . transfer skillet to heavy medium high . cook 5 minutes ; transfer to medium bowl . using electric mixer , scrape down bowl from membranes to cover by hand . spoon\n",
      "\n",
      "629/629 [==============================] - 20s 32ms/step - loss: 1.6611\n",
      "Epoch 16/25\n",
      "628/629 [============================>.] - ETA: 0s - loss: 1.6427\n",
      "generated text:\n",
      "recipe for plums - [UNK] with chocolate crumbs , arugula and molasses | using an electric mixer , beat cream and butter in a large bowl until light golden and fluffy , 18 to 12 minutes . toss with almond extract , and salt in a food processor . whisk in yogurt , zest , and 1 tablespoon vanilla , cream , milk , sugar , remaining 2 teaspoons salt , cinnamon in a bowl , and fold in the flesh of berries , water , and black pepper . spread frangipane on a ball . bake , undisturbed ,\n",
      "\n",
      "629/629 [==============================] - 20s 32ms/step - loss: 1.6425\n",
      "Epoch 17/25\n",
      "628/629 [============================>.] - ETA: 0s - loss: 1.6255\n",
      "generated text:\n",
      "recipe for mexican pastry | 1 and 3 . in large bowl of a steamer set over boiling water drain , shaking off excess and tear off the recipe and the claws . cut the chicken into but 1 / 8 inch thick and discard them . put the pork in a small bowl and slice them crosswise into 3 pieces ( you ' ll need about 1 / 2 cup ) , transfering any bits of enough of from the stock . prepare the pan : in a large saucepan heat the griddle or boiling point while it is\n",
      "\n",
      "629/629 [==============================] - 20s 31ms/step - loss: 1.6257\n",
      "Epoch 18/25\n",
      "629/629 [==============================] - ETA: 0s - loss: 1.6100\n",
      "generated text:\n",
      "recipe for apple - roasted potato latkes with fork | combine first 3 ingredients in heavy medium saucepan . cover ; bring to boil . add onions , celery , and lemon peel and rosemary . reduce heat . simmer until nuts are soft , stirring occasionally , about 20 minutes . whisk in 1 tablespoon sugar and remaining 3 tablespoons oil ; cool , uncovered . feed tube in processor ; process until moist crumbs form , about 9 minutes . transfer to large bowl . toss potatoes , onion , chopped nutmeg , and ground cardamom in medium\n",
      "\n",
      "629/629 [==============================] - 20s 31ms/step - loss: 1.6100\n",
      "Epoch 19/25\n",
      "628/629 [============================>.] - ETA: 0s - loss: 1.5958\n",
      "generated text:\n",
      "recipe for coconut poundcake blts on red rice with tomatoes and tomato | put oven rack in middle position and preheat oven to 450°f . pierce bacon edge of steak to a damp kitchen towel to fold it over body , and bouquet garni between body . keep warm loosely with foil and roast bread at least 2 hours and up to 1 day . halve tomatoes lengthwise and cut into 1 - inch pieces . in a small saucepan push wasabi dipping salt to taste and remaining 1 / 4 teaspoon salt and lemon juice . pat fish dry\n",
      "\n",
      "629/629 [==============================] - 20s 31ms/step - loss: 1.5956\n",
      "Epoch 20/25\n",
      "629/629 [==============================] - ETA: 0s - loss: 1.5825\n",
      "generated text:\n",
      "recipe for yams with kumquat - turf with ginger gremolata | place figs and water in heavy large saucepan . bring to boil . add maple syrup and sherry until reduced to 1 cup . boil sauce , whisking until caramel is melted , about 4 minutes . remove from heat and bring to a simmer over medium - low heat . whisk in whipping cream and bulgur until medium - mojito just firm and thick , whisking to thick enough to almost smooth . transfer sauce to bowl ; cool . boil 3 tablespoons butter in heavy saucepan until\n",
      "\n",
      "629/629 [==============================] - 20s 32ms/step - loss: 1.5825\n",
      "Epoch 21/25\n",
      "628/629 [============================>.] - ETA: 0s - loss: 1.5698\n",
      "generated text:\n",
      "recipe for rich bloody mary | in a blender blend together the carrots , the cumin , the herbs , the carrot , the celery seeds , the sour cream , the cucumber , the pepper , the sour cream , the sauce , and salt . gradually beat the in the oil until the water come together at a well incorporated . pour the bacon into a gratin dish and set it back set over it . dredge the fillets in the middle of a preheated 425°f oven until it begins to cook it is cooked through . 2\n",
      "\n",
      "629/629 [==============================] - 20s 31ms/step - loss: 1.5698\n",
      "Epoch 22/25\n",
      "629/629 [==============================] - ETA: 0s - loss: 1.5581\n",
      "generated text:\n",
      "recipe for raspberry compote | combine all ingredients except cherries in 8x8x2 - inch glass baking dish . pour berry mixture into pan . sprinkle with 1 tablespoon corn syrup and serve hot . \n",
      "\n",
      "629/629 [==============================] - 17s 28ms/step - loss: 1.5581\n",
      "Epoch 23/25\n",
      "629/629 [==============================] - ETA: 0s - loss: 1.5478\n",
      "generated text:\n",
      "recipe for steak - sour sandwiches with italian honey and olive dressing | preheat oven to 400° . finely chop the slices , broccoli seeds , and grate and seeds on the tomatoes with the ginger in a large bowl . in a bowl whisk together the onion , the almonds , the minced thyme and rosemary spread , and set aside . bring the mixture to a boil , and mix in the remaining 1 / 3 cup of the vinegar , a little at a time , or the mixture through the batter , adding enough hot water\n",
      "\n",
      "629/629 [==============================] - 20s 31ms/step - loss: 1.5478\n",
      "Epoch 24/25\n",
      "628/629 [============================>.] - ETA: 0s - loss: 1.5373\n",
      "generated text:\n",
      "recipe for cranberry dipping sauce | let a bowl soak according to manufacturer ' s instructions . transfer ice water to a 3 - to very shallow tart pan to room temperature . beat another 1 tablespoon cracked until the edges are very soft and pale golden . put 1 / 2 cup of the sugar just to the bottom in a large bowl . 5 . put the remaining cherries in cups of a half and 1 / 2 - quart four 2 - quart mug and toss to blend well . 2 . in a large skillet over\n",
      "\n",
      "629/629 [==============================] - 20s 32ms/step - loss: 1.5371\n",
      "Epoch 25/25\n",
      "629/629 [==============================] - ETA: 0s - loss: 1.5273\n",
      "generated text:\n",
      "recipe for cardamom - glazed soufflé with shortbread cookies | preheat oven to 375°f . mix first 6 ingredients in processor . add orange peel and crush fennel seeds and gently stir together with yogurt , lemon juice , lime juice , and 1 tablespoon sugar until a spatula just forms a more consistency , then pour into hot syrup until melted and smooth , and divide into apple , and chill mixture overnight . \n",
      "\n",
      "629/629 [==============================] - 19s 30ms/step - loss: 1.5273\n",
      "CPU times: user 5min 39s, sys: 9.84 s, total: 5min 49s\n",
      "Wall time: 8min 7s\n"
     ]
    },
    {
     "data": {
      "text/plain": [
       "<keras.callbacks.History at 0x7fed74e45880>"
      ]
     },
     "execution_count": 22,
     "metadata": {},
     "output_type": "execute_result"
    }
   ],
   "source": [
    "%%time\n",
    "lstm.fit(\n",
    "    train_ds,\n",
    "    epochs=EPOCHS,\n",
    "    callbacks=[model_checkpoint_callback, tensorboard_callback, text_generator],\n",
    ")"
   ]
  },
  {
   "cell_type": "code",
   "execution_count": 23,
   "id": "369bde44-2e39-4bc6-8549-a3a27ecce55c",
   "metadata": {
    "tags": []
   },
   "outputs": [
    {
     "name": "stderr",
     "output_type": "stream",
     "text": [
      "WARNING:absl:Found untraced functions such as lstm_cell_layer_call_fn, lstm_cell_layer_call_and_return_conditional_losses while saving (showing 2 of 2). These functions will not be directly callable after loading.\n"
     ]
    },
    {
     "name": "stdout",
     "output_type": "stream",
     "text": [
      "INFO:tensorflow:Assets written to: 05_01_lstm/models/lstm/assets\n"
     ]
    },
    {
     "name": "stderr",
     "output_type": "stream",
     "text": [
      "INFO:tensorflow:Assets written to: 05_01_lstm/models/lstm/assets\n"
     ]
    }
   ],
   "source": [
    "# Save the final model\n",
    "lstm.save(\"05_01_lstm/models/lstm\")"
   ]
  },
  {
   "attachments": {},
   "cell_type": "markdown",
   "id": "d64e02d2-84dc-40c8-8446-40c09adf1e20",
   "metadata": {},
   "source": [
    "## 6. Generate text using the LSTM"
   ]
  },
  {
   "cell_type": "code",
   "execution_count": 24,
   "id": "4ad23adb-3ec9-4e9a-9a59-b9f9bafca649",
   "metadata": {},
   "outputs": [],
   "source": [
    "def print_probs(info, vocab, top_k=5):\n",
    "    for i in info:\n",
    "        print(f\"\\nPROMPT: {i['prompt']}\")\n",
    "        word_probs = i[\"word_probs\"]\n",
    "        p_sorted = np.sort(word_probs)[::-1][:top_k]\n",
    "        i_sorted = np.argsort(word_probs)[::-1][:top_k]\n",
    "        for p, i in zip(p_sorted, i_sorted):\n",
    "            print(f\"{vocab[i]}:   \\t{np.round(100*p,2)}%\")\n",
    "        print(\"--------\\n\")"
   ]
  },
  {
   "cell_type": "code",
   "execution_count": 25,
   "id": "3cf25578-d47c-4b26-8252-fcdf2316a4ac",
   "metadata": {},
   "outputs": [
    {
     "name": "stdout",
     "output_type": "stream",
     "text": [
      "\n",
      "generated text:\n",
      "recipe for roasted vegetables | chop 1 / 4 cup\n",
      "\n"
     ]
    }
   ],
   "source": [
    "info = text_generator.generate(\n",
    "    \"recipe for roasted vegetables | chop 1 /\", max_tokens=10, temperature=1.0\n",
    ")"
   ]
  },
  {
   "cell_type": "code",
   "execution_count": 26,
   "id": "9df72866-b483-4489-8e26-d5e1466410fa",
   "metadata": {
    "tags": []
   },
   "outputs": [
    {
     "name": "stdout",
     "output_type": "stream",
     "text": [
      "\n",
      "PROMPT: recipe for roasted vegetables | chop 1 /\n",
      "4:   \t40.59%\n",
      "2:   \t39.09%\n",
      "3:   \t10.32%\n",
      "8:   \t5.24%\n",
      "1:   \t1.34%\n",
      "--------\n",
      "\n",
      "\n",
      "PROMPT: recipe for roasted vegetables | chop 1 / 4\n",
      "cup:   \t54.21%\n",
      "-:   \t17.75%\n",
      "teaspoon:   \t8.26%\n",
      "of:   \t7.41%\n",
      "inch:   \t3.73%\n",
      "--------\n",
      "\n"
     ]
    }
   ],
   "source": [
    "print_probs(info, vocab)"
   ]
  },
  {
   "cell_type": "code",
   "execution_count": 27,
   "id": "562e1fe8-cbcb-438f-9637-2f2a6279c924",
   "metadata": {},
   "outputs": [
    {
     "name": "stdout",
     "output_type": "stream",
     "text": [
      "\n",
      "generated text:\n",
      "recipe for roasted vegetables | chop 1 / 4 cup\n",
      "\n"
     ]
    }
   ],
   "source": [
    "info = text_generator.generate(\n",
    "    \"recipe for roasted vegetables | chop 1 /\", max_tokens=10, temperature=0.2\n",
    ")"
   ]
  },
  {
   "cell_type": "code",
   "execution_count": 28,
   "id": "56356f21-04ac-40e5-94ff-291eca6a7054",
   "metadata": {},
   "outputs": [
    {
     "name": "stdout",
     "output_type": "stream",
     "text": [
      "\n",
      "PROMPT: recipe for roasted vegetables | chop 1 /\n",
      "4:   \t54.67%\n",
      "2:   \t45.27%\n",
      "3:   \t0.06%\n",
      "8:   \t0.0%\n",
      "1:   \t0.0%\n",
      "--------\n",
      "\n",
      "\n",
      "PROMPT: recipe for roasted vegetables | chop 1 / 4\n",
      "cup:   \t99.61%\n",
      "-:   \t0.37%\n",
      "teaspoon:   \t0.01%\n",
      "of:   \t0.0%\n",
      "inch:   \t0.0%\n",
      "--------\n",
      "\n"
     ]
    }
   ],
   "source": [
    "print_probs(info, vocab)"
   ]
  },
  {
   "cell_type": "code",
   "execution_count": 29,
   "id": "2e434497-07f3-4989-a68d-3e31cf8fa4fe",
   "metadata": {},
   "outputs": [
    {
     "name": "stdout",
     "output_type": "stream",
     "text": [
      "\n",
      "generated text:\n",
      "recipe for chocolate ice cream | combine\n",
      "\n",
      "\n",
      "PROMPT: recipe for chocolate ice cream |\n",
      "in:   \t22.71%\n",
      "combine:   \t10.85%\n",
      "bring:   \t8.7%\n",
      "stir:   \t6.12%\n",
      "1:   \t5.84%\n",
      "--------\n",
      "\n"
     ]
    }
   ],
   "source": [
    "info = text_generator.generate(\n",
    "    \"recipe for chocolate ice cream |\", max_tokens=7, temperature=1.0\n",
    ")\n",
    "print_probs(info, vocab)"
   ]
  },
  {
   "cell_type": "code",
   "execution_count": 30,
   "id": "011cd0e0-956c-4a63-8ec3-f7dfed31764e",
   "metadata": {},
   "outputs": [
    {
     "name": "stdout",
     "output_type": "stream",
     "text": [
      "\n",
      "generated text:\n",
      "recipe for chocolate ice cream | in\n",
      "\n",
      "\n",
      "PROMPT: recipe for chocolate ice cream |\n",
      "in:   \t96.51%\n",
      "combine:   \t2.41%\n",
      "bring:   \t0.8%\n",
      "stir:   \t0.14%\n",
      "1:   \t0.11%\n",
      "--------\n",
      "\n"
     ]
    }
   ],
   "source": [
    "info = text_generator.generate(\n",
    "    \"recipe for chocolate ice cream |\", max_tokens=7, temperature=0.2\n",
    ")\n",
    "print_probs(info, vocab)"
   ]
  },
  {
   "cell_type": "code",
   "execution_count": 31,
   "id": "ccb523fa",
   "metadata": {},
   "outputs": [
    {
     "name": "stdout",
     "output_type": "stream",
     "text": [
      "# Run Date: Friday, June 02, 2023\n",
      "# Run Time: 00:08:16\n"
     ]
    }
   ],
   "source": [
    "endTime = time.time()\n",
    "\n",
    "elapsedTime = time.strftime(\"%H:%M:%S\", time.gmtime(endTime - startTime))\n",
    "\n",
    "print(todaysDate.strftime('# Run Date: %A, %B %d, %Y'))\n",
    "print(f\"# Run Time: {elapsedTime}\")"
   ]
  }
 ],
 "metadata": {
  "kernelspec": {
   "display_name": "Python 3 (ipykernel)",
   "language": "python",
   "name": "python3"
  },
  "language_info": {
   "codemirror_mode": {
    "name": "ipython",
    "version": 3
   },
   "file_extension": ".py",
   "mimetype": "text/x-python",
   "name": "python",
   "nbconvert_exporter": "python",
   "pygments_lexer": "ipython3",
   "version": "3.8.10"
  }
 },
 "nbformat": 4,
 "nbformat_minor": 5
}
