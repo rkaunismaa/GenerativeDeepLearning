{
 "cells": [
  {
   "cell_type": "code",
   "execution_count": null,
   "id": "93b45ed4",
   "metadata": {},
   "outputs": [],
   "source": [
    "# Run Date: Monday, June 05, 2023\n",
    "# Run Time: 00:05:59"
   ]
  },
  {
   "cell_type": "code",
   "execution_count": 1,
   "id": "4f7314ee",
   "metadata": {},
   "outputs": [],
   "source": [
    "import time\n",
    "from datetime import date\n",
    "\n",
    "startTime = time.time()\n",
    "todaysDate = date.today()"
   ]
  },
  {
   "attachments": {},
   "cell_type": "markdown",
   "id": "b076bd1a-b236-4fbc-953d-8295b25122ae",
   "metadata": {},
   "source": [
    "# 🚀 GPT"
   ]
  },
  {
   "attachments": {},
   "cell_type": "markdown",
   "id": "4dca6836-0007-43f3-af65-d12ae1922c02",
   "metadata": {
    "tags": []
   },
   "source": [
    "In this notebook, we'll walk through the steps required to train your own GPT model on the wine review dataset"
   ]
  },
  {
   "attachments": {},
   "cell_type": "markdown",
   "id": "3e6cb7c7-d3d5-4b12-b357-1f6118edffe0",
   "metadata": {},
   "source": [
    "The code is adapted from the excellent [GPT tutorial](https://keras.io/examples/generative/text_generation_with_miniature_gpt/) created by Apoorv Nandan available on the Keras website."
   ]
  },
  {
   "cell_type": "code",
   "execution_count": 2,
   "id": "73350761-bef2-4e96-b3ac-a158eabd2b65",
   "metadata": {
    "tags": []
   },
   "outputs": [
    {
     "name": "stderr",
     "output_type": "stream",
     "text": [
      "2023-06-05 14:25:49.187720: I tensorflow/core/platform/cpu_feature_guard.cc:193] This TensorFlow binary is optimized with oneAPI Deep Neural Network Library (oneDNN) to use the following CPU instructions in performance-critical operations:  AVX2 FMA\n",
      "To enable them in other operations, rebuild TensorFlow with the appropriate compiler flags.\n",
      "2023-06-05 14:25:49.301291: E tensorflow/stream_executor/cuda/cuda_blas.cc:2981] Unable to register cuBLAS factory: Attempting to register factory for plugin cuBLAS when one has already been registered\n"
     ]
    }
   ],
   "source": [
    "%load_ext autoreload\n",
    "%autoreload 2\n",
    "import numpy as np\n",
    "import json\n",
    "import re\n",
    "import string\n",
    "from IPython.display import display, HTML\n",
    "\n",
    "import tensorflow as tf\n",
    "from tensorflow.keras import layers, models, losses, callbacks"
   ]
  },
  {
   "attachments": {},
   "cell_type": "markdown",
   "id": "339e6268-ebd7-4feb-86db-1fe7abccdbe5",
   "metadata": {},
   "source": [
    "## 0. Parameters <a name=\"parameters\"></a>"
   ]
  },
  {
   "cell_type": "code",
   "execution_count": 3,
   "id": "2d8352af-343e-4c2e-8c91-95f8bac1c8a1",
   "metadata": {},
   "outputs": [],
   "source": [
    "VOCAB_SIZE = 10000\n",
    "MAX_LEN = 80\n",
    "EMBEDDING_DIM = 256\n",
    "KEY_DIM = 256\n",
    "N_HEADS = 2\n",
    "FEED_FORWARD_DIM = 256\n",
    "VALIDATION_SPLIT = 0.2\n",
    "SEED = 42\n",
    "LOAD_MODEL = False\n",
    "BATCH_SIZE = 32\n",
    "EPOCHS = 5"
   ]
  },
  {
   "attachments": {},
   "cell_type": "markdown",
   "id": "b7716fac-0010-49b0-b98e-53be2259edde",
   "metadata": {},
   "source": [
    "## 1. Load the data <a name=\"load\"></a>"
   ]
  },
  {
   "cell_type": "code",
   "execution_count": 4,
   "id": "b6746ccb",
   "metadata": {},
   "outputs": [],
   "source": [
    "wineMagData = '/tf/All/Data/Documents/Github/davidADSP/data/WineReviews/winemag-data-130k-v2.json'"
   ]
  },
  {
   "cell_type": "code",
   "execution_count": 5,
   "id": "93cf6b0f-9667-4146-8911-763a8a2925d3",
   "metadata": {
    "tags": []
   },
   "outputs": [],
   "source": [
    "# Load the full dataset\n",
    "with open(wineMagData) as json_data:\n",
    "    wine_data = json.load(json_data)"
   ]
  },
  {
   "cell_type": "code",
   "execution_count": 6,
   "id": "2db5c0fc-0d5f-42ab-ade1-57e594c416ec",
   "metadata": {
    "tags": []
   },
   "outputs": [
    {
     "data": {
      "text/plain": [
       "{'points': '87',\n",
       " 'title': 'Kirkland Signature 2011 Mountain Cuvée Cabernet Sauvignon (Napa Valley)',\n",
       " 'description': 'Soft, supple plum envelopes an oaky structure in this Cabernet, supported by 15% Merlot. Coffee and chocolate complete the picture, finishing strong at the end, resulting in a value-priced wine of attractive flavor and immediate accessibility.',\n",
       " 'taster_name': 'Virginie Boone',\n",
       " 'taster_twitter_handle': '@vboone',\n",
       " 'price': 19,\n",
       " 'designation': 'Mountain Cuvée',\n",
       " 'variety': 'Cabernet Sauvignon',\n",
       " 'region_1': 'Napa Valley',\n",
       " 'region_2': 'Napa',\n",
       " 'province': 'California',\n",
       " 'country': 'US',\n",
       " 'winery': 'Kirkland Signature'}"
      ]
     },
     "execution_count": 6,
     "metadata": {},
     "output_type": "execute_result"
    }
   ],
   "source": [
    "wine_data[10]"
   ]
  },
  {
   "cell_type": "code",
   "execution_count": 7,
   "id": "23a74eca-f1b7-4a46-9a1f-b5806a4ed361",
   "metadata": {
    "tags": []
   },
   "outputs": [],
   "source": [
    "# Filter the dataset\n",
    "filtered_data = [\n",
    "    \"wine review : \"\n",
    "    + x[\"country\"]\n",
    "    + \" : \"\n",
    "    + x[\"province\"]\n",
    "    + \" : \"\n",
    "    + x[\"variety\"]\n",
    "    + \" : \"\n",
    "    + x[\"description\"]\n",
    "    for x in wine_data\n",
    "    if x[\"country\"] is not None\n",
    "    and x[\"province\"] is not None\n",
    "    and x[\"variety\"] is not None\n",
    "    and x[\"description\"] is not None\n",
    "]"
   ]
  },
  {
   "cell_type": "code",
   "execution_count": 8,
   "id": "389c20de-0422-4c48-a7b4-6ee12a7bf0e2",
   "metadata": {
    "tags": []
   },
   "outputs": [
    {
     "name": "stdout",
     "output_type": "stream",
     "text": [
      "129907 recipes loaded\n"
     ]
    }
   ],
   "source": [
    "# Count the recipes\n",
    "n_wines = len(filtered_data)\n",
    "print(f\"{n_wines} recipes loaded\")"
   ]
  },
  {
   "cell_type": "code",
   "execution_count": 9,
   "id": "1b2e3cf7-e416-460e-874a-0dd9637bca36",
   "metadata": {},
   "outputs": [
    {
     "name": "stdout",
     "output_type": "stream",
     "text": [
      "wine review : US : California : Pinot Noir : Oak and earth intermingle around robust aromas of wet forest floor in this vineyard-designated Pinot that hails from a high-elevation site. Small in production, it offers intense, full-bodied raspberry and blackberry steeped in smoky spice and smooth texture.\n"
     ]
    }
   ],
   "source": [
    "example = filtered_data[25]\n",
    "print(example)"
   ]
  },
  {
   "attachments": {},
   "cell_type": "markdown",
   "id": "3f871aaf-d873-41c7-8946-e4eef7ac17c1",
   "metadata": {},
   "source": [
    "## 2. Tokenize the data <a name=\"tokenize\"></a>"
   ]
  },
  {
   "cell_type": "code",
   "execution_count": 10,
   "id": "5b2064fb-5dcc-4657-b470-0928d10e2ddc",
   "metadata": {
    "tags": []
   },
   "outputs": [],
   "source": [
    "# Pad the punctuation, to treat them as separate 'words'\n",
    "def pad_punctuation(s):\n",
    "    s = re.sub(f\"([{string.punctuation}, '\\n'])\", r\" \\1 \", s)\n",
    "    s = re.sub(\" +\", \" \", s)\n",
    "    return s\n",
    "\n",
    "\n",
    "text_data = [pad_punctuation(x) for x in filtered_data]"
   ]
  },
  {
   "cell_type": "code",
   "execution_count": 11,
   "id": "b87d7c65-9a46-492a-a5c0-a043b0d252f3",
   "metadata": {},
   "outputs": [
    {
     "data": {
      "text/plain": [
       "'wine review : US : California : Pinot Noir : Oak and earth intermingle around robust aromas of wet forest floor in this vineyard - designated Pinot that hails from a high - elevation site . Small in production , it offers intense , full - bodied raspberry and blackberry steeped in smoky spice and smooth texture . '"
      ]
     },
     "execution_count": 11,
     "metadata": {},
     "output_type": "execute_result"
    }
   ],
   "source": [
    "# Display an example of a recipe\n",
    "example_data = text_data[25]\n",
    "example_data"
   ]
  },
  {
   "cell_type": "code",
   "execution_count": 12,
   "id": "9834f916-b21a-4104-acc9-f28d3bd7a8c1",
   "metadata": {
    "tags": []
   },
   "outputs": [
    {
     "name": "stderr",
     "output_type": "stream",
     "text": [
      "2023-06-05 14:25:57.937286: I tensorflow/stream_executor/cuda/cuda_gpu_executor.cc:980] successful NUMA node read from SysFS had negative value (-1), but there must be at least one NUMA node, so returning NUMA node zero\n",
      "2023-06-05 14:25:57.937476: I tensorflow/stream_executor/cuda/cuda_gpu_executor.cc:980] successful NUMA node read from SysFS had negative value (-1), but there must be at least one NUMA node, so returning NUMA node zero\n",
      "2023-06-05 14:25:57.939463: I tensorflow/stream_executor/cuda/cuda_gpu_executor.cc:980] successful NUMA node read from SysFS had negative value (-1), but there must be at least one NUMA node, so returning NUMA node zero\n",
      "2023-06-05 14:25:57.939613: I tensorflow/stream_executor/cuda/cuda_gpu_executor.cc:980] successful NUMA node read from SysFS had negative value (-1), but there must be at least one NUMA node, so returning NUMA node zero\n",
      "2023-06-05 14:25:57.939750: I tensorflow/stream_executor/cuda/cuda_gpu_executor.cc:980] successful NUMA node read from SysFS had negative value (-1), but there must be at least one NUMA node, so returning NUMA node zero\n",
      "2023-06-05 14:25:57.939922: I tensorflow/stream_executor/cuda/cuda_gpu_executor.cc:980] successful NUMA node read from SysFS had negative value (-1), but there must be at least one NUMA node, so returning NUMA node zero\n",
      "2023-06-05 14:25:57.940037: I tensorflow/core/common_runtime/gpu/gpu_device.cc:2006] Ignoring visible gpu device (device: 1, name: NVIDIA GeForce GTX 1050, pci bus id: 0000:01:00.0, compute capability: 6.1) with core count: 5. The minimum required count is 8. You can adjust this requirement with the env var TF_MIN_GPU_MULTIPROCESSOR_COUNT.\n",
      "2023-06-05 14:25:57.940295: I tensorflow/core/platform/cpu_feature_guard.cc:193] This TensorFlow binary is optimized with oneAPI Deep Neural Network Library (oneDNN) to use the following CPU instructions in performance-critical operations:  AVX2 FMA\n",
      "To enable them in other operations, rebuild TensorFlow with the appropriate compiler flags.\n",
      "2023-06-05 14:25:57.940805: I tensorflow/stream_executor/cuda/cuda_gpu_executor.cc:980] successful NUMA node read from SysFS had negative value (-1), but there must be at least one NUMA node, so returning NUMA node zero\n",
      "2023-06-05 14:25:57.940987: I tensorflow/stream_executor/cuda/cuda_gpu_executor.cc:980] successful NUMA node read from SysFS had negative value (-1), but there must be at least one NUMA node, so returning NUMA node zero\n",
      "2023-06-05 14:25:57.941275: I tensorflow/stream_executor/cuda/cuda_gpu_executor.cc:980] successful NUMA node read from SysFS had negative value (-1), but there must be at least one NUMA node, so returning NUMA node zero\n",
      "2023-06-05 14:25:58.373864: I tensorflow/stream_executor/cuda/cuda_gpu_executor.cc:980] successful NUMA node read from SysFS had negative value (-1), but there must be at least one NUMA node, so returning NUMA node zero\n",
      "2023-06-05 14:25:58.374111: I tensorflow/stream_executor/cuda/cuda_gpu_executor.cc:980] successful NUMA node read from SysFS had negative value (-1), but there must be at least one NUMA node, so returning NUMA node zero\n",
      "2023-06-05 14:25:58.374250: I tensorflow/stream_executor/cuda/cuda_gpu_executor.cc:980] successful NUMA node read from SysFS had negative value (-1), but there must be at least one NUMA node, so returning NUMA node zero\n",
      "2023-06-05 14:25:58.374379: I tensorflow/core/common_runtime/gpu/gpu_device.cc:1616] Created device /job:localhost/replica:0/task:0/device:GPU:0 with 6649 MB memory:  -> device: 0, name: NVIDIA GeForce RTX 2070 SUPER, pci bus id: 0000:02:00.0, compute capability: 7.5\n"
     ]
    }
   ],
   "source": [
    "# Convert to a Tensorflow Dataset\n",
    "text_ds = (\n",
    "    tf.data.Dataset.from_tensor_slices(text_data)\n",
    "    .batch(BATCH_SIZE)\n",
    "    .shuffle(1000)\n",
    ")"
   ]
  },
  {
   "cell_type": "code",
   "execution_count": 13,
   "id": "884c0bcb-0807-45a1-8f7e-a32f2c6fa4de",
   "metadata": {},
   "outputs": [],
   "source": [
    "# Create a vectorisation layer\n",
    "vectorize_layer = layers.TextVectorization(\n",
    "    standardize=\"lower\",\n",
    "    max_tokens=VOCAB_SIZE,\n",
    "    output_mode=\"int\",\n",
    "    output_sequence_length=MAX_LEN + 1,\n",
    ")"
   ]
  },
  {
   "cell_type": "code",
   "execution_count": 14,
   "id": "4d6dd34a-d905-497b-926a-405380ebcf98",
   "metadata": {},
   "outputs": [],
   "source": [
    "# Adapt the layer to the training set\n",
    "vectorize_layer.adapt(text_ds)\n",
    "vocab = vectorize_layer.get_vocabulary()"
   ]
  },
  {
   "cell_type": "code",
   "execution_count": 15,
   "id": "f6c1c7ce-3cf0-40d4-a3dc-ab7090f69f2f",
   "metadata": {},
   "outputs": [
    {
     "name": "stdout",
     "output_type": "stream",
     "text": [
      "0: \n",
      "1: [UNK]\n",
      "2: :\n",
      "3: ,\n",
      "4: .\n",
      "5: and\n",
      "6: the\n",
      "7: wine\n",
      "8: a\n",
      "9: of\n"
     ]
    }
   ],
   "source": [
    "# Display some token:word mappings\n",
    "for i, word in enumerate(vocab[:10]):\n",
    "    print(f\"{i}: {word}\")"
   ]
  },
  {
   "cell_type": "code",
   "execution_count": 16,
   "id": "1cc30186-7ec6-4eb6-b29a-65df6714d321",
   "metadata": {},
   "outputs": [
    {
     "name": "stdout",
     "output_type": "stream",
     "text": [
      "[   7   10    2   20    2   29    2   43   62    2   55    5  243 4145\n",
      "  453  634   26    9  497  499  667   17   12  142   14 2214   43   25\n",
      " 2484   32    8  223   14 2213  948    4  594   17  987    3   15   75\n",
      "  237    3   64   14   82   97    5   74 2633   17  198   49    5  125\n",
      "   77    4    0    0    0    0    0    0    0    0    0    0    0    0\n",
      "    0    0    0    0    0    0    0    0    0    0    0]\n"
     ]
    }
   ],
   "source": [
    "# Display the same example converted to ints\n",
    "example_tokenised = vectorize_layer(example_data)\n",
    "print(example_tokenised.numpy())"
   ]
  },
  {
   "attachments": {},
   "cell_type": "markdown",
   "id": "8c195efb-84c6-4be0-a989-a7542188ad35",
   "metadata": {},
   "source": [
    "## 3. Create the Training Set <a name=\"create\"></a>"
   ]
  },
  {
   "cell_type": "code",
   "execution_count": 17,
   "id": "740294a1-1a6b-4c89-92f2-036d7d1b788b",
   "metadata": {},
   "outputs": [],
   "source": [
    "# Create the training set of recipes and the same text shifted by one word\n",
    "def prepare_inputs(text):\n",
    "    text = tf.expand_dims(text, -1)\n",
    "    tokenized_sentences = vectorize_layer(text)\n",
    "    x = tokenized_sentences[:, :-1]\n",
    "    y = tokenized_sentences[:, 1:]\n",
    "    return x, y\n",
    "\n",
    "\n",
    "train_ds = text_ds.map(prepare_inputs)"
   ]
  },
  {
   "cell_type": "code",
   "execution_count": 18,
   "id": "cad80ffb-4298-4249-86b4-9918d62534c5",
   "metadata": {},
   "outputs": [],
   "source": [
    "example_input_output = train_ds.take(1).get_single_element()"
   ]
  },
  {
   "cell_type": "code",
   "execution_count": 19,
   "id": "67ff7263-f62d-44c1-997b-1aa99a393521",
   "metadata": {},
   "outputs": [
    {
     "data": {
      "text/plain": [
       "<tf.Tensor: shape=(80,), dtype=int64, numpy=\n",
       "array([   7,   10,    2,  264,    2, 1494,    2,  496,  533,    2,    8,\n",
       "        783,   60,  794, 1282,    8,   56,  186,   14,  292,   28,   25,\n",
       "         13, 2514,   47,  263, 1897,    5,   38,  222,  523,  115,   22,\n",
       "         25,   13,  131, 2353,   47,   81,  195,    4,   12,   13,  157,\n",
       "        186,   19,   35,    5,  157,  247,   11,   25, 1897,    4,    0,\n",
       "          0,    0,    0,    0,    0,    0,    0,    0,    0,    0,    0,\n",
       "          0,    0,    0,    0,    0,    0,    0,    0,    0,    0,    0,\n",
       "          0,    0,    0])>"
      ]
     },
     "execution_count": 19,
     "metadata": {},
     "output_type": "execute_result"
    }
   ],
   "source": [
    "# Example Input\n",
    "example_input_output[0][0]"
   ]
  },
  {
   "cell_type": "code",
   "execution_count": 20,
   "id": "ef2e2cad-414c-4e6d-a2ac-6b9598f9dd01",
   "metadata": {},
   "outputs": [
    {
     "data": {
      "text/plain": [
       "<tf.Tensor: shape=(80,), dtype=int64, numpy=\n",
       "array([  10,    2,  264,    2, 1494,    2,  496,  533,    2,    8,  783,\n",
       "         60,  794, 1282,    8,   56,  186,   14,  292,   28,   25,   13,\n",
       "       2514,   47,  263, 1897,    5,   38,  222,  523,  115,   22,   25,\n",
       "         13,  131, 2353,   47,   81,  195,    4,   12,   13,  157,  186,\n",
       "         19,   35,    5,  157,  247,   11,   25, 1897,    4,    0,    0,\n",
       "          0,    0,    0,    0,    0,    0,    0,    0,    0,    0,    0,\n",
       "          0,    0,    0,    0,    0,    0,    0,    0,    0,    0,    0,\n",
       "          0,    0,    0])>"
      ]
     },
     "execution_count": 20,
     "metadata": {},
     "output_type": "execute_result"
    }
   ],
   "source": [
    "# Example Output (shifted by one token)\n",
    "example_input_output[1][0]"
   ]
  },
  {
   "attachments": {},
   "cell_type": "markdown",
   "id": "aff50401-3abe-4c10-bba8-b35bc13ad7d5",
   "metadata": {
    "tags": []
   },
   "source": [
    "## 5. Create the causal attention mask function <a name=\"causal\"></a>"
   ]
  },
  {
   "cell_type": "code",
   "execution_count": 21,
   "id": "554a4184-61c2-4eb7-a063-d965586a8188",
   "metadata": {},
   "outputs": [
    {
     "data": {
      "text/plain": [
       "array([[1, 1, 1, 1, 1, 1, 1, 1, 1, 1],\n",
       "       [0, 1, 1, 1, 1, 1, 1, 1, 1, 1],\n",
       "       [0, 0, 1, 1, 1, 1, 1, 1, 1, 1],\n",
       "       [0, 0, 0, 1, 1, 1, 1, 1, 1, 1],\n",
       "       [0, 0, 0, 0, 1, 1, 1, 1, 1, 1],\n",
       "       [0, 0, 0, 0, 0, 1, 1, 1, 1, 1],\n",
       "       [0, 0, 0, 0, 0, 0, 1, 1, 1, 1],\n",
       "       [0, 0, 0, 0, 0, 0, 0, 1, 1, 1],\n",
       "       [0, 0, 0, 0, 0, 0, 0, 0, 1, 1],\n",
       "       [0, 0, 0, 0, 0, 0, 0, 0, 0, 1]], dtype=int32)"
      ]
     },
     "execution_count": 21,
     "metadata": {},
     "output_type": "execute_result"
    }
   ],
   "source": [
    "def causal_attention_mask(batch_size, n_dest, n_src, dtype):\n",
    "    i = tf.range(n_dest)[:, None]\n",
    "    j = tf.range(n_src)\n",
    "    m = i >= j - n_src + n_dest\n",
    "    mask = tf.cast(m, dtype)\n",
    "    mask = tf.reshape(mask, [1, n_dest, n_src])\n",
    "    mult = tf.concat(\n",
    "        [tf.expand_dims(batch_size, -1), tf.constant([1, 1], dtype=tf.int32)], 0\n",
    "    )\n",
    "    return tf.tile(mask, mult)\n",
    "\n",
    "\n",
    "np.transpose(causal_attention_mask(1, 10, 10, dtype=tf.int32)[0])"
   ]
  },
  {
   "attachments": {},
   "cell_type": "markdown",
   "id": "3501dbad-0860-40ad-b7d6-47950e37858f",
   "metadata": {},
   "source": [
    "## 6. Create a Transformer Block layer <a name=\"transformer\"></a>"
   ]
  },
  {
   "cell_type": "code",
   "execution_count": 22,
   "id": "5285a1cb-fce1-46b1-b088-b596002fa9ae",
   "metadata": {},
   "outputs": [],
   "source": [
    "class TransformerBlock(layers.Layer):\n",
    "    def __init__(self, num_heads, key_dim, embed_dim, ff_dim, dropout_rate=0.1):\n",
    "        super(TransformerBlock, self).__init__()\n",
    "        self.num_heads = num_heads\n",
    "        self.key_dim = key_dim\n",
    "        self.embed_dim = embed_dim\n",
    "        self.ff_dim = ff_dim\n",
    "        self.dropout_rate = dropout_rate\n",
    "        self.attn = layers.MultiHeadAttention(\n",
    "            num_heads, key_dim, output_shape=embed_dim\n",
    "        )\n",
    "        self.dropout_1 = layers.Dropout(self.dropout_rate)\n",
    "        self.ln_1 = layers.LayerNormalization(epsilon=1e-6)\n",
    "        self.ffn_1 = layers.Dense(self.ff_dim, activation=\"relu\")\n",
    "        self.ffn_2 = layers.Dense(self.embed_dim)\n",
    "        self.dropout_2 = layers.Dropout(self.dropout_rate)\n",
    "        self.ln_2 = layers.LayerNormalization(epsilon=1e-6)\n",
    "\n",
    "    def call(self, inputs):\n",
    "        input_shape = tf.shape(inputs)\n",
    "        batch_size = input_shape[0]\n",
    "        seq_len = input_shape[1]\n",
    "        causal_mask = causal_attention_mask(\n",
    "            batch_size, seq_len, seq_len, tf.bool\n",
    "        )\n",
    "        attention_output, attention_scores = self.attn(\n",
    "            inputs,\n",
    "            inputs,\n",
    "            attention_mask=causal_mask,\n",
    "            return_attention_scores=True,\n",
    "        )\n",
    "        attention_output = self.dropout_1(attention_output)\n",
    "        out1 = self.ln_1(inputs + attention_output)\n",
    "        ffn_1 = self.ffn_1(out1)\n",
    "        ffn_2 = self.ffn_2(ffn_1)\n",
    "        ffn_output = self.dropout_2(ffn_2)\n",
    "        return (self.ln_2(out1 + ffn_output), attention_scores)\n",
    "\n",
    "    def get_config(self):\n",
    "        config = super().get_config()\n",
    "        config.update(\n",
    "            {\n",
    "                \"key_dim\": self.key_dim,\n",
    "                \"embed_dim\": self.embed_dim,\n",
    "                \"num_heads\": self.num_heads,\n",
    "                \"ff_dim\": self.ff_dim,\n",
    "                \"dropout_rate\": self.dropout_rate,\n",
    "            }\n",
    "        )\n",
    "        return config"
   ]
  },
  {
   "attachments": {},
   "cell_type": "markdown",
   "id": "076a6be0-9796-4974-9bcd-6ebbcfe7514e",
   "metadata": {
    "tags": []
   },
   "source": [
    "## 7. Create the Token and Position Embedding <a name=\"embedder\"></a>"
   ]
  },
  {
   "cell_type": "code",
   "execution_count": 23,
   "id": "fdf5cb25-88ae-4026-9e21-c1e6b5094a2c",
   "metadata": {},
   "outputs": [],
   "source": [
    "class TokenAndPositionEmbedding(layers.Layer):\n",
    "    def __init__(self, max_len, vocab_size, embed_dim):\n",
    "        super(TokenAndPositionEmbedding, self).__init__()\n",
    "        self.max_len = max_len\n",
    "        self.vocab_size = vocab_size\n",
    "        self.embed_dim = embed_dim\n",
    "        self.token_emb = layers.Embedding(\n",
    "            input_dim=vocab_size, output_dim=embed_dim\n",
    "        )\n",
    "        self.pos_emb = layers.Embedding(input_dim=max_len, output_dim=embed_dim)\n",
    "\n",
    "    def call(self, x):\n",
    "        maxlen = tf.shape(x)[-1]\n",
    "        positions = tf.range(start=0, limit=maxlen, delta=1)\n",
    "        positions = self.pos_emb(positions)\n",
    "        x = self.token_emb(x)\n",
    "        return x + positions\n",
    "\n",
    "    def get_config(self):\n",
    "        config = super().get_config()\n",
    "        config.update(\n",
    "            {\n",
    "                \"max_len\": self.max_len,\n",
    "                \"vocab_size\": self.vocab_size,\n",
    "                \"embed_dim\": self.embed_dim,\n",
    "            }\n",
    "        )\n",
    "        return config"
   ]
  },
  {
   "attachments": {},
   "cell_type": "markdown",
   "id": "aac2e2d4-5980-47e3-b5b0-6c41c0c2d152",
   "metadata": {},
   "source": [
    "## 8. Build the Transformer model <a name=\"transformer_decoder\"></a>"
   ]
  },
  {
   "cell_type": "code",
   "execution_count": 24,
   "id": "8c57596e-e17d-4959-b6e8-7581b0bace3a",
   "metadata": {},
   "outputs": [],
   "source": [
    "inputs = layers.Input(shape=(None,), dtype=tf.int32)\n",
    "x = TokenAndPositionEmbedding(MAX_LEN, VOCAB_SIZE, EMBEDDING_DIM)(inputs)\n",
    "x, attention_scores = TransformerBlock(\n",
    "    N_HEADS, KEY_DIM, EMBEDDING_DIM, FEED_FORWARD_DIM\n",
    ")(x)\n",
    "outputs = layers.Dense(VOCAB_SIZE, activation=\"softmax\")(x)\n",
    "gpt = models.Model(inputs=inputs, outputs=[outputs, attention_scores])\n",
    "gpt.compile(\"adam\", loss=[losses.SparseCategoricalCrossentropy(), None])"
   ]
  },
  {
   "cell_type": "code",
   "execution_count": 25,
   "id": "1a1c3b0f-3382-444d-bb04-bae143ae5d61",
   "metadata": {},
   "outputs": [
    {
     "name": "stdout",
     "output_type": "stream",
     "text": [
      "Model: \"model\"\n",
      "_________________________________________________________________\n",
      " Layer (type)                Output Shape              Param #   \n",
      "=================================================================\n",
      " input_1 (InputLayer)        [(None, None)]            0         \n",
      "                                                                 \n",
      " token_and_position_embeddin  (None, None, 256)        2580480   \n",
      " g (TokenAndPositionEmbeddin                                     \n",
      " g)                                                              \n",
      "                                                                 \n",
      " transformer_block (Transfor  ((None, None, 256),      658688    \n",
      " merBlock)                    (None, 2, None, None))             \n",
      "                                                                 \n",
      " dense_2 (Dense)             (None, None, 10000)       2570000   \n",
      "                                                                 \n",
      "=================================================================\n",
      "Total params: 5,809,168\n",
      "Trainable params: 5,809,168\n",
      "Non-trainable params: 0\n",
      "_________________________________________________________________\n"
     ]
    }
   ],
   "source": [
    "gpt.summary()"
   ]
  },
  {
   "cell_type": "code",
   "execution_count": 26,
   "id": "800a3c6e-fb11-4792-b6bc-9a43a7c977ad",
   "metadata": {
    "tags": []
   },
   "outputs": [],
   "source": [
    "if LOAD_MODEL:\n",
    "    # model.load_weights('./models/model')\n",
    "    gpt = models.load_model(\"09_01_gpt/models/gpt\", compile=True)"
   ]
  },
  {
   "attachments": {},
   "cell_type": "markdown",
   "id": "35b14665-4359-447b-be58-3fd58ba69084",
   "metadata": {},
   "source": [
    "## 9. Train the Transformer <a name=\"train\"></a>"
   ]
  },
  {
   "cell_type": "code",
   "execution_count": 27,
   "id": "3ddcff5f-829d-4449-99d2-9a3cb68f7d72",
   "metadata": {},
   "outputs": [],
   "source": [
    "# Create a TextGenerator checkpoint\n",
    "class TextGenerator(callbacks.Callback):\n",
    "    def __init__(self, index_to_word, top_k=10):\n",
    "        self.index_to_word = index_to_word\n",
    "        self.word_to_index = {\n",
    "            word: index for index, word in enumerate(index_to_word)\n",
    "        }\n",
    "\n",
    "    def sample_from(self, probs, temperature):\n",
    "        probs = probs ** (1 / temperature)\n",
    "        probs = probs / np.sum(probs)\n",
    "        return np.random.choice(len(probs), p=probs), probs\n",
    "\n",
    "    def generate(self, start_prompt, max_tokens, temperature):\n",
    "        start_tokens = [\n",
    "            self.word_to_index.get(x, 1) for x in start_prompt.split()\n",
    "        ]\n",
    "        sample_token = None\n",
    "        info = []\n",
    "        while len(start_tokens) < max_tokens and sample_token != 0:\n",
    "            x = np.array([start_tokens])\n",
    "            y, att = self.model.predict(x, verbose=0)\n",
    "            sample_token, probs = self.sample_from(y[0][-1], temperature)\n",
    "            info.append(\n",
    "                {\n",
    "                    \"prompt\": start_prompt,\n",
    "                    \"word_probs\": probs,\n",
    "                    \"atts\": att[0, :, -1, :],\n",
    "                }\n",
    "            )\n",
    "            start_tokens.append(sample_token)\n",
    "            start_prompt = start_prompt + \" \" + self.index_to_word[sample_token]\n",
    "        print(f\"\\ngenerated text:\\n{start_prompt}\\n\")\n",
    "        return info\n",
    "\n",
    "    def on_epoch_end(self, epoch, logs=None):\n",
    "        self.generate(\"wine review\", max_tokens=80, temperature=1.0)"
   ]
  },
  {
   "cell_type": "code",
   "execution_count": 28,
   "id": "349865fe-ffbe-450e-97be-043ae1740e78",
   "metadata": {},
   "outputs": [],
   "source": [
    "# Create a model save checkpoint\n",
    "model_checkpoint_callback = callbacks.ModelCheckpoint(\n",
    "    filepath=\"09_01_gpt/checkpoint/checkpoint.ckpt\",\n",
    "    save_weights_only=True,\n",
    "    save_freq=\"epoch\",\n",
    "    verbose=0,\n",
    ")\n",
    "\n",
    "tensorboard_callback = callbacks.TensorBoard(log_dir=\"09_01_gpt/logs\")\n",
    "\n",
    "# Tokenize starting prompt\n",
    "text_generator = TextGenerator(vocab)"
   ]
  },
  {
   "cell_type": "code",
   "execution_count": 29,
   "id": "461c2b3e-b5ae-4def-8bd9-e7bab8c63d8e",
   "metadata": {
    "tags": []
   },
   "outputs": [
    {
     "name": "stdout",
     "output_type": "stream",
     "text": [
      "Epoch 1/5\n",
      "4060/4060 [==============================] - ETA: 0s - loss: 2.2574 - dense_2_loss: 2.2574\n",
      "generated text:\n",
      "wine review : italy : sicily & sardinia : grillo : based [UNK] [UNK] [UNK] blends in portugal ( campania ) boasts aromas of green apple , incense and banana . the wine is simple and simple but genuine overall finesse , there ' s a clean , fresh quality and freshness . \n",
      "\n",
      "4060/4060 [==============================] - 68s 16ms/step - loss: 2.2574 - dense_2_loss: 2.2574\n",
      "Epoch 2/5\n",
      "4058/4060 [============================>.] - ETA: 0s - loss: 1.9597 - dense_2_loss: 1.9597\n",
      "generated text:\n",
      "wine review : south africa : stellenbosch : cabernet sauvignon : this playful blend of spicy spice and red - fruit forward fruit , prickly and cocoa spice aromas on the nose . the palate leads in a freshly tannic style that doesn ' t take heavy or textural . \n",
      "\n",
      "4060/4060 [==============================] - 67s 16ms/step - loss: 1.9596 - dense_2_loss: 1.9596\n",
      "Epoch 3/5\n",
      "4059/4060 [============================>.] - ETA: 0s - loss: 1.8889 - dense_2_loss: 1.8889\n",
      "generated text:\n",
      "wine review : us : california : cabernet sauvignon : break out , showing tobacco and dusty spice aromas and a dark ruby - berry core . it ' s brawny , tannic , but sumptuous enough to remain dry and firmly structured , where the wine is not a wine to benefit from each sip . \n",
      "\n",
      "4060/4060 [==============================] - 67s 17ms/step - loss: 1.8888 - dense_2_loss: 1.8888\n",
      "Epoch 4/5\n",
      "4057/4060 [============================>.] - ETA: 0s - loss: 1.8467 - dense_2_loss: 1.8467\n",
      "generated text:\n",
      "wine review : italy : tuscany : sangiovese : sangiovese , sangiovese is aged for 10 months in barriques , this opens with aromas of toughness and density as well . the palate offers mature fruit , dried cherry , molasses , anise and tobacco aromas . \n",
      "\n",
      "4060/4060 [==============================] - 67s 17ms/step - loss: 1.8465 - dense_2_loss: 1.8465\n",
      "Epoch 5/5\n",
      "4059/4060 [============================>.] - ETA: 0s - loss: 1.8164 - dense_2_loss: 1.8164\n",
      "generated text:\n",
      "wine review : us : california : chenin blanc : this racy and rich wine from the producer ' s other foothills offerings , from neutral making for a meal or with a powerful , mouthfilling texture full body and texture . pretty flavors are of apple , honeysuckle and cut apple skins . the texture is pronounced on the finish . \n",
      "\n",
      "4060/4060 [==============================] - 68s 17ms/step - loss: 1.8163 - dense_2_loss: 1.8163\n",
      "CPU times: user 4min 4s, sys: 8.05 s, total: 4min 12s\n",
      "Wall time: 5min 37s\n"
     ]
    },
    {
     "data": {
      "text/plain": [
       "<keras.callbacks.History at 0x7f7564d98a60>"
      ]
     },
     "execution_count": 29,
     "metadata": {},
     "output_type": "execute_result"
    }
   ],
   "source": [
    "%%time\n",
    "gpt.fit(\n",
    "    train_ds,\n",
    "    epochs=EPOCHS,\n",
    "    callbacks=[model_checkpoint_callback, tensorboard_callback, text_generator],\n",
    ")"
   ]
  },
  {
   "cell_type": "code",
   "execution_count": 30,
   "id": "369bde44-2e39-4bc6-8549-a3a27ecce55c",
   "metadata": {
    "tags": []
   },
   "outputs": [
    {
     "name": "stderr",
     "output_type": "stream",
     "text": [
      "WARNING:absl:Found untraced functions such as embedding_layer_call_fn, embedding_layer_call_and_return_conditional_losses, embedding_1_layer_call_fn, embedding_1_layer_call_and_return_conditional_losses, multi_head_attention_layer_call_fn while saving (showing 5 of 30). These functions will not be directly callable after loading.\n"
     ]
    },
    {
     "name": "stdout",
     "output_type": "stream",
     "text": [
      "INFO:tensorflow:Assets written to: 09_01_gpt/models/gpt/assets\n"
     ]
    },
    {
     "name": "stderr",
     "output_type": "stream",
     "text": [
      "INFO:tensorflow:Assets written to: 09_01_gpt/models/gpt/assets\n"
     ]
    }
   ],
   "source": [
    "# Save the final model\n",
    "gpt.save(\"09_01_gpt/models/gpt\")"
   ]
  },
  {
   "attachments": {},
   "cell_type": "markdown",
   "id": "d64e02d2-84dc-40c8-8446-40c09adf1e20",
   "metadata": {},
   "source": [
    "# 3. Generate text using the Transformer"
   ]
  },
  {
   "cell_type": "code",
   "execution_count": 31,
   "id": "4ad23adb-3ec9-4e9a-9a59-b9f9bafca649",
   "metadata": {},
   "outputs": [],
   "source": [
    "def print_probs(info, vocab, top_k=5):\n",
    "    for i in info:\n",
    "        highlighted_text = []\n",
    "        for word, att_score in zip(\n",
    "            i[\"prompt\"].split(), np.mean(i[\"atts\"], axis=0)\n",
    "        ):\n",
    "            highlighted_text.append(\n",
    "                '<span style=\"background-color:rgba(135,206,250,'\n",
    "                + str(att_score / max(np.mean(i[\"atts\"], axis=0)))\n",
    "                + ');\">'\n",
    "                + word\n",
    "                + \"</span>\"\n",
    "            )\n",
    "        highlighted_text = \" \".join(highlighted_text)\n",
    "        display(HTML(highlighted_text))\n",
    "\n",
    "        word_probs = i[\"word_probs\"]\n",
    "        p_sorted = np.sort(word_probs)[::-1][:top_k]\n",
    "        i_sorted = np.argsort(word_probs)[::-1][:top_k]\n",
    "        for p, i in zip(p_sorted, i_sorted):\n",
    "            print(f\"{vocab[i]}:   \\t{np.round(100*p,2)}%\")\n",
    "        print(\"--------\\n\")"
   ]
  },
  {
   "cell_type": "code",
   "execution_count": 32,
   "id": "3cf25578-d47c-4b26-8252-fcdf2316a4ac",
   "metadata": {},
   "outputs": [
    {
     "name": "stdout",
     "output_type": "stream",
     "text": [
      "\n",
      "generated text:\n",
      "wine review : us : california : zinfandel : this blend of syrah , petite sirah , is flavorful , tannic and ideal for drinking now . the raspberry pie , beef jerky and dark bacon fat flavors coat the palate , a bit of overripeness , and seems to mute the function of its cool origins . \n",
      "\n"
     ]
    }
   ],
   "source": [
    "info = text_generator.generate(\n",
    "    \"wine review : us\", max_tokens=80, temperature=1.0\n",
    ")"
   ]
  },
  {
   "cell_type": "code",
   "execution_count": 33,
   "id": "4ae2da8e-9b7c-4b71-b37b-021115b3d7ea",
   "metadata": {},
   "outputs": [
    {
     "name": "stdout",
     "output_type": "stream",
     "text": [
      "\n",
      "generated text:\n",
      "wine review : italy : piedmont : nebbiolo : this opens with aromas suggesting toast , espresso , stewed black - skinned fruit and a balsamic note . the palate offers dried black cherry , clove and a hint of star anise alongside assertive , close - grained tannins . drink through 2021 . \n",
      "\n"
     ]
    }
   ],
   "source": [
    "info = text_generator.generate(\n",
    "    \"wine review : italy\", max_tokens=80, temperature=0.5\n",
    ")"
   ]
  },
  {
   "cell_type": "code",
   "execution_count": 34,
   "id": "5cae6d5d-263d-4455-b96c-f315cbe284ee",
   "metadata": {},
   "outputs": [
    {
     "name": "stdout",
     "output_type": "stream",
     "text": [
      "\n",
      "generated text:\n",
      "wine review : germany : mosel : riesling : while the nose is a bit demure , with hints of struck flint and slate . the palate is more mineral and zesty , it also has a steely , minerally feel and a long finish . drink now through 2020 . \n",
      "\n"
     ]
    },
    {
     "data": {
      "text/html": [
       "<span style=\"background-color:rgba(135,206,250,0.9322742);\">wine</span> <span style=\"background-color:rgba(135,206,250,1.0);\">review</span> <span style=\"background-color:rgba(135,206,250,0.6490085);\">:</span> <span style=\"background-color:rgba(135,206,250,0.30612552);\">germany</span>"
      ],
      "text/plain": [
       "<IPython.core.display.HTML object>"
      ]
     },
     "metadata": {},
     "output_type": "display_data"
    },
    {
     "name": "stdout",
     "output_type": "stream",
     "text": [
      "::   \t100.0%\n",
      "-:   \t0.0%\n",
      "grosso:   \t0.0%\n",
      "africa:   \t0.0%\n",
      "zealand:   \t0.0%\n",
      "--------\n",
      "\n"
     ]
    },
    {
     "data": {
      "text/html": [
       "<span style=\"background-color:rgba(135,206,250,0.41425645);\">wine</span> <span style=\"background-color:rgba(135,206,250,0.33233774);\">review</span> <span style=\"background-color:rgba(135,206,250,0.58403236);\">:</span> <span style=\"background-color:rgba(135,206,250,1.0);\">germany</span> <span style=\"background-color:rgba(135,206,250,0.47724557);\">:</span>"
      ],
      "text/plain": [
       "<IPython.core.display.HTML object>"
      ]
     },
     "metadata": {},
     "output_type": "display_data"
    },
    {
     "name": "stdout",
     "output_type": "stream",
     "text": [
      "mosel:   \t96.92%\n",
      "rheingau:   \t2.08%\n",
      "pfalz:   \t0.47%\n",
      "rheinhessen:   \t0.31%\n",
      "württemberg:   \t0.08%\n",
      "--------\n",
      "\n"
     ]
    },
    {
     "data": {
      "text/html": [
       "<span style=\"background-color:rgba(135,206,250,0.92408615);\">wine</span> <span style=\"background-color:rgba(135,206,250,1.0);\">review</span> <span style=\"background-color:rgba(135,206,250,0.4932745);\">:</span> <span style=\"background-color:rgba(135,206,250,0.31465676);\">germany</span> <span style=\"background-color:rgba(135,206,250,0.49984905);\">:</span> <span style=\"background-color:rgba(135,206,250,0.22201212);\">mosel</span>"
      ],
      "text/plain": [
       "<IPython.core.display.HTML object>"
      ]
     },
     "metadata": {},
     "output_type": "display_data"
    },
    {
     "name": "stdout",
     "output_type": "stream",
     "text": [
      "::   \t99.25%\n",
      "-:   \t0.75%\n",
      "grosso:   \t0.0%\n",
      ",:   \t0.0%\n",
      "blanca:   \t0.0%\n",
      "--------\n",
      "\n"
     ]
    },
    {
     "data": {
      "text/html": [
       "<span style=\"background-color:rgba(135,206,250,0.33253422);\">wine</span> <span style=\"background-color:rgba(135,206,250,0.29674268);\">review</span> <span style=\"background-color:rgba(135,206,250,0.26101807);\">:</span> <span style=\"background-color:rgba(135,206,250,0.42195618);\">germany</span> <span style=\"background-color:rgba(135,206,250,0.26854137);\">:</span> <span style=\"background-color:rgba(135,206,250,1.0);\">mosel</span> <span style=\"background-color:rgba(135,206,250,0.22277513);\">:</span>"
      ],
      "text/plain": [
       "<IPython.core.display.HTML object>"
      ]
     },
     "metadata": {},
     "output_type": "display_data"
    },
    {
     "name": "stdout",
     "output_type": "stream",
     "text": [
      "riesling:   \t99.99%\n",
      "pinot:   \t0.0%\n",
      "sparkling:   \t0.0%\n",
      "white:   \t0.0%\n",
      "rosé:   \t0.0%\n",
      "--------\n",
      "\n"
     ]
    },
    {
     "data": {
      "text/html": [
       "<span style=\"background-color:rgba(135,206,250,0.7993648);\">wine</span> <span style=\"background-color:rgba(135,206,250,1.0);\">review</span> <span style=\"background-color:rgba(135,206,250,0.4716923);\">:</span> <span style=\"background-color:rgba(135,206,250,0.28604615);\">germany</span> <span style=\"background-color:rgba(135,206,250,0.39018214);\">:</span> <span style=\"background-color:rgba(135,206,250,0.28593585);\">mosel</span> <span style=\"background-color:rgba(135,206,250,0.4729334);\">:</span> <span style=\"background-color:rgba(135,206,250,0.15552236);\">riesling</span>"
      ],
      "text/plain": [
       "<IPython.core.display.HTML object>"
      ]
     },
     "metadata": {},
     "output_type": "display_data"
    },
    {
     "name": "stdout",
     "output_type": "stream",
     "text": [
      "::   \t100.0%\n",
      "-:   \t0.0%\n",
      "grosso:   \t0.0%\n",
      "blanc:   \t0.0%\n",
      "blanca:   \t0.0%\n",
      "--------\n",
      "\n"
     ]
    },
    {
     "data": {
      "text/html": [
       "<span style=\"background-color:rgba(135,206,250,0.7236719);\">wine</span> <span style=\"background-color:rgba(135,206,250,0.8021085);\">review</span> <span style=\"background-color:rgba(135,206,250,0.6696932);\">:</span> <span style=\"background-color:rgba(135,206,250,0.85534257);\">germany</span> <span style=\"background-color:rgba(135,206,250,0.6313187);\">:</span> <span style=\"background-color:rgba(135,206,250,1.0);\">mosel</span> <span style=\"background-color:rgba(135,206,250,0.6634401);\">:</span> <span style=\"background-color:rgba(135,206,250,0.7536117);\">riesling</span> <span style=\"background-color:rgba(135,206,250,0.62668735);\">:</span>"
      ],
      "text/plain": [
       "<IPython.core.display.HTML object>"
      ]
     },
     "metadata": {},
     "output_type": "display_data"
    },
    {
     "name": "stdout",
     "output_type": "stream",
     "text": [
      "a:   \t19.44%\n",
      "while:   \t19.42%\n",
      "dusty:   \t15.13%\n",
      "this:   \t9.01%\n",
      "fresh:   \t7.58%\n",
      "--------\n",
      "\n"
     ]
    },
    {
     "data": {
      "text/html": [
       "<span style=\"background-color:rgba(135,206,250,0.63452333);\">wine</span> <span style=\"background-color:rgba(135,206,250,1.0);\">review</span> <span style=\"background-color:rgba(135,206,250,0.34942994);\">:</span> <span style=\"background-color:rgba(135,206,250,0.26060677);\">germany</span> <span style=\"background-color:rgba(135,206,250,0.33442646);\">:</span> <span style=\"background-color:rgba(135,206,250,0.32799175);\">mosel</span> <span style=\"background-color:rgba(135,206,250,0.3076724);\">:</span> <span style=\"background-color:rgba(135,206,250,0.27984124);\">riesling</span> <span style=\"background-color:rgba(135,206,250,0.3685099);\">:</span> <span style=\"background-color:rgba(135,206,250,0.1589439);\">while</span>"
      ],
      "text/plain": [
       "<IPython.core.display.HTML object>"
      ]
     },
     "metadata": {},
     "output_type": "display_data"
    },
    {
     "name": "stdout",
     "output_type": "stream",
     "text": [
      "the:   \t60.57%\n",
      "intensely:   \t12.13%\n",
      "this:   \t6.81%\n",
      "dry:   \t2.94%\n",
      "demure:   \t2.41%\n",
      "--------\n",
      "\n"
     ]
    },
    {
     "data": {
      "text/html": [
       "<span style=\"background-color:rgba(135,206,250,1.0);\">wine</span> <span style=\"background-color:rgba(135,206,250,0.9592708);\">review</span> <span style=\"background-color:rgba(135,206,250,0.48377472);\">:</span> <span style=\"background-color:rgba(135,206,250,0.4842117);\">germany</span> <span style=\"background-color:rgba(135,206,250,0.4581032);\">:</span> <span style=\"background-color:rgba(135,206,250,0.7802729);\">mosel</span> <span style=\"background-color:rgba(135,206,250,0.36183506);\">:</span> <span style=\"background-color:rgba(135,206,250,0.50544965);\">riesling</span> <span style=\"background-color:rgba(135,206,250,0.48725763);\">:</span> <span style=\"background-color:rgba(135,206,250,0.8518371);\">while</span> <span style=\"background-color:rgba(135,206,250,0.33502108);\">the</span>"
      ],
      "text/plain": [
       "<IPython.core.display.HTML object>"
      ]
     },
     "metadata": {},
     "output_type": "display_data"
    },
    {
     "name": "stdout",
     "output_type": "stream",
     "text": [
      "nose:   \t96.57%\n",
      "palate:   \t2.65%\n",
      "attack:   \t0.25%\n",
      "[UNK]:   \t0.12%\n",
      "mouthfeel:   \t0.1%\n",
      "--------\n",
      "\n"
     ]
    },
    {
     "data": {
      "text/html": [
       "<span style=\"background-color:rgba(135,206,250,0.43190786);\">wine</span> <span style=\"background-color:rgba(135,206,250,1.0);\">review</span> <span style=\"background-color:rgba(135,206,250,0.30662602);\">:</span> <span style=\"background-color:rgba(135,206,250,0.26818854);\">germany</span> <span style=\"background-color:rgba(135,206,250,0.26125595);\">:</span> <span style=\"background-color:rgba(135,206,250,0.17139465);\">mosel</span> <span style=\"background-color:rgba(135,206,250,0.16294108);\">:</span> <span style=\"background-color:rgba(135,206,250,0.089171596);\">riesling</span> <span style=\"background-color:rgba(135,206,250,0.2583446);\">:</span> <span style=\"background-color:rgba(135,206,250,0.43876597);\">while</span> <span style=\"background-color:rgba(135,206,250,0.54339147);\">the</span> <span style=\"background-color:rgba(135,206,250,0.30827582);\">nose</span>"
      ],
      "text/plain": [
       "<IPython.core.display.HTML object>"
      ]
     },
     "metadata": {},
     "output_type": "display_data"
    },
    {
     "name": "stdout",
     "output_type": "stream",
     "text": [
      "is:   \t78.58%\n",
      "on:   \t17.99%\n",
      "of:   \t2.02%\n",
      "offers:   \t0.34%\n",
      "suggests:   \t0.3%\n",
      "--------\n",
      "\n"
     ]
    },
    {
     "data": {
      "text/html": [
       "<span style=\"background-color:rgba(135,206,250,0.35441044);\">wine</span> <span style=\"background-color:rgba(135,206,250,0.668371);\">review</span> <span style=\"background-color:rgba(135,206,250,0.30706692);\">:</span> <span style=\"background-color:rgba(135,206,250,0.34287435);\">germany</span> <span style=\"background-color:rgba(135,206,250,0.24636012);\">:</span> <span style=\"background-color:rgba(135,206,250,0.44648317);\">mosel</span> <span style=\"background-color:rgba(135,206,250,0.18978009);\">:</span> <span style=\"background-color:rgba(135,206,250,0.28901875);\">riesling</span> <span style=\"background-color:rgba(135,206,250,0.2541551);\">:</span> <span style=\"background-color:rgba(135,206,250,0.3927736);\">while</span> <span style=\"background-color:rgba(135,206,250,0.48162183);\">the</span> <span style=\"background-color:rgba(135,206,250,1.0);\">nose</span> <span style=\"background-color:rgba(135,206,250,0.19166553);\">is</span>"
      ],
      "text/plain": [
       "<IPython.core.display.HTML object>"
      ]
     },
     "metadata": {},
     "output_type": "display_data"
    },
    {
     "name": "stdout",
     "output_type": "stream",
     "text": [
      "demure:   \t78.12%\n",
      "a:   \t13.12%\n",
      "quite:   \t1.11%\n",
      "subdued:   \t0.75%\n",
      "fresh:   \t0.65%\n",
      "--------\n",
      "\n"
     ]
    },
    {
     "data": {
      "text/html": [
       "<span style=\"background-color:rgba(135,206,250,0.47155997);\">wine</span> <span style=\"background-color:rgba(135,206,250,0.6631901);\">review</span> <span style=\"background-color:rgba(135,206,250,0.33262);\">:</span> <span style=\"background-color:rgba(135,206,250,0.39814323);\">germany</span> <span style=\"background-color:rgba(135,206,250,0.273357);\">:</span> <span style=\"background-color:rgba(135,206,250,0.41479048);\">mosel</span> <span style=\"background-color:rgba(135,206,250,0.16728628);\">:</span> <span style=\"background-color:rgba(135,206,250,0.33094147);\">riesling</span> <span style=\"background-color:rgba(135,206,250,0.26039302);\">:</span> <span style=\"background-color:rgba(135,206,250,0.34211802);\">while</span> <span style=\"background-color:rgba(135,206,250,0.2830111);\">the</span> <span style=\"background-color:rgba(135,206,250,1.0);\">nose</span> <span style=\"background-color:rgba(135,206,250,0.4508488);\">is</span> <span style=\"background-color:rgba(135,206,250,0.25428063);\">a</span>"
      ],
      "text/plain": [
       "<IPython.core.display.HTML object>"
      ]
     },
     "metadata": {},
     "output_type": "display_data"
    },
    {
     "name": "stdout",
     "output_type": "stream",
     "text": [
      "bit:   \t84.81%\n",
      "touch:   \t8.78%\n",
      "hint:   \t2.09%\n",
      "little:   \t0.82%\n",
      "whiff:   \t0.57%\n",
      "--------\n",
      "\n"
     ]
    },
    {
     "data": {
      "text/html": [
       "<span style=\"background-color:rgba(135,206,250,0.46083713);\">wine</span> <span style=\"background-color:rgba(135,206,250,1.0);\">review</span> <span style=\"background-color:rgba(135,206,250,0.4028071);\">:</span> <span style=\"background-color:rgba(135,206,250,0.30862495);\">germany</span> <span style=\"background-color:rgba(135,206,250,0.3036507);\">:</span> <span style=\"background-color:rgba(135,206,250,0.46888262);\">mosel</span> <span style=\"background-color:rgba(135,206,250,0.2207407);\">:</span> <span style=\"background-color:rgba(135,206,250,0.27261195);\">riesling</span> <span style=\"background-color:rgba(135,206,250,0.3460297);\">:</span> <span style=\"background-color:rgba(135,206,250,0.42454052);\">while</span> <span style=\"background-color:rgba(135,206,250,0.33245778);\">the</span> <span style=\"background-color:rgba(135,206,250,0.7590284);\">nose</span> <span style=\"background-color:rgba(135,206,250,0.479771);\">is</span> <span style=\"background-color:rgba(135,206,250,0.3689629);\">a</span> <span style=\"background-color:rgba(135,206,250,0.27366075);\">bit</span>"
      ],
      "text/plain": [
       "<IPython.core.display.HTML object>"
      ]
     },
     "metadata": {},
     "output_type": "display_data"
    },
    {
     "name": "stdout",
     "output_type": "stream",
     "text": [
      "demure:   \t93.83%\n",
      "subdued:   \t2.77%\n",
      "closed:   \t0.81%\n",
      "lean:   \t0.44%\n",
      "more:   \t0.34%\n",
      "--------\n",
      "\n"
     ]
    },
    {
     "data": {
      "text/html": [
       "<span style=\"background-color:rgba(135,206,250,0.3961829);\">wine</span> <span style=\"background-color:rgba(135,206,250,1.0);\">review</span> <span style=\"background-color:rgba(135,206,250,0.28261623);\">:</span> <span style=\"background-color:rgba(135,206,250,0.23492822);\">germany</span> <span style=\"background-color:rgba(135,206,250,0.21566156);\">:</span> <span style=\"background-color:rgba(135,206,250,0.2863477);\">mosel</span> <span style=\"background-color:rgba(135,206,250,0.17952222);\">:</span> <span style=\"background-color:rgba(135,206,250,0.34212503);\">riesling</span> <span style=\"background-color:rgba(135,206,250,0.21036029);\">:</span> <span style=\"background-color:rgba(135,206,250,0.22671972);\">while</span> <span style=\"background-color:rgba(135,206,250,0.2775397);\">the</span> <span style=\"background-color:rgba(135,206,250,0.6595614);\">nose</span> <span style=\"background-color:rgba(135,206,250,0.29794934);\">is</span> <span style=\"background-color:rgba(135,206,250,0.46044376);\">a</span> <span style=\"background-color:rgba(135,206,250,0.89357173);\">bit</span> <span style=\"background-color:rgba(135,206,250,0.15392283);\">demure</span>"
      ],
      "text/plain": [
       "<IPython.core.display.HTML object>"
      ]
     },
     "metadata": {},
     "output_type": "display_data"
    },
    {
     "name": "stdout",
     "output_type": "stream",
     "text": [
      ",:   \t91.88%\n",
      "on:   \t6.59%\n",
      "in:   \t0.91%\n",
      "and:   \t0.47%\n",
      ".:   \t0.12%\n",
      "--------\n",
      "\n"
     ]
    },
    {
     "data": {
      "text/html": [
       "<span style=\"background-color:rgba(135,206,250,0.20762613);\">wine</span> <span style=\"background-color:rgba(135,206,250,0.4324862);\">review</span> <span style=\"background-color:rgba(135,206,250,0.18052003);\">:</span> <span style=\"background-color:rgba(135,206,250,0.27663967);\">germany</span> <span style=\"background-color:rgba(135,206,250,0.16103362);\">:</span> <span style=\"background-color:rgba(135,206,250,0.19348568);\">mosel</span> <span style=\"background-color:rgba(135,206,250,0.11863808);\">:</span> <span style=\"background-color:rgba(135,206,250,0.29751435);\">riesling</span> <span style=\"background-color:rgba(135,206,250,0.18154554);\">:</span> <span style=\"background-color:rgba(135,206,250,0.44236088);\">while</span> <span style=\"background-color:rgba(135,206,250,0.18093374);\">the</span> <span style=\"background-color:rgba(135,206,250,0.3371421);\">nose</span> <span style=\"background-color:rgba(135,206,250,0.3160624);\">is</span> <span style=\"background-color:rgba(135,206,250,0.27448714);\">a</span> <span style=\"background-color:rgba(135,206,250,0.70063484);\">bit</span> <span style=\"background-color:rgba(135,206,250,1.0);\">demure</span> <span style=\"background-color:rgba(135,206,250,0.28070533);\">,</span>"
      ],
      "text/plain": [
       "<IPython.core.display.HTML object>"
      ]
     },
     "metadata": {},
     "output_type": "display_data"
    },
    {
     "name": "stdout",
     "output_type": "stream",
     "text": [
      "with:   \t36.89%\n",
      "this:   \t33.77%\n",
      "but:   \t9.46%\n",
      "suggesting:   \t5.66%\n",
      "the:   \t5.36%\n",
      "--------\n",
      "\n"
     ]
    },
    {
     "data": {
      "text/html": [
       "<span style=\"background-color:rgba(135,206,250,0.4257148);\">wine</span> <span style=\"background-color:rgba(135,206,250,0.9724059);\">review</span> <span style=\"background-color:rgba(135,206,250,0.2832392);\">:</span> <span style=\"background-color:rgba(135,206,250,0.3981388);\">germany</span> <span style=\"background-color:rgba(135,206,250,0.24851446);\">:</span> <span style=\"background-color:rgba(135,206,250,0.36894712);\">mosel</span> <span style=\"background-color:rgba(135,206,250,0.23853001);\">:</span> <span style=\"background-color:rgba(135,206,250,0.4573788);\">riesling</span> <span style=\"background-color:rgba(135,206,250,0.24136722);\">:</span> <span style=\"background-color:rgba(135,206,250,0.23567358);\">while</span> <span style=\"background-color:rgba(135,206,250,0.19745661);\">the</span> <span style=\"background-color:rgba(135,206,250,0.610985);\">nose</span> <span style=\"background-color:rgba(135,206,250,0.20551309);\">is</span> <span style=\"background-color:rgba(135,206,250,0.25689667);\">a</span> <span style=\"background-color:rgba(135,206,250,0.31523702);\">bit</span> <span style=\"background-color:rgba(135,206,250,1.0);\">demure</span> <span style=\"background-color:rgba(135,206,250,0.7711306);\">,</span> <span style=\"background-color:rgba(135,206,250,0.46642408);\">with</span>"
      ],
      "text/plain": [
       "<IPython.core.display.HTML object>"
      ]
     },
     "metadata": {},
     "output_type": "display_data"
    },
    {
     "name": "stdout",
     "output_type": "stream",
     "text": [
      "a:   \t61.91%\n",
      "hints:   \t5.75%\n",
      "delicate:   \t5.57%\n",
      "sweet:   \t3.87%\n",
      "notes:   \t3.04%\n",
      "--------\n",
      "\n"
     ]
    },
    {
     "data": {
      "text/html": [
       "<span style=\"background-color:rgba(135,206,250,0.28770384);\">wine</span> <span style=\"background-color:rgba(135,206,250,0.9888559);\">review</span> <span style=\"background-color:rgba(135,206,250,0.30513707);\">:</span> <span style=\"background-color:rgba(135,206,250,0.16232078);\">germany</span> <span style=\"background-color:rgba(135,206,250,0.24084501);\">:</span> <span style=\"background-color:rgba(135,206,250,0.10855603);\">mosel</span> <span style=\"background-color:rgba(135,206,250,0.14467673);\">:</span> <span style=\"background-color:rgba(135,206,250,0.0952513);\">riesling</span> <span style=\"background-color:rgba(135,206,250,0.13962682);\">:</span> <span style=\"background-color:rgba(135,206,250,0.19029701);\">while</span> <span style=\"background-color:rgba(135,206,250,0.14923239);\">the</span> <span style=\"background-color:rgba(135,206,250,0.1692843);\">nose</span> <span style=\"background-color:rgba(135,206,250,0.14191505);\">is</span> <span style=\"background-color:rgba(135,206,250,0.1265379);\">a</span> <span style=\"background-color:rgba(135,206,250,0.1714692);\">bit</span> <span style=\"background-color:rgba(135,206,250,0.20349862);\">demure</span> <span style=\"background-color:rgba(135,206,250,0.3443363);\">,</span> <span style=\"background-color:rgba(135,206,250,1.0);\">with</span> <span style=\"background-color:rgba(135,206,250,0.32285547);\">hints</span>"
      ],
      "text/plain": [
       "<IPython.core.display.HTML object>"
      ]
     },
     "metadata": {},
     "output_type": "display_data"
    },
    {
     "name": "stdout",
     "output_type": "stream",
     "text": [
      "of:   \t100.0%\n",
      "suggesting:   \t0.0%\n",
      "at:   \t0.0%\n",
      "to:   \t0.0%\n",
      "that:   \t0.0%\n",
      "--------\n",
      "\n"
     ]
    },
    {
     "data": {
      "text/html": [
       "<span style=\"background-color:rgba(135,206,250,0.22457656);\">wine</span> <span style=\"background-color:rgba(135,206,250,0.33799115);\">review</span> <span style=\"background-color:rgba(135,206,250,0.15633346);\">:</span> <span style=\"background-color:rgba(135,206,250,0.2630288);\">germany</span> <span style=\"background-color:rgba(135,206,250,0.14330387);\">:</span> <span style=\"background-color:rgba(135,206,250,0.27782208);\">mosel</span> <span style=\"background-color:rgba(135,206,250,0.12619524);\">:</span> <span style=\"background-color:rgba(135,206,250,0.42746732);\">riesling</span> <span style=\"background-color:rgba(135,206,250,0.15848958);\">:</span> <span style=\"background-color:rgba(135,206,250,0.16147721);\">while</span> <span style=\"background-color:rgba(135,206,250,0.11475804);\">the</span> <span style=\"background-color:rgba(135,206,250,0.25548497);\">nose</span> <span style=\"background-color:rgba(135,206,250,0.12561055);\">is</span> <span style=\"background-color:rgba(135,206,250,0.10621012);\">a</span> <span style=\"background-color:rgba(135,206,250,0.20489985);\">bit</span> <span style=\"background-color:rgba(135,206,250,0.6086242);\">demure</span> <span style=\"background-color:rgba(135,206,250,0.24447225);\">,</span> <span style=\"background-color:rgba(135,206,250,0.4721612);\">with</span> <span style=\"background-color:rgba(135,206,250,1.0);\">hints</span> <span style=\"background-color:rgba(135,206,250,0.2018892);\">of</span>"
      ],
      "text/plain": [
       "<IPython.core.display.HTML object>"
      ]
     },
     "metadata": {},
     "output_type": "display_data"
    },
    {
     "name": "stdout",
     "output_type": "stream",
     "text": [
      "struck:   \t79.48%\n",
      "petrol:   \t7.57%\n",
      "slate:   \t2.34%\n",
      "smoke:   \t1.58%\n",
      "mineral:   \t0.76%\n",
      "--------\n",
      "\n"
     ]
    },
    {
     "data": {
      "text/html": [
       "<span style=\"background-color:rgba(135,206,250,0.41264123);\">wine</span> <span style=\"background-color:rgba(135,206,250,1.0);\">review</span> <span style=\"background-color:rgba(135,206,250,0.342029);\">:</span> <span style=\"background-color:rgba(135,206,250,0.24214043);\">germany</span> <span style=\"background-color:rgba(135,206,250,0.31148505);\">:</span> <span style=\"background-color:rgba(135,206,250,0.20434217);\">mosel</span> <span style=\"background-color:rgba(135,206,250,0.27790618);\">:</span> <span style=\"background-color:rgba(135,206,250,0.19586392);\">riesling</span> <span style=\"background-color:rgba(135,206,250,0.20928268);\">:</span> <span style=\"background-color:rgba(135,206,250,0.13561492);\">while</span> <span style=\"background-color:rgba(135,206,250,0.09801674);\">the</span> <span style=\"background-color:rgba(135,206,250,0.15315995);\">nose</span> <span style=\"background-color:rgba(135,206,250,0.115907885);\">is</span> <span style=\"background-color:rgba(135,206,250,0.15887073);\">a</span> <span style=\"background-color:rgba(135,206,250,0.12667434);\">bit</span> <span style=\"background-color:rgba(135,206,250,0.10623494);\">demure</span> <span style=\"background-color:rgba(135,206,250,0.14121795);\">,</span> <span style=\"background-color:rgba(135,206,250,0.29384375);\">with</span> <span style=\"background-color:rgba(135,206,250,0.24856648);\">hints</span> <span style=\"background-color:rgba(135,206,250,0.32069507);\">of</span> <span style=\"background-color:rgba(135,206,250,0.251791);\">struck</span>"
      ],
      "text/plain": [
       "<IPython.core.display.HTML object>"
      ]
     },
     "metadata": {},
     "output_type": "display_data"
    },
    {
     "name": "stdout",
     "output_type": "stream",
     "text": [
      "flint:   \t99.98%\n",
      "-:   \t0.01%\n",
      "match:   \t0.0%\n",
      "steel:   \t0.0%\n",
      "apple:   \t0.0%\n",
      "--------\n",
      "\n"
     ]
    },
    {
     "data": {
      "text/html": [
       "<span style=\"background-color:rgba(135,206,250,0.45402893);\">wine</span> <span style=\"background-color:rgba(135,206,250,0.95529294);\">review</span> <span style=\"background-color:rgba(135,206,250,0.28666574);\">:</span> <span style=\"background-color:rgba(135,206,250,0.2952632);\">germany</span> <span style=\"background-color:rgba(135,206,250,0.2310156);\">:</span> <span style=\"background-color:rgba(135,206,250,0.11241494);\">mosel</span> <span style=\"background-color:rgba(135,206,250,0.22190754);\">:</span> <span style=\"background-color:rgba(135,206,250,0.11771527);\">riesling</span> <span style=\"background-color:rgba(135,206,250,0.21209884);\">:</span> <span style=\"background-color:rgba(135,206,250,0.3471131);\">while</span> <span style=\"background-color:rgba(135,206,250,0.21831235);\">the</span> <span style=\"background-color:rgba(135,206,250,0.21269046);\">nose</span> <span style=\"background-color:rgba(135,206,250,0.22921865);\">is</span> <span style=\"background-color:rgba(135,206,250,0.23300476);\">a</span> <span style=\"background-color:rgba(135,206,250,0.24281709);\">bit</span> <span style=\"background-color:rgba(135,206,250,0.18049498);\">demure</span> <span style=\"background-color:rgba(135,206,250,0.20528848);\">,</span> <span style=\"background-color:rgba(135,206,250,0.67644775);\">with</span> <span style=\"background-color:rgba(135,206,250,1.0);\">hints</span> <span style=\"background-color:rgba(135,206,250,0.48846298);\">of</span> <span style=\"background-color:rgba(135,206,250,0.45139676);\">struck</span> <span style=\"background-color:rgba(135,206,250,0.24886073);\">flint</span>"
      ],
      "text/plain": [
       "<IPython.core.display.HTML object>"
      ]
     },
     "metadata": {},
     "output_type": "display_data"
    },
    {
     "name": "stdout",
     "output_type": "stream",
     "text": [
      "and:   \t93.54%\n",
      ",:   \t6.45%\n",
      "on:   \t0.0%\n",
      "or:   \t0.0%\n",
      ".:   \t0.0%\n",
      "--------\n",
      "\n"
     ]
    },
    {
     "data": {
      "text/html": [
       "<span style=\"background-color:rgba(135,206,250,0.17674552);\">wine</span> <span style=\"background-color:rgba(135,206,250,0.30150455);\">review</span> <span style=\"background-color:rgba(135,206,250,0.20948637);\">:</span> <span style=\"background-color:rgba(135,206,250,0.32298905);\">germany</span> <span style=\"background-color:rgba(135,206,250,0.18832758);\">:</span> <span style=\"background-color:rgba(135,206,250,0.18397684);\">mosel</span> <span style=\"background-color:rgba(135,206,250,0.10205045);\">:</span> <span style=\"background-color:rgba(135,206,250,0.29519826);\">riesling</span> <span style=\"background-color:rgba(135,206,250,0.1353079);\">:</span> <span style=\"background-color:rgba(135,206,250,0.15780073);\">while</span> <span style=\"background-color:rgba(135,206,250,0.061090045);\">the</span> <span style=\"background-color:rgba(135,206,250,0.18876003);\">nose</span> <span style=\"background-color:rgba(135,206,250,0.079893954);\">is</span> <span style=\"background-color:rgba(135,206,250,0.05594066);\">a</span> <span style=\"background-color:rgba(135,206,250,0.104583815);\">bit</span> <span style=\"background-color:rgba(135,206,250,0.21146819);\">demure</span> <span style=\"background-color:rgba(135,206,250,0.15403326);\">,</span> <span style=\"background-color:rgba(135,206,250,0.22252008);\">with</span> <span style=\"background-color:rgba(135,206,250,0.36901328);\">hints</span> <span style=\"background-color:rgba(135,206,250,0.27204284);\">of</span> <span style=\"background-color:rgba(135,206,250,0.62470853);\">struck</span> <span style=\"background-color:rgba(135,206,250,1.0);\">flint</span> <span style=\"background-color:rgba(135,206,250,0.26199678);\">and</span>"
      ],
      "text/plain": [
       "<IPython.core.display.HTML object>"
      ]
     },
     "metadata": {},
     "output_type": "display_data"
    },
    {
     "name": "stdout",
     "output_type": "stream",
     "text": [
      "slate:   \t94.9%\n",
      "struck:   \t0.95%\n",
      "flint:   \t0.95%\n",
      "smoke:   \t0.62%\n",
      "crushed:   \t0.58%\n",
      "--------\n",
      "\n"
     ]
    },
    {
     "data": {
      "text/html": [
       "<span style=\"background-color:rgba(135,206,250,0.42352012);\">wine</span> <span style=\"background-color:rgba(135,206,250,0.9982115);\">review</span> <span style=\"background-color:rgba(135,206,250,0.3186867);\">:</span> <span style=\"background-color:rgba(135,206,250,0.39831698);\">germany</span> <span style=\"background-color:rgba(135,206,250,0.2779948);\">:</span> <span style=\"background-color:rgba(135,206,250,0.106802024);\">mosel</span> <span style=\"background-color:rgba(135,206,250,0.22066484);\">:</span> <span style=\"background-color:rgba(135,206,250,0.11110445);\">riesling</span> <span style=\"background-color:rgba(135,206,250,0.18021327);\">:</span> <span style=\"background-color:rgba(135,206,250,0.32215765);\">while</span> <span style=\"background-color:rgba(135,206,250,0.1732072);\">the</span> <span style=\"background-color:rgba(135,206,250,0.14049174);\">nose</span> <span style=\"background-color:rgba(135,206,250,0.23422806);\">is</span> <span style=\"background-color:rgba(135,206,250,0.19788149);\">a</span> <span style=\"background-color:rgba(135,206,250,0.20118426);\">bit</span> <span style=\"background-color:rgba(135,206,250,0.10962879);\">demure</span> <span style=\"background-color:rgba(135,206,250,0.16611598);\">,</span> <span style=\"background-color:rgba(135,206,250,0.6071336);\">with</span> <span style=\"background-color:rgba(135,206,250,0.59051657);\">hints</span> <span style=\"background-color:rgba(135,206,250,0.49252152);\">of</span> <span style=\"background-color:rgba(135,206,250,0.28231433);\">struck</span> <span style=\"background-color:rgba(135,206,250,0.27688962);\">flint</span> <span style=\"background-color:rgba(135,206,250,1.0);\">and</span> <span style=\"background-color:rgba(135,206,250,0.6133011);\">slate</span>"
      ],
      "text/plain": [
       "<IPython.core.display.HTML object>"
      ]
     },
     "metadata": {},
     "output_type": "display_data"
    },
    {
     "name": "stdout",
     "output_type": "stream",
     "text": [
      ".:   \t79.23%\n",
      ",:   \t8.92%\n",
      "accenting:   \t6.56%\n",
      "on:   \t3.19%\n",
      "that:   \t1.16%\n",
      "--------\n",
      "\n"
     ]
    },
    {
     "data": {
      "text/html": [
       "<span style=\"background-color:rgba(135,206,250,0.5447681);\">wine</span> <span style=\"background-color:rgba(135,206,250,1.0);\">review</span> <span style=\"background-color:rgba(135,206,250,0.18763955);\">:</span> <span style=\"background-color:rgba(135,206,250,0.26269966);\">germany</span> <span style=\"background-color:rgba(135,206,250,0.13318223);\">:</span> <span style=\"background-color:rgba(135,206,250,0.13182954);\">mosel</span> <span style=\"background-color:rgba(135,206,250,0.1653788);\">:</span> <span style=\"background-color:rgba(135,206,250,0.19144428);\">riesling</span> <span style=\"background-color:rgba(135,206,250,0.13980223);\">:</span> <span style=\"background-color:rgba(135,206,250,0.10157761);\">while</span> <span style=\"background-color:rgba(135,206,250,0.060590487);\">the</span> <span style=\"background-color:rgba(135,206,250,0.15776241);\">nose</span> <span style=\"background-color:rgba(135,206,250,0.112614095);\">is</span> <span style=\"background-color:rgba(135,206,250,0.05895306);\">a</span> <span style=\"background-color:rgba(135,206,250,0.104573674);\">bit</span> <span style=\"background-color:rgba(135,206,250,0.11101296);\">demure</span> <span style=\"background-color:rgba(135,206,250,0.07005325);\">,</span> <span style=\"background-color:rgba(135,206,250,0.118253805);\">with</span> <span style=\"background-color:rgba(135,206,250,0.120682955);\">hints</span> <span style=\"background-color:rgba(135,206,250,0.06971771);\">of</span> <span style=\"background-color:rgba(135,206,250,0.105376855);\">struck</span> <span style=\"background-color:rgba(135,206,250,0.11179945);\">flint</span> <span style=\"background-color:rgba(135,206,250,0.11311293);\">and</span> <span style=\"background-color:rgba(135,206,250,0.25553414);\">slate</span> <span style=\"background-color:rgba(135,206,250,0.27103147);\">.</span>"
      ],
      "text/plain": [
       "<IPython.core.display.HTML object>"
      ]
     },
     "metadata": {},
     "output_type": "display_data"
    },
    {
     "name": "stdout",
     "output_type": "stream",
     "text": [
      "the:   \t86.49%\n",
      "it:   \t12.31%\n",
      "this:   \t0.5%\n",
      "there:   \t0.28%\n",
      "on:   \t0.21%\n",
      "--------\n",
      "\n"
     ]
    },
    {
     "data": {
      "text/html": [
       "<span style=\"background-color:rgba(135,206,250,0.1601211);\">wine</span> <span style=\"background-color:rgba(135,206,250,0.20096883);\">review</span> <span style=\"background-color:rgba(135,206,250,0.14329176);\">:</span> <span style=\"background-color:rgba(135,206,250,0.18050146);\">germany</span> <span style=\"background-color:rgba(135,206,250,0.14243503);\">:</span> <span style=\"background-color:rgba(135,206,250,0.1930974);\">mosel</span> <span style=\"background-color:rgba(135,206,250,0.08026247);\">:</span> <span style=\"background-color:rgba(135,206,250,0.20658673);\">riesling</span> <span style=\"background-color:rgba(135,206,250,0.082138166);\">:</span> <span style=\"background-color:rgba(135,206,250,0.082844);\">while</span> <span style=\"background-color:rgba(135,206,250,0.025143098);\">the</span> <span style=\"background-color:rgba(135,206,250,0.1896555);\">nose</span> <span style=\"background-color:rgba(135,206,250,0.052937914);\">is</span> <span style=\"background-color:rgba(135,206,250,0.023091903);\">a</span> <span style=\"background-color:rgba(135,206,250,0.06096735);\">bit</span> <span style=\"background-color:rgba(135,206,250,0.09056807);\">demure</span> <span style=\"background-color:rgba(135,206,250,0.059658367);\">,</span> <span style=\"background-color:rgba(135,206,250,0.080397695);\">with</span> <span style=\"background-color:rgba(135,206,250,0.15919204);\">hints</span> <span style=\"background-color:rgba(135,206,250,0.07923239);\">of</span> <span style=\"background-color:rgba(135,206,250,0.16645393);\">struck</span> <span style=\"background-color:rgba(135,206,250,0.15689474);\">flint</span> <span style=\"background-color:rgba(135,206,250,0.17672305);\">and</span> <span style=\"background-color:rgba(135,206,250,0.3520212);\">slate</span> <span style=\"background-color:rgba(135,206,250,1.0);\">.</span> <span style=\"background-color:rgba(135,206,250,0.10820805);\">the</span>"
      ],
      "text/plain": [
       "<IPython.core.display.HTML object>"
      ]
     },
     "metadata": {},
     "output_type": "display_data"
    },
    {
     "name": "stdout",
     "output_type": "stream",
     "text": [
      "palate:   \t99.84%\n",
      "mouthfeel:   \t0.11%\n",
      "mouth:   \t0.03%\n",
      "flavors:   \t0.01%\n",
      "finish:   \t0.0%\n",
      "--------\n",
      "\n"
     ]
    },
    {
     "data": {
      "text/html": [
       "<span style=\"background-color:rgba(135,206,250,0.08658224);\">wine</span> <span style=\"background-color:rgba(135,206,250,0.26646936);\">review</span> <span style=\"background-color:rgba(135,206,250,0.16032848);\">:</span> <span style=\"background-color:rgba(135,206,250,0.21328807);\">germany</span> <span style=\"background-color:rgba(135,206,250,0.13412985);\">:</span> <span style=\"background-color:rgba(135,206,250,0.06466454);\">mosel</span> <span style=\"background-color:rgba(135,206,250,0.07229843);\">:</span> <span style=\"background-color:rgba(135,206,250,0.051629517);\">riesling</span> <span style=\"background-color:rgba(135,206,250,0.06679191);\">:</span> <span style=\"background-color:rgba(135,206,250,0.10627085);\">while</span> <span style=\"background-color:rgba(135,206,250,0.036353488);\">the</span> <span style=\"background-color:rgba(135,206,250,0.042115808);\">nose</span> <span style=\"background-color:rgba(135,206,250,0.06432774);\">is</span> <span style=\"background-color:rgba(135,206,250,0.060139127);\">a</span> <span style=\"background-color:rgba(135,206,250,0.043646105);\">bit</span> <span style=\"background-color:rgba(135,206,250,0.06434482);\">demure</span> <span style=\"background-color:rgba(135,206,250,0.036893763);\">,</span> <span style=\"background-color:rgba(135,206,250,0.13328893);\">with</span> <span style=\"background-color:rgba(135,206,250,0.103773385);\">hints</span> <span style=\"background-color:rgba(135,206,250,0.061137587);\">of</span> <span style=\"background-color:rgba(135,206,250,0.070330344);\">struck</span> <span style=\"background-color:rgba(135,206,250,0.090754226);\">flint</span> <span style=\"background-color:rgba(135,206,250,0.13553658);\">and</span> <span style=\"background-color:rgba(135,206,250,0.19213872);\">slate</span> <span style=\"background-color:rgba(135,206,250,1.0);\">.</span> <span style=\"background-color:rgba(135,206,250,0.2528922);\">the</span> <span style=\"background-color:rgba(135,206,250,0.1673315);\">palate</span>"
      ],
      "text/plain": [
       "<IPython.core.display.HTML object>"
      ]
     },
     "metadata": {},
     "output_type": "display_data"
    },
    {
     "name": "stdout",
     "output_type": "stream",
     "text": [
      "is:   \t98.75%\n",
      "offers:   \t0.35%\n",
      "shows:   \t0.17%\n",
      "has:   \t0.14%\n",
      "on:   \t0.12%\n",
      "--------\n",
      "\n"
     ]
    },
    {
     "data": {
      "text/html": [
       "<span style=\"background-color:rgba(135,206,250,0.2585354);\">wine</span> <span style=\"background-color:rgba(135,206,250,0.54818094);\">review</span> <span style=\"background-color:rgba(135,206,250,0.45694757);\">:</span> <span style=\"background-color:rgba(135,206,250,0.48329064);\">germany</span> <span style=\"background-color:rgba(135,206,250,0.4221558);\">:</span> <span style=\"background-color:rgba(135,206,250,0.27397704);\">mosel</span> <span style=\"background-color:rgba(135,206,250,0.20422743);\">:</span> <span style=\"background-color:rgba(135,206,250,0.3389457);\">riesling</span> <span style=\"background-color:rgba(135,206,250,0.19217019);\">:</span> <span style=\"background-color:rgba(135,206,250,0.24746332);\">while</span> <span style=\"background-color:rgba(135,206,250,0.078717895);\">the</span> <span style=\"background-color:rgba(135,206,250,0.18920335);\">nose</span> <span style=\"background-color:rgba(135,206,250,0.07954303);\">is</span> <span style=\"background-color:rgba(135,206,250,0.07078256);\">a</span> <span style=\"background-color:rgba(135,206,250,0.090127066);\">bit</span> <span style=\"background-color:rgba(135,206,250,0.25161344);\">demure</span> <span style=\"background-color:rgba(135,206,250,0.0734656);\">,</span> <span style=\"background-color:rgba(135,206,250,0.1201019);\">with</span> <span style=\"background-color:rgba(135,206,250,0.13849261);\">hints</span> <span style=\"background-color:rgba(135,206,250,0.08238817);\">of</span> <span style=\"background-color:rgba(135,206,250,0.12318695);\">struck</span> <span style=\"background-color:rgba(135,206,250,0.20484318);\">flint</span> <span style=\"background-color:rgba(135,206,250,0.20157927);\">and</span> <span style=\"background-color:rgba(135,206,250,0.2984435);\">slate</span> <span style=\"background-color:rgba(135,206,250,0.9108838);\">.</span> <span style=\"background-color:rgba(135,206,250,0.58747196);\">the</span> <span style=\"background-color:rgba(135,206,250,1.0);\">palate</span> <span style=\"background-color:rgba(135,206,250,0.42030373);\">is</span>"
      ],
      "text/plain": [
       "<IPython.core.display.HTML object>"
      ]
     },
     "metadata": {},
     "output_type": "display_data"
    },
    {
     "name": "stdout",
     "output_type": "stream",
     "text": [
      "a:   \t19.87%\n",
      "rich:   \t8.73%\n",
      "plush:   \t5.96%\n",
      "bright:   \t5.64%\n",
      "full:   \t5.37%\n",
      "--------\n",
      "\n"
     ]
    },
    {
     "data": {
      "text/html": [
       "<span style=\"background-color:rgba(135,206,250,0.42714888);\">wine</span> <span style=\"background-color:rgba(135,206,250,0.8113078);\">review</span> <span style=\"background-color:rgba(135,206,250,0.74720144);\">:</span> <span style=\"background-color:rgba(135,206,250,0.49045107);\">germany</span> <span style=\"background-color:rgba(135,206,250,0.5803677);\">:</span> <span style=\"background-color:rgba(135,206,250,0.44086525);\">mosel</span> <span style=\"background-color:rgba(135,206,250,0.32633168);\">:</span> <span style=\"background-color:rgba(135,206,250,0.5484686);\">riesling</span> <span style=\"background-color:rgba(135,206,250,0.28920653);\">:</span> <span style=\"background-color:rgba(135,206,250,0.13798603);\">while</span> <span style=\"background-color:rgba(135,206,250,0.08354645);\">the</span> <span style=\"background-color:rgba(135,206,250,0.2522099);\">nose</span> <span style=\"background-color:rgba(135,206,250,0.06267559);\">is</span> <span style=\"background-color:rgba(135,206,250,0.048073407);\">a</span> <span style=\"background-color:rgba(135,206,250,0.109386876);\">bit</span> <span style=\"background-color:rgba(135,206,250,0.15384915);\">demure</span> <span style=\"background-color:rgba(135,206,250,0.09087387);\">,</span> <span style=\"background-color:rgba(135,206,250,0.12010278);\">with</span> <span style=\"background-color:rgba(135,206,250,0.13947475);\">hints</span> <span style=\"background-color:rgba(135,206,250,0.09336091);\">of</span> <span style=\"background-color:rgba(135,206,250,0.24256444);\">struck</span> <span style=\"background-color:rgba(135,206,250,0.2732849);\">flint</span> <span style=\"background-color:rgba(135,206,250,0.22159848);\">and</span> <span style=\"background-color:rgba(135,206,250,0.5006489);\">slate</span> <span style=\"background-color:rgba(135,206,250,1.0);\">.</span> <span style=\"background-color:rgba(135,206,250,0.565709);\">the</span> <span style=\"background-color:rgba(135,206,250,0.83672935);\">palate</span> <span style=\"background-color:rgba(135,206,250,0.96513623);\">is</span> <span style=\"background-color:rgba(135,206,250,0.21307221);\">more</span>"
      ],
      "text/plain": [
       "<IPython.core.display.HTML object>"
      ]
     },
     "metadata": {},
     "output_type": "display_data"
    },
    {
     "name": "stdout",
     "output_type": "stream",
     "text": [
      "delicate:   \t19.28%\n",
      "subdued:   \t9.36%\n",
      "steely:   \t9.07%\n",
      "pronounced:   \t7.56%\n",
      "concentrated:   \t6.41%\n",
      "--------\n",
      "\n"
     ]
    },
    {
     "data": {
      "text/html": [
       "<span style=\"background-color:rgba(135,206,250,0.15553376);\">wine</span> <span style=\"background-color:rgba(135,206,250,0.31720462);\">review</span> <span style=\"background-color:rgba(135,206,250,0.21308222);\">:</span> <span style=\"background-color:rgba(135,206,250,0.28501981);\">germany</span> <span style=\"background-color:rgba(135,206,250,0.17112234);\">:</span> <span style=\"background-color:rgba(135,206,250,0.08965618);\">mosel</span> <span style=\"background-color:rgba(135,206,250,0.11563343);\">:</span> <span style=\"background-color:rgba(135,206,250,0.14108177);\">riesling</span> <span style=\"background-color:rgba(135,206,250,0.117799826);\">:</span> <span style=\"background-color:rgba(135,206,250,0.16789474);\">while</span> <span style=\"background-color:rgba(135,206,250,0.049403474);\">the</span> <span style=\"background-color:rgba(135,206,250,0.11670058);\">nose</span> <span style=\"background-color:rgba(135,206,250,0.07397359);\">is</span> <span style=\"background-color:rgba(135,206,250,0.04012533);\">a</span> <span style=\"background-color:rgba(135,206,250,0.06943941);\">bit</span> <span style=\"background-color:rgba(135,206,250,0.045760635);\">demure</span> <span style=\"background-color:rgba(135,206,250,0.038720496);\">,</span> <span style=\"background-color:rgba(135,206,250,0.12202106);\">with</span> <span style=\"background-color:rgba(135,206,250,0.11392374);\">hints</span> <span style=\"background-color:rgba(135,206,250,0.08875145);\">of</span> <span style=\"background-color:rgba(135,206,250,0.057166543);\">struck</span> <span style=\"background-color:rgba(135,206,250,0.0817858);\">flint</span> <span style=\"background-color:rgba(135,206,250,0.09111345);\">and</span> <span style=\"background-color:rgba(135,206,250,0.1604154);\">slate</span> <span style=\"background-color:rgba(135,206,250,0.5305253);\">.</span> <span style=\"background-color:rgba(135,206,250,0.2946444);\">the</span> <span style=\"background-color:rgba(135,206,250,0.607098);\">palate</span> <span style=\"background-color:rgba(135,206,250,0.6719451);\">is</span> <span style=\"background-color:rgba(135,206,250,1.0);\">more</span> <span style=\"background-color:rgba(135,206,250,0.24156874);\">mineral</span>"
      ],
      "text/plain": [
       "<IPython.core.display.HTML object>"
      ]
     },
     "metadata": {},
     "output_type": "display_data"
    },
    {
     "name": "stdout",
     "output_type": "stream",
     "text": [
      "and:   \t45.77%\n",
      ",:   \t25.1%\n",
      "than:   \t16.53%\n",
      "-:   \t10.86%\n",
      "tones:   \t0.83%\n",
      "--------\n",
      "\n"
     ]
    },
    {
     "data": {
      "text/html": [
       "<span style=\"background-color:rgba(135,206,250,0.13626097);\">wine</span> <span style=\"background-color:rgba(135,206,250,0.21646081);\">review</span> <span style=\"background-color:rgba(135,206,250,0.29173037);\">:</span> <span style=\"background-color:rgba(135,206,250,0.37706202);\">germany</span> <span style=\"background-color:rgba(135,206,250,0.27825052);\">:</span> <span style=\"background-color:rgba(135,206,250,0.18747945);\">mosel</span> <span style=\"background-color:rgba(135,206,250,0.09748614);\">:</span> <span style=\"background-color:rgba(135,206,250,0.29949558);\">riesling</span> <span style=\"background-color:rgba(135,206,250,0.11911725);\">:</span> <span style=\"background-color:rgba(135,206,250,0.10456582);\">while</span> <span style=\"background-color:rgba(135,206,250,0.032481965);\">the</span> <span style=\"background-color:rgba(135,206,250,0.12166047);\">nose</span> <span style=\"background-color:rgba(135,206,250,0.044835508);\">is</span> <span style=\"background-color:rgba(135,206,250,0.027034841);\">a</span> <span style=\"background-color:rgba(135,206,250,0.056340624);\">bit</span> <span style=\"background-color:rgba(135,206,250,0.14481781);\">demure</span> <span style=\"background-color:rgba(135,206,250,0.0455195);\">,</span> <span style=\"background-color:rgba(135,206,250,0.063716836);\">with</span> <span style=\"background-color:rgba(135,206,250,0.09013888);\">hints</span> <span style=\"background-color:rgba(135,206,250,0.040295877);\">of</span> <span style=\"background-color:rgba(135,206,250,0.09446825);\">struck</span> <span style=\"background-color:rgba(135,206,250,0.1549172);\">flint</span> <span style=\"background-color:rgba(135,206,250,0.05322046);\">and</span> <span style=\"background-color:rgba(135,206,250,0.20379418);\">slate</span> <span style=\"background-color:rgba(135,206,250,0.34151798);\">.</span> <span style=\"background-color:rgba(135,206,250,0.16167104);\">the</span> <span style=\"background-color:rgba(135,206,250,0.32677317);\">palate</span> <span style=\"background-color:rgba(135,206,250,0.36810958);\">is</span> <span style=\"background-color:rgba(135,206,250,0.7198325);\">more</span> <span style=\"background-color:rgba(135,206,250,1.0);\">mineral</span> <span style=\"background-color:rgba(135,206,250,0.35548007);\">and</span>"
      ],
      "text/plain": [
       "<IPython.core.display.HTML object>"
      ]
     },
     "metadata": {},
     "output_type": "display_data"
    },
    {
     "name": "stdout",
     "output_type": "stream",
     "text": [
      "steely:   \t15.52%\n",
      "savory:   \t12.86%\n",
      "mineral:   \t12.62%\n",
      "slate:   \t6.99%\n",
      "smoke:   \t4.79%\n",
      "--------\n",
      "\n"
     ]
    },
    {
     "data": {
      "text/html": [
       "<span style=\"background-color:rgba(135,206,250,0.17111494);\">wine</span> <span style=\"background-color:rgba(135,206,250,0.2798145);\">review</span> <span style=\"background-color:rgba(135,206,250,0.3743142);\">:</span> <span style=\"background-color:rgba(135,206,250,0.35463828);\">germany</span> <span style=\"background-color:rgba(135,206,250,0.32399613);\">:</span> <span style=\"background-color:rgba(135,206,250,0.24051997);\">mosel</span> <span style=\"background-color:rgba(135,206,250,0.13340788);\">:</span> <span style=\"background-color:rgba(135,206,250,0.4080704);\">riesling</span> <span style=\"background-color:rgba(135,206,250,0.14911838);\">:</span> <span style=\"background-color:rgba(135,206,250,0.11380569);\">while</span> <span style=\"background-color:rgba(135,206,250,0.049374674);\">the</span> <span style=\"background-color:rgba(135,206,250,0.15307318);\">nose</span> <span style=\"background-color:rgba(135,206,250,0.07758631);\">is</span> <span style=\"background-color:rgba(135,206,250,0.03807249);\">a</span> <span style=\"background-color:rgba(135,206,250,0.06384933);\">bit</span> <span style=\"background-color:rgba(135,206,250,0.047700293);\">demure</span> <span style=\"background-color:rgba(135,206,250,0.052679148);\">,</span> <span style=\"background-color:rgba(135,206,250,0.06625752);\">with</span> <span style=\"background-color:rgba(135,206,250,0.07901029);\">hints</span> <span style=\"background-color:rgba(135,206,250,0.0638031);\">of</span> <span style=\"background-color:rgba(135,206,250,0.07774662);\">struck</span> <span style=\"background-color:rgba(135,206,250,0.13190627);\">flint</span> <span style=\"background-color:rgba(135,206,250,0.08869257);\">and</span> <span style=\"background-color:rgba(135,206,250,0.17298457);\">slate</span> <span style=\"background-color:rgba(135,206,250,0.41916168);\">.</span> <span style=\"background-color:rgba(135,206,250,0.18033543);\">the</span> <span style=\"background-color:rgba(135,206,250,0.48377582);\">palate</span> <span style=\"background-color:rgba(135,206,250,0.52702975);\">is</span> <span style=\"background-color:rgba(135,206,250,0.7362193);\">more</span> <span style=\"background-color:rgba(135,206,250,0.41600594);\">mineral</span> <span style=\"background-color:rgba(135,206,250,1.0);\">and</span> <span style=\"background-color:rgba(135,206,250,0.34428203);\">zesty</span>"
      ],
      "text/plain": [
       "<IPython.core.display.HTML object>"
      ]
     },
     "metadata": {},
     "output_type": "display_data"
    },
    {
     "name": "stdout",
     "output_type": "stream",
     "text": [
      ",:   \t97.36%\n",
      "on:   \t1.01%\n",
      "than:   \t0.66%\n",
      "lime:   \t0.28%\n",
      "in:   \t0.27%\n",
      "--------\n",
      "\n"
     ]
    },
    {
     "data": {
      "text/html": [
       "<span style=\"background-color:rgba(135,206,250,0.10610209);\">wine</span> <span style=\"background-color:rgba(135,206,250,0.211878);\">review</span> <span style=\"background-color:rgba(135,206,250,0.25010693);\">:</span> <span style=\"background-color:rgba(135,206,250,0.3293066);\">germany</span> <span style=\"background-color:rgba(135,206,250,0.23818447);\">:</span> <span style=\"background-color:rgba(135,206,250,0.13387647);\">mosel</span> <span style=\"background-color:rgba(135,206,250,0.094556786);\">:</span> <span style=\"background-color:rgba(135,206,250,0.27367902);\">riesling</span> <span style=\"background-color:rgba(135,206,250,0.12208011);\">:</span> <span style=\"background-color:rgba(135,206,250,0.21098946);\">while</span> <span style=\"background-color:rgba(135,206,250,0.039941285);\">the</span> <span style=\"background-color:rgba(135,206,250,0.09130515);\">nose</span> <span style=\"background-color:rgba(135,206,250,0.08207055);\">is</span> <span style=\"background-color:rgba(135,206,250,0.027662246);\">a</span> <span style=\"background-color:rgba(135,206,250,0.05978924);\">bit</span> <span style=\"background-color:rgba(135,206,250,0.10053626);\">demure</span> <span style=\"background-color:rgba(135,206,250,0.030645149);\">,</span> <span style=\"background-color:rgba(135,206,250,0.10665955);\">with</span> <span style=\"background-color:rgba(135,206,250,0.06701572);\">hints</span> <span style=\"background-color:rgba(135,206,250,0.03593958);\">of</span> <span style=\"background-color:rgba(135,206,250,0.06876275);\">struck</span> <span style=\"background-color:rgba(135,206,250,0.098821804);\">flint</span> <span style=\"background-color:rgba(135,206,250,0.08031356);\">and</span> <span style=\"background-color:rgba(135,206,250,0.12758733);\">slate</span> <span style=\"background-color:rgba(135,206,250,0.32211894);\">.</span> <span style=\"background-color:rgba(135,206,250,0.09014366);\">the</span> <span style=\"background-color:rgba(135,206,250,0.21537492);\">palate</span> <span style=\"background-color:rgba(135,206,250,0.2974635);\">is</span> <span style=\"background-color:rgba(135,206,250,0.26295987);\">more</span> <span style=\"background-color:rgba(135,206,250,0.45386666);\">mineral</span> <span style=\"background-color:rgba(135,206,250,0.83184594);\">and</span> <span style=\"background-color:rgba(135,206,250,1.0);\">zesty</span> <span style=\"background-color:rgba(135,206,250,0.35482723);\">,</span>"
      ],
      "text/plain": [
       "<IPython.core.display.HTML object>"
      ]
     },
     "metadata": {},
     "output_type": "display_data"
    },
    {
     "name": "stdout",
     "output_type": "stream",
     "text": [
      "with:   \t46.96%\n",
      "it:   \t37.35%\n",
      "this:   \t6.69%\n",
      "the:   \t3.8%\n",
      "but:   \t2.88%\n",
      "--------\n",
      "\n"
     ]
    },
    {
     "data": {
      "text/html": [
       "<span style=\"background-color:rgba(135,206,250,0.16061579);\">wine</span> <span style=\"background-color:rgba(135,206,250,0.23557241);\">review</span> <span style=\"background-color:rgba(135,206,250,0.54936963);\">:</span> <span style=\"background-color:rgba(135,206,250,0.398242);\">germany</span> <span style=\"background-color:rgba(135,206,250,0.65738964);\">:</span> <span style=\"background-color:rgba(135,206,250,0.16349903);\">mosel</span> <span style=\"background-color:rgba(135,206,250,0.17366417);\">:</span> <span style=\"background-color:rgba(135,206,250,0.12759887);\">riesling</span> <span style=\"background-color:rgba(135,206,250,0.13828938);\">:</span> <span style=\"background-color:rgba(135,206,250,0.13258146);\">while</span> <span style=\"background-color:rgba(135,206,250,0.034238175);\">the</span> <span style=\"background-color:rgba(135,206,250,0.14975496);\">nose</span> <span style=\"background-color:rgba(135,206,250,0.059880596);\">is</span> <span style=\"background-color:rgba(135,206,250,0.039755065);\">a</span> <span style=\"background-color:rgba(135,206,250,0.07257227);\">bit</span> <span style=\"background-color:rgba(135,206,250,0.122805886);\">demure</span> <span style=\"background-color:rgba(135,206,250,0.04390813);\">,</span> <span style=\"background-color:rgba(135,206,250,0.07835876);\">with</span> <span style=\"background-color:rgba(135,206,250,0.10454227);\">hints</span> <span style=\"background-color:rgba(135,206,250,0.0437902);\">of</span> <span style=\"background-color:rgba(135,206,250,0.049908258);\">struck</span> <span style=\"background-color:rgba(135,206,250,0.08961221);\">flint</span> <span style=\"background-color:rgba(135,206,250,0.05865118);\">and</span> <span style=\"background-color:rgba(135,206,250,0.101599276);\">slate</span> <span style=\"background-color:rgba(135,206,250,0.22451739);\">.</span> <span style=\"background-color:rgba(135,206,250,0.05776344);\">the</span> <span style=\"background-color:rgba(135,206,250,0.18795218);\">palate</span> <span style=\"background-color:rgba(135,206,250,0.16833685);\">is</span> <span style=\"background-color:rgba(135,206,250,0.23590775);\">more</span> <span style=\"background-color:rgba(135,206,250,0.20230444);\">mineral</span> <span style=\"background-color:rgba(135,206,250,0.21634485);\">and</span> <span style=\"background-color:rgba(135,206,250,0.44389665);\">zesty</span> <span style=\"background-color:rgba(135,206,250,1.0);\">,</span> <span style=\"background-color:rgba(135,206,250,0.31447077);\">it</span>"
      ],
      "text/plain": [
       "<IPython.core.display.HTML object>"
      ]
     },
     "metadata": {},
     "output_type": "display_data"
    },
    {
     "name": "stdout",
     "output_type": "stream",
     "text": [
      "':   \t88.93%\n",
      "offers:   \t6.07%\n",
      "shows:   \t1.36%\n",
      "finishes:   \t1.23%\n",
      "is:   \t0.53%\n",
      "--------\n",
      "\n"
     ]
    },
    {
     "data": {
      "text/html": [
       "<span style=\"background-color:rgba(135,206,250,0.13578057);\">wine</span> <span style=\"background-color:rgba(135,206,250,0.26336816);\">review</span> <span style=\"background-color:rgba(135,206,250,0.34187862);\">:</span> <span style=\"background-color:rgba(135,206,250,0.29084164);\">germany</span> <span style=\"background-color:rgba(135,206,250,0.27834716);\">:</span> <span style=\"background-color:rgba(135,206,250,0.11588134);\">mosel</span> <span style=\"background-color:rgba(135,206,250,0.13749914);\">:</span> <span style=\"background-color:rgba(135,206,250,0.13543858);\">riesling</span> <span style=\"background-color:rgba(135,206,250,0.115599096);\">:</span> <span style=\"background-color:rgba(135,206,250,0.08491812);\">while</span> <span style=\"background-color:rgba(135,206,250,0.045177605);\">the</span> <span style=\"background-color:rgba(135,206,250,0.086374804);\">nose</span> <span style=\"background-color:rgba(135,206,250,0.044734027);\">is</span> <span style=\"background-color:rgba(135,206,250,0.04191083);\">a</span> <span style=\"background-color:rgba(135,206,250,0.05768505);\">bit</span> <span style=\"background-color:rgba(135,206,250,0.0549389);\">demure</span> <span style=\"background-color:rgba(135,206,250,0.030185364);\">,</span> <span style=\"background-color:rgba(135,206,250,0.051125586);\">with</span> <span style=\"background-color:rgba(135,206,250,0.064408205);\">hints</span> <span style=\"background-color:rgba(135,206,250,0.032607798);\">of</span> <span style=\"background-color:rgba(135,206,250,0.034427214);\">struck</span> <span style=\"background-color:rgba(135,206,250,0.04615669);\">flint</span> <span style=\"background-color:rgba(135,206,250,0.04080475);\">and</span> <span style=\"background-color:rgba(135,206,250,0.0589749);\">slate</span> <span style=\"background-color:rgba(135,206,250,0.16320422);\">.</span> <span style=\"background-color:rgba(135,206,250,0.065617524);\">the</span> <span style=\"background-color:rgba(135,206,250,0.11441664);\">palate</span> <span style=\"background-color:rgba(135,206,250,0.140753);\">is</span> <span style=\"background-color:rgba(135,206,250,0.14760475);\">more</span> <span style=\"background-color:rgba(135,206,250,0.11886165);\">mineral</span> <span style=\"background-color:rgba(135,206,250,0.17179474);\">and</span> <span style=\"background-color:rgba(135,206,250,0.2268797);\">zesty</span> <span style=\"background-color:rgba(135,206,250,0.38108888);\">,</span> <span style=\"background-color:rgba(135,206,250,1.0);\">it</span> <span style=\"background-color:rgba(135,206,250,0.1854253);\">also</span>"
      ],
      "text/plain": [
       "<IPython.core.display.HTML object>"
      ]
     },
     "metadata": {},
     "output_type": "display_data"
    },
    {
     "name": "stdout",
     "output_type": "stream",
     "text": [
      "shows:   \t46.81%\n",
      "has:   \t23.96%\n",
      "offers:   \t22.43%\n",
      "boasts:   \t2.54%\n",
      "packs:   \t1.12%\n",
      "--------\n",
      "\n"
     ]
    },
    {
     "data": {
      "text/html": [
       "<span style=\"background-color:rgba(135,206,250,0.19823255);\">wine</span> <span style=\"background-color:rgba(135,206,250,0.30418134);\">review</span> <span style=\"background-color:rgba(135,206,250,0.82002187);\">:</span> <span style=\"background-color:rgba(135,206,250,0.5626602);\">germany</span> <span style=\"background-color:rgba(135,206,250,1.0);\">:</span> <span style=\"background-color:rgba(135,206,250,0.25153026);\">mosel</span> <span style=\"background-color:rgba(135,206,250,0.30278024);\">:</span> <span style=\"background-color:rgba(135,206,250,0.3090728);\">riesling</span> <span style=\"background-color:rgba(135,206,250,0.17713943);\">:</span> <span style=\"background-color:rgba(135,206,250,0.10869378);\">while</span> <span style=\"background-color:rgba(135,206,250,0.045384653);\">the</span> <span style=\"background-color:rgba(135,206,250,0.14486738);\">nose</span> <span style=\"background-color:rgba(135,206,250,0.044683244);\">is</span> <span style=\"background-color:rgba(135,206,250,0.045653164);\">a</span> <span style=\"background-color:rgba(135,206,250,0.06500287);\">bit</span> <span style=\"background-color:rgba(135,206,250,0.16391547);\">demure</span> <span style=\"background-color:rgba(135,206,250,0.04315679);\">,</span> <span style=\"background-color:rgba(135,206,250,0.043250997);\">with</span> <span style=\"background-color:rgba(135,206,250,0.07443082);\">hints</span> <span style=\"background-color:rgba(135,206,250,0.045773257);\">of</span> <span style=\"background-color:rgba(135,206,250,0.06425265);\">struck</span> <span style=\"background-color:rgba(135,206,250,0.12898557);\">flint</span> <span style=\"background-color:rgba(135,206,250,0.068664595);\">and</span> <span style=\"background-color:rgba(135,206,250,0.16035213);\">slate</span> <span style=\"background-color:rgba(135,206,250,0.15544519);\">.</span> <span style=\"background-color:rgba(135,206,250,0.054719027);\">the</span> <span style=\"background-color:rgba(135,206,250,0.1420167);\">palate</span> <span style=\"background-color:rgba(135,206,250,0.071574904);\">is</span> <span style=\"background-color:rgba(135,206,250,0.14053984);\">more</span> <span style=\"background-color:rgba(135,206,250,0.25473475);\">mineral</span> <span style=\"background-color:rgba(135,206,250,0.1609309);\">and</span> <span style=\"background-color:rgba(135,206,250,0.38305032);\">zesty</span> <span style=\"background-color:rgba(135,206,250,0.33078322);\">,</span> <span style=\"background-color:rgba(135,206,250,0.41878334);\">it</span> <span style=\"background-color:rgba(135,206,250,0.5363704);\">also</span> <span style=\"background-color:rgba(135,206,250,0.43680596);\">has</span>"
      ],
      "text/plain": [
       "<IPython.core.display.HTML object>"
      ]
     },
     "metadata": {},
     "output_type": "display_data"
    },
    {
     "name": "stdout",
     "output_type": "stream",
     "text": [
      "a:   \t97.66%\n",
      "an:   \t1.36%\n",
      "the:   \t0.2%\n",
      "tart:   \t0.1%\n",
      "more:   \t0.09%\n",
      "--------\n",
      "\n"
     ]
    },
    {
     "data": {
      "text/html": [
       "<span style=\"background-color:rgba(135,206,250,0.1412279);\">wine</span> <span style=\"background-color:rgba(135,206,250,0.16823497);\">review</span> <span style=\"background-color:rgba(135,206,250,0.3971986);\">:</span> <span style=\"background-color:rgba(135,206,250,0.4175851);\">germany</span> <span style=\"background-color:rgba(135,206,250,0.37141782);\">:</span> <span style=\"background-color:rgba(135,206,250,0.20025916);\">mosel</span> <span style=\"background-color:rgba(135,206,250,0.098865405);\">:</span> <span style=\"background-color:rgba(135,206,250,0.25852373);\">riesling</span> <span style=\"background-color:rgba(135,206,250,0.11859632);\">:</span> <span style=\"background-color:rgba(135,206,250,0.07490313);\">while</span> <span style=\"background-color:rgba(135,206,250,0.027399555);\">the</span> <span style=\"background-color:rgba(135,206,250,0.10531106);\">nose</span> <span style=\"background-color:rgba(135,206,250,0.03429279);\">is</span> <span style=\"background-color:rgba(135,206,250,0.019118585);\">a</span> <span style=\"background-color:rgba(135,206,250,0.0586101);\">bit</span> <span style=\"background-color:rgba(135,206,250,0.15810737);\">demure</span> <span style=\"background-color:rgba(135,206,250,0.032825034);\">,</span> <span style=\"background-color:rgba(135,206,250,0.039090734);\">with</span> <span style=\"background-color:rgba(135,206,250,0.057664353);\">hints</span> <span style=\"background-color:rgba(135,206,250,0.02646367);\">of</span> <span style=\"background-color:rgba(135,206,250,0.07181879);\">struck</span> <span style=\"background-color:rgba(135,206,250,0.08402734);\">flint</span> <span style=\"background-color:rgba(135,206,250,0.038576074);\">and</span> <span style=\"background-color:rgba(135,206,250,0.10934008);\">slate</span> <span style=\"background-color:rgba(135,206,250,0.1314215);\">.</span> <span style=\"background-color:rgba(135,206,250,0.0338012);\">the</span> <span style=\"background-color:rgba(135,206,250,0.15231074);\">palate</span> <span style=\"background-color:rgba(135,206,250,0.06497975);\">is</span> <span style=\"background-color:rgba(135,206,250,0.10261738);\">more</span> <span style=\"background-color:rgba(135,206,250,0.15637517);\">mineral</span> <span style=\"background-color:rgba(135,206,250,0.12715718);\">and</span> <span style=\"background-color:rgba(135,206,250,0.2271545);\">zesty</span> <span style=\"background-color:rgba(135,206,250,0.23866715);\">,</span> <span style=\"background-color:rgba(135,206,250,0.33812565);\">it</span> <span style=\"background-color:rgba(135,206,250,0.5519603);\">also</span> <span style=\"background-color:rgba(135,206,250,1.0);\">has</span> <span style=\"background-color:rgba(135,206,250,0.2101084);\">a</span>"
      ],
      "text/plain": [
       "<IPython.core.display.HTML object>"
      ]
     },
     "metadata": {},
     "output_type": "display_data"
    },
    {
     "name": "stdout",
     "output_type": "stream",
     "text": [
      "delicate:   \t13.08%\n",
      "crisp:   \t11.18%\n",
      "tart:   \t8.99%\n",
      "zesty:   \t6.11%\n",
      "brisk:   \t4.65%\n",
      "--------\n",
      "\n"
     ]
    },
    {
     "data": {
      "text/html": [
       "<span style=\"background-color:rgba(135,206,250,0.15620726);\">wine</span> <span style=\"background-color:rgba(135,206,250,0.22046809);\">review</span> <span style=\"background-color:rgba(135,206,250,0.43391916);\">:</span> <span style=\"background-color:rgba(135,206,250,0.4151112);\">germany</span> <span style=\"background-color:rgba(135,206,250,0.38741413);\">:</span> <span style=\"background-color:rgba(135,206,250,0.2460929);\">mosel</span> <span style=\"background-color:rgba(135,206,250,0.12978664);\">:</span> <span style=\"background-color:rgba(135,206,250,0.3524171);\">riesling</span> <span style=\"background-color:rgba(135,206,250,0.13850345);\">:</span> <span style=\"background-color:rgba(135,206,250,0.07051869);\">while</span> <span style=\"background-color:rgba(135,206,250,0.029117318);\">the</span> <span style=\"background-color:rgba(135,206,250,0.12566316);\">nose</span> <span style=\"background-color:rgba(135,206,250,0.04105827);\">is</span> <span style=\"background-color:rgba(135,206,250,0.024734698);\">a</span> <span style=\"background-color:rgba(135,206,250,0.05133456);\">bit</span> <span style=\"background-color:rgba(135,206,250,0.056762543);\">demure</span> <span style=\"background-color:rgba(135,206,250,0.03214319);\">,</span> <span style=\"background-color:rgba(135,206,250,0.03242456);\">with</span> <span style=\"background-color:rgba(135,206,250,0.046503026);\">hints</span> <span style=\"background-color:rgba(135,206,250,0.028554713);\">of</span> <span style=\"background-color:rgba(135,206,250,0.042062666);\">struck</span> <span style=\"background-color:rgba(135,206,250,0.067104734);\">flint</span> <span style=\"background-color:rgba(135,206,250,0.043719314);\">and</span> <span style=\"background-color:rgba(135,206,250,0.09917297);\">slate</span> <span style=\"background-color:rgba(135,206,250,0.13728891);\">.</span> <span style=\"background-color:rgba(135,206,250,0.035143904);\">the</span> <span style=\"background-color:rgba(135,206,250,0.16649725);\">palate</span> <span style=\"background-color:rgba(135,206,250,0.08409121);\">is</span> <span style=\"background-color:rgba(135,206,250,0.07651067);\">more</span> <span style=\"background-color:rgba(135,206,250,0.107212335);\">mineral</span> <span style=\"background-color:rgba(135,206,250,0.11274002);\">and</span> <span style=\"background-color:rgba(135,206,250,0.10537319);\">zesty</span> <span style=\"background-color:rgba(135,206,250,0.18393734);\">,</span> <span style=\"background-color:rgba(135,206,250,0.29246825);\">it</span> <span style=\"background-color:rgba(135,206,250,0.31958482);\">also</span> <span style=\"background-color:rgba(135,206,250,0.89042354);\">has</span> <span style=\"background-color:rgba(135,206,250,1.0);\">a</span> <span style=\"background-color:rgba(135,206,250,0.34464952);\">steely</span>"
      ],
      "text/plain": [
       "<IPython.core.display.HTML object>"
      ]
     },
     "metadata": {},
     "output_type": "display_data"
    },
    {
     "name": "stdout",
     "output_type": "stream",
     "text": [
      ",:   \t67.14%\n",
      "spine:   \t9.41%\n",
      "edge:   \t6.09%\n",
      "backbone:   \t4.7%\n",
      "minerality:   \t2.78%\n",
      "--------\n",
      "\n"
     ]
    },
    {
     "data": {
      "text/html": [
       "<span style=\"background-color:rgba(135,206,250,0.059708074);\">wine</span> <span style=\"background-color:rgba(135,206,250,0.11708965);\">review</span> <span style=\"background-color:rgba(135,206,250,0.2222972);\">:</span> <span style=\"background-color:rgba(135,206,250,0.2625653);\">germany</span> <span style=\"background-color:rgba(135,206,250,0.22707328);\">:</span> <span style=\"background-color:rgba(135,206,250,0.09594017);\">mosel</span> <span style=\"background-color:rgba(135,206,250,0.068728514);\">:</span> <span style=\"background-color:rgba(135,206,250,0.19934843);\">riesling</span> <span style=\"background-color:rgba(135,206,250,0.08477374);\">:</span> <span style=\"background-color:rgba(135,206,250,0.13882822);\">while</span> <span style=\"background-color:rgba(135,206,250,0.023138355);\">the</span> <span style=\"background-color:rgba(135,206,250,0.057348166);\">nose</span> <span style=\"background-color:rgba(135,206,250,0.047998883);\">is</span> <span style=\"background-color:rgba(135,206,250,0.016969077);\">a</span> <span style=\"background-color:rgba(135,206,250,0.03441385);\">bit</span> <span style=\"background-color:rgba(135,206,250,0.064609535);\">demure</span> <span style=\"background-color:rgba(135,206,250,0.017131904);\">,</span> <span style=\"background-color:rgba(135,206,250,0.055835806);\">with</span> <span style=\"background-color:rgba(135,206,250,0.035459373);\">hints</span> <span style=\"background-color:rgba(135,206,250,0.017780783);\">of</span> <span style=\"background-color:rgba(135,206,250,0.033045195);\">struck</span> <span style=\"background-color:rgba(135,206,250,0.051025417);\">flint</span> <span style=\"background-color:rgba(135,206,250,0.030915163);\">and</span> <span style=\"background-color:rgba(135,206,250,0.060243927);\">slate</span> <span style=\"background-color:rgba(135,206,250,0.13152279);\">.</span> <span style=\"background-color:rgba(135,206,250,0.029550169);\">the</span> <span style=\"background-color:rgba(135,206,250,0.08406408);\">palate</span> <span style=\"background-color:rgba(135,206,250,0.092623375);\">is</span> <span style=\"background-color:rgba(135,206,250,0.06307679);\">more</span> <span style=\"background-color:rgba(135,206,250,0.10263229);\">mineral</span> <span style=\"background-color:rgba(135,206,250,0.10704989);\">and</span> <span style=\"background-color:rgba(135,206,250,0.15544003);\">zesty</span> <span style=\"background-color:rgba(135,206,250,0.06690373);\">,</span> <span style=\"background-color:rgba(135,206,250,0.27610078);\">it</span> <span style=\"background-color:rgba(135,206,250,0.21858007);\">also</span> <span style=\"background-color:rgba(135,206,250,0.50157696);\">has</span> <span style=\"background-color:rgba(135,206,250,0.3599473);\">a</span> <span style=\"background-color:rgba(135,206,250,1.0);\">steely</span> <span style=\"background-color:rgba(135,206,250,0.31034493);\">,</span>"
      ],
      "text/plain": [
       "<IPython.core.display.HTML object>"
      ]
     },
     "metadata": {},
     "output_type": "display_data"
    },
    {
     "name": "stdout",
     "output_type": "stream",
     "text": [
      "mineral:   \t44.65%\n",
      "minerally:   \t43.46%\n",
      "stony:   \t3.76%\n",
      "steely:   \t2.61%\n",
      "taut:   \t2.01%\n",
      "--------\n",
      "\n"
     ]
    },
    {
     "data": {
      "text/html": [
       "<span style=\"background-color:rgba(135,206,250,0.24910608);\">wine</span> <span style=\"background-color:rgba(135,206,250,0.3606498);\">review</span> <span style=\"background-color:rgba(135,206,250,0.6215695);\">:</span> <span style=\"background-color:rgba(135,206,250,0.5178231);\">germany</span> <span style=\"background-color:rgba(135,206,250,0.50835603);\">:</span> <span style=\"background-color:rgba(135,206,250,0.2786056);\">mosel</span> <span style=\"background-color:rgba(135,206,250,0.22280677);\">:</span> <span style=\"background-color:rgba(135,206,250,0.649666);\">riesling</span> <span style=\"background-color:rgba(135,206,250,0.249998);\">:</span> <span style=\"background-color:rgba(135,206,250,0.17152868);\">while</span> <span style=\"background-color:rgba(135,206,250,0.06706411);\">the</span> <span style=\"background-color:rgba(135,206,250,0.15160084);\">nose</span> <span style=\"background-color:rgba(135,206,250,0.07290666);\">is</span> <span style=\"background-color:rgba(135,206,250,0.040216666);\">a</span> <span style=\"background-color:rgba(135,206,250,0.062280383);\">bit</span> <span style=\"background-color:rgba(135,206,250,0.047546975);\">demure</span> <span style=\"background-color:rgba(135,206,250,0.04519463);\">,</span> <span style=\"background-color:rgba(135,206,250,0.05965084);\">with</span> <span style=\"background-color:rgba(135,206,250,0.06506672);\">hints</span> <span style=\"background-color:rgba(135,206,250,0.050864432);\">of</span> <span style=\"background-color:rgba(135,206,250,0.05736109);\">struck</span> <span style=\"background-color:rgba(135,206,250,0.08955747);\">flint</span> <span style=\"background-color:rgba(135,206,250,0.055275615);\">and</span> <span style=\"background-color:rgba(135,206,250,0.12048698);\">slate</span> <span style=\"background-color:rgba(135,206,250,0.2460572);\">.</span> <span style=\"background-color:rgba(135,206,250,0.07285479);\">the</span> <span style=\"background-color:rgba(135,206,250,0.2738182);\">palate</span> <span style=\"background-color:rgba(135,206,250,0.13101767);\">is</span> <span style=\"background-color:rgba(135,206,250,0.12424045);\">more</span> <span style=\"background-color:rgba(135,206,250,0.11914104);\">mineral</span> <span style=\"background-color:rgba(135,206,250,0.12894504);\">and</span> <span style=\"background-color:rgba(135,206,250,0.12613423);\">zesty</span> <span style=\"background-color:rgba(135,206,250,0.17528705);\">,</span> <span style=\"background-color:rgba(135,206,250,0.452016);\">it</span> <span style=\"background-color:rgba(135,206,250,0.3496243);\">also</span> <span style=\"background-color:rgba(135,206,250,0.976291);\">has</span> <span style=\"background-color:rgba(135,206,250,1.0);\">a</span> <span style=\"background-color:rgba(135,206,250,0.4918518);\">steely</span> <span style=\"background-color:rgba(135,206,250,0.88101935);\">,</span> <span style=\"background-color:rgba(135,206,250,0.59965146);\">minerally</span>"
      ],
      "text/plain": [
       "<IPython.core.display.HTML object>"
      ]
     },
     "metadata": {},
     "output_type": "display_data"
    },
    {
     "name": "stdout",
     "output_type": "stream",
     "text": [
      "feel:   \t73.32%\n",
      "profile:   \t5.12%\n",
      "backbone:   \t4.78%\n",
      "character:   \t3.25%\n",
      "texture:   \t2.93%\n",
      "--------\n",
      "\n"
     ]
    },
    {
     "data": {
      "text/html": [
       "<span style=\"background-color:rgba(135,206,250,0.15793267);\">wine</span> <span style=\"background-color:rgba(135,206,250,0.32651418);\">review</span> <span style=\"background-color:rgba(135,206,250,0.8746133);\">:</span> <span style=\"background-color:rgba(135,206,250,0.4848248);\">germany</span> <span style=\"background-color:rgba(135,206,250,0.7752044);\">:</span> <span style=\"background-color:rgba(135,206,250,0.19935149);\">mosel</span> <span style=\"background-color:rgba(135,206,250,0.23990734);\">:</span> <span style=\"background-color:rgba(135,206,250,0.18346152);\">riesling</span> <span style=\"background-color:rgba(135,206,250,0.21314232);\">:</span> <span style=\"background-color:rgba(135,206,250,0.15242144);\">while</span> <span style=\"background-color:rgba(135,206,250,0.08345908);\">the</span> <span style=\"background-color:rgba(135,206,250,0.08105509);\">nose</span> <span style=\"background-color:rgba(135,206,250,0.056451045);\">is</span> <span style=\"background-color:rgba(135,206,250,0.04463731);\">a</span> <span style=\"background-color:rgba(135,206,250,0.042248394);\">bit</span> <span style=\"background-color:rgba(135,206,250,0.053667713);\">demure</span> <span style=\"background-color:rgba(135,206,250,0.0372029);\">,</span> <span style=\"background-color:rgba(135,206,250,0.10659809);\">with</span> <span style=\"background-color:rgba(135,206,250,0.05487998);\">hints</span> <span style=\"background-color:rgba(135,206,250,0.03429334);\">of</span> <span style=\"background-color:rgba(135,206,250,0.046443924);\">struck</span> <span style=\"background-color:rgba(135,206,250,0.054877445);\">flint</span> <span style=\"background-color:rgba(135,206,250,0.062966056);\">and</span> <span style=\"background-color:rgba(135,206,250,0.07510074);\">slate</span> <span style=\"background-color:rgba(135,206,250,0.27868974);\">.</span> <span style=\"background-color:rgba(135,206,250,0.11103904);\">the</span> <span style=\"background-color:rgba(135,206,250,0.12699592);\">palate</span> <span style=\"background-color:rgba(135,206,250,0.119994245);\">is</span> <span style=\"background-color:rgba(135,206,250,0.15305623);\">more</span> <span style=\"background-color:rgba(135,206,250,0.12673207);\">mineral</span> <span style=\"background-color:rgba(135,206,250,0.15202086);\">and</span> <span style=\"background-color:rgba(135,206,250,0.120809495);\">zesty</span> <span style=\"background-color:rgba(135,206,250,0.17938575);\">,</span> <span style=\"background-color:rgba(135,206,250,0.39017248);\">it</span> <span style=\"background-color:rgba(135,206,250,0.3836381);\">also</span> <span style=\"background-color:rgba(135,206,250,1.0);\">has</span> <span style=\"background-color:rgba(135,206,250,0.47413862);\">a</span> <span style=\"background-color:rgba(135,206,250,0.55922997);\">steely</span> <span style=\"background-color:rgba(135,206,250,0.7540947);\">,</span> <span style=\"background-color:rgba(135,206,250,0.9442041);\">minerally</span> <span style=\"background-color:rgba(135,206,250,0.72009134);\">feel</span>"
      ],
      "text/plain": [
       "<IPython.core.display.HTML object>"
      ]
     },
     "metadata": {},
     "output_type": "display_data"
    },
    {
     "name": "stdout",
     "output_type": "stream",
     "text": [
      "and:   \t48.85%\n",
      ".:   \t28.02%\n",
      ",:   \t10.12%\n",
      "that:   \t8.89%\n",
      "to:   \t3.73%\n",
      "--------\n",
      "\n"
     ]
    },
    {
     "data": {
      "text/html": [
       "<span style=\"background-color:rgba(135,206,250,0.054911505);\">wine</span> <span style=\"background-color:rgba(135,206,250,0.090930425);\">review</span> <span style=\"background-color:rgba(135,206,250,0.14847717);\">:</span> <span style=\"background-color:rgba(135,206,250,0.2701617);\">germany</span> <span style=\"background-color:rgba(135,206,250,0.14692551);\">:</span> <span style=\"background-color:rgba(135,206,250,0.115729354);\">mosel</span> <span style=\"background-color:rgba(135,206,250,0.050249007);\">:</span> <span style=\"background-color:rgba(135,206,250,0.1974695);\">riesling</span> <span style=\"background-color:rgba(135,206,250,0.06520741);\">:</span> <span style=\"background-color:rgba(135,206,250,0.052742496);\">while</span> <span style=\"background-color:rgba(135,206,250,0.014023205);\">the</span> <span style=\"background-color:rgba(135,206,250,0.05804923);\">nose</span> <span style=\"background-color:rgba(135,206,250,0.01839101);\">is</span> <span style=\"background-color:rgba(135,206,250,0.011515203);\">a</span> <span style=\"background-color:rgba(135,206,250,0.025485098);\">bit</span> <span style=\"background-color:rgba(135,206,250,0.06882574);\">demure</span> <span style=\"background-color:rgba(135,206,250,0.015983194);\">,</span> <span style=\"background-color:rgba(135,206,250,0.022225661);\">with</span> <span style=\"background-color:rgba(135,206,250,0.030541323);\">hints</span> <span style=\"background-color:rgba(135,206,250,0.010995319);\">of</span> <span style=\"background-color:rgba(135,206,250,0.03150756);\">struck</span> <span style=\"background-color:rgba(135,206,250,0.045834977);\">flint</span> <span style=\"background-color:rgba(135,206,250,0.018071894);\">and</span> <span style=\"background-color:rgba(135,206,250,0.05806009);\">slate</span> <span style=\"background-color:rgba(135,206,250,0.06505241);\">.</span> <span style=\"background-color:rgba(135,206,250,0.014697847);\">the</span> <span style=\"background-color:rgba(135,206,250,0.06216595);\">palate</span> <span style=\"background-color:rgba(135,206,250,0.026551582);\">is</span> <span style=\"background-color:rgba(135,206,250,0.024848213);\">more</span> <span style=\"background-color:rgba(135,206,250,0.068436295);\">mineral</span> <span style=\"background-color:rgba(135,206,250,0.026569534);\">and</span> <span style=\"background-color:rgba(135,206,250,0.07403916);\">zesty</span> <span style=\"background-color:rgba(135,206,250,0.051068153);\">,</span> <span style=\"background-color:rgba(135,206,250,0.05856299);\">it</span> <span style=\"background-color:rgba(135,206,250,0.050466035);\">also</span> <span style=\"background-color:rgba(135,206,250,0.11695304);\">has</span> <span style=\"background-color:rgba(135,206,250,0.074101575);\">a</span> <span style=\"background-color:rgba(135,206,250,0.25232506);\">steely</span> <span style=\"background-color:rgba(135,206,250,0.35138988);\">,</span> <span style=\"background-color:rgba(135,206,250,0.50364476);\">minerally</span> <span style=\"background-color:rgba(135,206,250,1.0);\">feel</span> <span style=\"background-color:rgba(135,206,250,0.22446935);\">and</span>"
      ],
      "text/plain": [
       "<IPython.core.display.HTML object>"
      ]
     },
     "metadata": {},
     "output_type": "display_data"
    },
    {
     "name": "stdout",
     "output_type": "stream",
     "text": [
      "a:   \t95.94%\n",
      "the:   \t0.79%\n",
      "crisp:   \t0.42%\n",
      "an:   \t0.32%\n",
      "just:   \t0.22%\n",
      "--------\n",
      "\n"
     ]
    },
    {
     "data": {
      "text/html": [
       "<span style=\"background-color:rgba(135,206,250,0.13495378);\">wine</span> <span style=\"background-color:rgba(135,206,250,0.15460227);\">review</span> <span style=\"background-color:rgba(135,206,250,0.5176529);\">:</span> <span style=\"background-color:rgba(135,206,250,0.5500225);\">germany</span> <span style=\"background-color:rgba(135,206,250,0.5264141);\">:</span> <span style=\"background-color:rgba(135,206,250,0.24364623);\">mosel</span> <span style=\"background-color:rgba(135,206,250,0.11443248);\">:</span> <span style=\"background-color:rgba(135,206,250,0.31238136);\">riesling</span> <span style=\"background-color:rgba(135,206,250,0.13613687);\">:</span> <span style=\"background-color:rgba(135,206,250,0.08058808);\">while</span> <span style=\"background-color:rgba(135,206,250,0.028235562);\">the</span> <span style=\"background-color:rgba(135,206,250,0.11360437);\">nose</span> <span style=\"background-color:rgba(135,206,250,0.032055855);\">is</span> <span style=\"background-color:rgba(135,206,250,0.019406626);\">a</span> <span style=\"background-color:rgba(135,206,250,0.05973581);\">bit</span> <span style=\"background-color:rgba(135,206,250,0.16066377);\">demure</span> <span style=\"background-color:rgba(135,206,250,0.031015562);\">,</span> <span style=\"background-color:rgba(135,206,250,0.035557713);\">with</span> <span style=\"background-color:rgba(135,206,250,0.05262742);\">hints</span> <span style=\"background-color:rgba(135,206,250,0.02321717);\">of</span> <span style=\"background-color:rgba(135,206,250,0.06614687);\">struck</span> <span style=\"background-color:rgba(135,206,250,0.07404792);\">flint</span> <span style=\"background-color:rgba(135,206,250,0.033583518);\">and</span> <span style=\"background-color:rgba(135,206,250,0.09984064);\">slate</span> <span style=\"background-color:rgba(135,206,250,0.09834048);\">.</span> <span style=\"background-color:rgba(135,206,250,0.026287073);\">the</span> <span style=\"background-color:rgba(135,206,250,0.13074994);\">palate</span> <span style=\"background-color:rgba(135,206,250,0.03918445);\">is</span> <span style=\"background-color:rgba(135,206,250,0.049396988);\">more</span> <span style=\"background-color:rgba(135,206,250,0.110265605);\">mineral</span> <span style=\"background-color:rgba(135,206,250,0.054655775);\">and</span> <span style=\"background-color:rgba(135,206,250,0.14600381);\">zesty</span> <span style=\"background-color:rgba(135,206,250,0.074180976);\">,</span> <span style=\"background-color:rgba(135,206,250,0.09257727);\">it</span> <span style=\"background-color:rgba(135,206,250,0.12303916);\">also</span> <span style=\"background-color:rgba(135,206,250,0.19570588);\">has</span> <span style=\"background-color:rgba(135,206,250,0.056156475);\">a</span> <span style=\"background-color:rgba(135,206,250,0.32027596);\">steely</span> <span style=\"background-color:rgba(135,206,250,0.29961848);\">,</span> <span style=\"background-color:rgba(135,206,250,0.63110065);\">minerally</span> <span style=\"background-color:rgba(135,206,250,1.0);\">feel</span> <span style=\"background-color:rgba(135,206,250,0.73385864);\">and</span> <span style=\"background-color:rgba(135,206,250,0.30200532);\">a</span>"
      ],
      "text/plain": [
       "<IPython.core.display.HTML object>"
      ]
     },
     "metadata": {},
     "output_type": "display_data"
    },
    {
     "name": "stdout",
     "output_type": "stream",
     "text": [
      "bit:   \t62.9%\n",
      "touch:   \t18.98%\n",
      "long:   \t7.51%\n",
      "lingering:   \t3.32%\n",
      "stony:   \t1.52%\n",
      "--------\n",
      "\n"
     ]
    },
    {
     "data": {
      "text/html": [
       "<span style=\"background-color:rgba(135,206,250,0.1449227);\">wine</span> <span style=\"background-color:rgba(135,206,250,0.18446665);\">review</span> <span style=\"background-color:rgba(135,206,250,0.5574266);\">:</span> <span style=\"background-color:rgba(135,206,250,0.3145059);\">germany</span> <span style=\"background-color:rgba(135,206,250,0.7041136);\">:</span> <span style=\"background-color:rgba(135,206,250,0.17862837);\">mosel</span> <span style=\"background-color:rgba(135,206,250,0.1657483);\">:</span> <span style=\"background-color:rgba(135,206,250,0.15767968);\">riesling</span> <span style=\"background-color:rgba(135,206,250,0.11632739);\">:</span> <span style=\"background-color:rgba(135,206,250,0.030151745);\">while</span> <span style=\"background-color:rgba(135,206,250,0.021479847);\">the</span> <span style=\"background-color:rgba(135,206,250,0.053579547);\">nose</span> <span style=\"background-color:rgba(135,206,250,0.026899012);\">is</span> <span style=\"background-color:rgba(135,206,250,0.037739687);\">a</span> <span style=\"background-color:rgba(135,206,250,0.044203375);\">bit</span> <span style=\"background-color:rgba(135,206,250,0.038891505);\">demure</span> <span style=\"background-color:rgba(135,206,250,0.04372689);\">,</span> <span style=\"background-color:rgba(135,206,250,0.029409098);\">with</span> <span style=\"background-color:rgba(135,206,250,0.036536906);\">hints</span> <span style=\"background-color:rgba(135,206,250,0.03859221);\">of</span> <span style=\"background-color:rgba(135,206,250,0.0328126);\">struck</span> <span style=\"background-color:rgba(135,206,250,0.04836747);\">flint</span> <span style=\"background-color:rgba(135,206,250,0.054189485);\">and</span> <span style=\"background-color:rgba(135,206,250,0.09574075);\">slate</span> <span style=\"background-color:rgba(135,206,250,0.0885391);\">.</span> <span style=\"background-color:rgba(135,206,250,0.023171445);\">the</span> <span style=\"background-color:rgba(135,206,250,0.07357721);\">palate</span> <span style=\"background-color:rgba(135,206,250,0.04116114);\">is</span> <span style=\"background-color:rgba(135,206,250,0.029162964);\">more</span> <span style=\"background-color:rgba(135,206,250,0.07497183);\">mineral</span> <span style=\"background-color:rgba(135,206,250,0.07553817);\">and</span> <span style=\"background-color:rgba(135,206,250,0.060737625);\">zesty</span> <span style=\"background-color:rgba(135,206,250,0.087302566);\">,</span> <span style=\"background-color:rgba(135,206,250,0.07226467);\">it</span> <span style=\"background-color:rgba(135,206,250,0.086456016);\">also</span> <span style=\"background-color:rgba(135,206,250,0.14700207);\">has</span> <span style=\"background-color:rgba(135,206,250,0.15707679);\">a</span> <span style=\"background-color:rgba(135,206,250,0.11130244);\">steely</span> <span style=\"background-color:rgba(135,206,250,0.1906498);\">,</span> <span style=\"background-color:rgba(135,206,250,0.24549673);\">minerally</span> <span style=\"background-color:rgba(135,206,250,0.62902135);\">feel</span> <span style=\"background-color:rgba(135,206,250,0.39599812);\">and</span> <span style=\"background-color:rgba(135,206,250,1.0);\">a</span> <span style=\"background-color:rgba(135,206,250,0.28503236);\">long</span>"
      ],
      "text/plain": [
       "<IPython.core.display.HTML object>"
      ]
     },
     "metadata": {},
     "output_type": "display_data"
    },
    {
     "name": "stdout",
     "output_type": "stream",
     "text": [
      ",:   \t72.87%\n",
      "finish:   \t21.94%\n",
      "-:   \t5.16%\n",
      "and:   \t0.01%\n",
      "but:   \t0.0%\n",
      "--------\n",
      "\n"
     ]
    },
    {
     "data": {
      "text/html": [
       "<span style=\"background-color:rgba(135,206,250,0.06703093);\">wine</span> <span style=\"background-color:rgba(135,206,250,0.15603925);\">review</span> <span style=\"background-color:rgba(135,206,250,0.46262115);\">:</span> <span style=\"background-color:rgba(135,206,250,0.32847247);\">germany</span> <span style=\"background-color:rgba(135,206,250,0.46727464);\">:</span> <span style=\"background-color:rgba(135,206,250,0.1014855);\">mosel</span> <span style=\"background-color:rgba(135,206,250,0.11933682);\">:</span> <span style=\"background-color:rgba(135,206,250,0.09033154);\">riesling</span> <span style=\"background-color:rgba(135,206,250,0.10876105);\">:</span> <span style=\"background-color:rgba(135,206,250,0.13768408);\">while</span> <span style=\"background-color:rgba(135,206,250,0.04957333);\">the</span> <span style=\"background-color:rgba(135,206,250,0.058691412);\">nose</span> <span style=\"background-color:rgba(135,206,250,0.033440333);\">is</span> <span style=\"background-color:rgba(135,206,250,0.034992248);\">a</span> <span style=\"background-color:rgba(135,206,250,0.03232598);\">bit</span> <span style=\"background-color:rgba(135,206,250,0.06158879);\">demure</span> <span style=\"background-color:rgba(135,206,250,0.016757825);\">,</span> <span style=\"background-color:rgba(135,206,250,0.058117952);\">with</span> <span style=\"background-color:rgba(135,206,250,0.04898105);\">hints</span> <span style=\"background-color:rgba(135,206,250,0.01569423);\">of</span> <span style=\"background-color:rgba(135,206,250,0.02538968);\">struck</span> <span style=\"background-color:rgba(135,206,250,0.037976686);\">flint</span> <span style=\"background-color:rgba(135,206,250,0.027487887);\">and</span> <span style=\"background-color:rgba(135,206,250,0.047768332);\">slate</span> <span style=\"background-color:rgba(135,206,250,0.12643932);\">.</span> <span style=\"background-color:rgba(135,206,250,0.055569645);\">the</span> <span style=\"background-color:rgba(135,206,250,0.0352645);\">palate</span> <span style=\"background-color:rgba(135,206,250,0.054353677);\">is</span> <span style=\"background-color:rgba(135,206,250,0.063925155);\">more</span> <span style=\"background-color:rgba(135,206,250,0.07987587);\">mineral</span> <span style=\"background-color:rgba(135,206,250,0.050469764);\">and</span> <span style=\"background-color:rgba(135,206,250,0.089179486);\">zesty</span> <span style=\"background-color:rgba(135,206,250,0.056663245);\">,</span> <span style=\"background-color:rgba(135,206,250,0.12958549);\">it</span> <span style=\"background-color:rgba(135,206,250,0.09206716);\">also</span> <span style=\"background-color:rgba(135,206,250,0.24554084);\">has</span> <span style=\"background-color:rgba(135,206,250,0.17115845);\">a</span> <span style=\"background-color:rgba(135,206,250,0.18362948);\">steely</span> <span style=\"background-color:rgba(135,206,250,0.18490055);\">,</span> <span style=\"background-color:rgba(135,206,250,0.3086741);\">minerally</span> <span style=\"background-color:rgba(135,206,250,0.3525152);\">feel</span> <span style=\"background-color:rgba(135,206,250,0.35988143);\">and</span> <span style=\"background-color:rgba(135,206,250,1.0);\">a</span> <span style=\"background-color:rgba(135,206,250,0.80367106);\">long</span> <span style=\"background-color:rgba(135,206,250,0.4639869);\">finish</span>"
      ],
      "text/plain": [
       "<IPython.core.display.HTML object>"
      ]
     },
     "metadata": {},
     "output_type": "display_data"
    },
    {
     "name": "stdout",
     "output_type": "stream",
     "text": [
      ".:   \t93.63%\n",
      "that:   \t5.85%\n",
      ",:   \t0.26%\n",
      "of:   \t0.18%\n",
      "with:   \t0.06%\n",
      "--------\n",
      "\n"
     ]
    },
    {
     "data": {
      "text/html": [
       "<span style=\"background-color:rgba(135,206,250,0.43271792);\">wine</span> <span style=\"background-color:rgba(135,206,250,0.23073985);\">review</span> <span style=\"background-color:rgba(135,206,250,0.900244);\">:</span> <span style=\"background-color:rgba(135,206,250,1.0);\">germany</span> <span style=\"background-color:rgba(135,206,250,0.64015996);\">:</span> <span style=\"background-color:rgba(135,206,250,0.23968537);\">mosel</span> <span style=\"background-color:rgba(135,206,250,0.4569178);\">:</span> <span style=\"background-color:rgba(135,206,250,0.39105302);\">riesling</span> <span style=\"background-color:rgba(135,206,250,0.29723245);\">:</span> <span style=\"background-color:rgba(135,206,250,0.08897504);\">while</span> <span style=\"background-color:rgba(135,206,250,0.036547888);\">the</span> <span style=\"background-color:rgba(135,206,250,0.116858095);\">nose</span> <span style=\"background-color:rgba(135,206,250,0.060216498);\">is</span> <span style=\"background-color:rgba(135,206,250,0.031438444);\">a</span> <span style=\"background-color:rgba(135,206,250,0.060573056);\">bit</span> <span style=\"background-color:rgba(135,206,250,0.08109556);\">demure</span> <span style=\"background-color:rgba(135,206,250,0.032474622);\">,</span> <span style=\"background-color:rgba(135,206,250,0.046307314);\">with</span> <span style=\"background-color:rgba(135,206,250,0.057925627);\">hints</span> <span style=\"background-color:rgba(135,206,250,0.02738041);\">of</span> <span style=\"background-color:rgba(135,206,250,0.036185265);\">struck</span> <span style=\"background-color:rgba(135,206,250,0.04643309);\">flint</span> <span style=\"background-color:rgba(135,206,250,0.034481693);\">and</span> <span style=\"background-color:rgba(135,206,250,0.0746615);\">slate</span> <span style=\"background-color:rgba(135,206,250,0.1024397);\">.</span> <span style=\"background-color:rgba(135,206,250,0.02557505);\">the</span> <span style=\"background-color:rgba(135,206,250,0.13194604);\">palate</span> <span style=\"background-color:rgba(135,206,250,0.06755217);\">is</span> <span style=\"background-color:rgba(135,206,250,0.05495514);\">more</span> <span style=\"background-color:rgba(135,206,250,0.07736114);\">mineral</span> <span style=\"background-color:rgba(135,206,250,0.048609927);\">and</span> <span style=\"background-color:rgba(135,206,250,0.071664795);\">zesty</span> <span style=\"background-color:rgba(135,206,250,0.053567283);\">,</span> <span style=\"background-color:rgba(135,206,250,0.056842383);\">it</span> <span style=\"background-color:rgba(135,206,250,0.077557564);\">also</span> <span style=\"background-color:rgba(135,206,250,0.10290596);\">has</span> <span style=\"background-color:rgba(135,206,250,0.052728985);\">a</span> <span style=\"background-color:rgba(135,206,250,0.0926091);\">steely</span> <span style=\"background-color:rgba(135,206,250,0.077882394);\">,</span> <span style=\"background-color:rgba(135,206,250,0.1479562);\">minerally</span> <span style=\"background-color:rgba(135,206,250,0.15436617);\">feel</span> <span style=\"background-color:rgba(135,206,250,0.10499015);\">and</span> <span style=\"background-color:rgba(135,206,250,0.12607473);\">a</span> <span style=\"background-color:rgba(135,206,250,0.17591594);\">long</span> <span style=\"background-color:rgba(135,206,250,0.59673774);\">finish</span> <span style=\"background-color:rgba(135,206,250,0.42682692);\">.</span>"
      ],
      "text/plain": [
       "<IPython.core.display.HTML object>"
      ]
     },
     "metadata": {},
     "output_type": "display_data"
    },
    {
     "name": "stdout",
     "output_type": "stream",
     "text": [
      ":   \t80.77%\n",
      "drink:   \t16.03%\n",
      "it:   \t2.33%\n",
      "the:   \t0.46%\n",
      "a:   \t0.11%\n",
      "--------\n",
      "\n"
     ]
    },
    {
     "data": {
      "text/html": [
       "<span style=\"background-color:rgba(135,206,250,0.068796895);\">wine</span> <span style=\"background-color:rgba(135,206,250,0.081655614);\">review</span> <span style=\"background-color:rgba(135,206,250,0.32972023);\">:</span> <span style=\"background-color:rgba(135,206,250,0.29743257);\">germany</span> <span style=\"background-color:rgba(135,206,250,0.33100706);\">:</span> <span style=\"background-color:rgba(135,206,250,0.14558206);\">mosel</span> <span style=\"background-color:rgba(135,206,250,0.10286271);\">:</span> <span style=\"background-color:rgba(135,206,250,0.17635463);\">riesling</span> <span style=\"background-color:rgba(135,206,250,0.092864744);\">:</span> <span style=\"background-color:rgba(135,206,250,0.06612371);\">while</span> <span style=\"background-color:rgba(135,206,250,0.025176981);\">the</span> <span style=\"background-color:rgba(135,206,250,0.090737775);\">nose</span> <span style=\"background-color:rgba(135,206,250,0.02724364);\">is</span> <span style=\"background-color:rgba(135,206,250,0.017706934);\">a</span> <span style=\"background-color:rgba(135,206,250,0.0462542);\">bit</span> <span style=\"background-color:rgba(135,206,250,0.0907627);\">demure</span> <span style=\"background-color:rgba(135,206,250,0.022499226);\">,</span> <span style=\"background-color:rgba(135,206,250,0.03637379);\">with</span> <span style=\"background-color:rgba(135,206,250,0.030086197);\">hints</span> <span style=\"background-color:rgba(135,206,250,0.019404361);\">of</span> <span style=\"background-color:rgba(135,206,250,0.044169653);\">struck</span> <span style=\"background-color:rgba(135,206,250,0.05473827);\">flint</span> <span style=\"background-color:rgba(135,206,250,0.031244079);\">and</span> <span style=\"background-color:rgba(135,206,250,0.06153021);\">slate</span> <span style=\"background-color:rgba(135,206,250,0.0622895);\">.</span> <span style=\"background-color:rgba(135,206,250,0.022863952);\">the</span> <span style=\"background-color:rgba(135,206,250,0.057808068);\">palate</span> <span style=\"background-color:rgba(135,206,250,0.029430825);\">is</span> <span style=\"background-color:rgba(135,206,250,0.028610842);\">more</span> <span style=\"background-color:rgba(135,206,250,0.061543148);\">mineral</span> <span style=\"background-color:rgba(135,206,250,0.04011451);\">and</span> <span style=\"background-color:rgba(135,206,250,0.0720745);\">zesty</span> <span style=\"background-color:rgba(135,206,250,0.035212267);\">,</span> <span style=\"background-color:rgba(135,206,250,0.052823216);\">it</span> <span style=\"background-color:rgba(135,206,250,0.041943606);\">also</span> <span style=\"background-color:rgba(135,206,250,0.0659239);\">has</span> <span style=\"background-color:rgba(135,206,250,0.039693337);\">a</span> <span style=\"background-color:rgba(135,206,250,0.109334685);\">steely</span> <span style=\"background-color:rgba(135,206,250,0.07415888);\">,</span> <span style=\"background-color:rgba(135,206,250,0.13847858);\">minerally</span> <span style=\"background-color:rgba(135,206,250,0.120260864);\">feel</span> <span style=\"background-color:rgba(135,206,250,0.13138461);\">and</span> <span style=\"background-color:rgba(135,206,250,0.19895528);\">a</span> <span style=\"background-color:rgba(135,206,250,0.36286646);\">long</span> <span style=\"background-color:rgba(135,206,250,0.25194767);\">finish</span> <span style=\"background-color:rgba(135,206,250,1.0);\">.</span> <span style=\"background-color:rgba(135,206,250,0.118299834);\">drink</span>"
      ],
      "text/plain": [
       "<IPython.core.display.HTML object>"
      ]
     },
     "metadata": {},
     "output_type": "display_data"
    },
    {
     "name": "stdout",
     "output_type": "stream",
     "text": [
      "now:   \t98.48%\n",
      "it:   \t0.47%\n",
      "this:   \t0.37%\n",
      "after:   \t0.24%\n",
      "through:   \t0.14%\n",
      "--------\n",
      "\n"
     ]
    },
    {
     "data": {
      "text/html": [
       "<span style=\"background-color:rgba(135,206,250,0.09627226);\">wine</span> <span style=\"background-color:rgba(135,206,250,0.0967924);\">review</span> <span style=\"background-color:rgba(135,206,250,0.33285788);\">:</span> <span style=\"background-color:rgba(135,206,250,0.2585399);\">germany</span> <span style=\"background-color:rgba(135,206,250,0.3766142);\">:</span> <span style=\"background-color:rgba(135,206,250,0.08475306);\">mosel</span> <span style=\"background-color:rgba(135,206,250,0.12676108);\">:</span> <span style=\"background-color:rgba(135,206,250,0.08718575);\">riesling</span> <span style=\"background-color:rgba(135,206,250,0.09668907);\">:</span> <span style=\"background-color:rgba(135,206,250,0.08283373);\">while</span> <span style=\"background-color:rgba(135,206,250,0.022833487);\">the</span> <span style=\"background-color:rgba(135,206,250,0.055521388);\">nose</span> <span style=\"background-color:rgba(135,206,250,0.029660357);\">is</span> <span style=\"background-color:rgba(135,206,250,0.02719567);\">a</span> <span style=\"background-color:rgba(135,206,250,0.04633197);\">bit</span> <span style=\"background-color:rgba(135,206,250,0.10027944);\">demure</span> <span style=\"background-color:rgba(135,206,250,0.023271685);\">,</span> <span style=\"background-color:rgba(135,206,250,0.026726237);\">with</span> <span style=\"background-color:rgba(135,206,250,0.03929174);\">hints</span> <span style=\"background-color:rgba(135,206,250,0.022136398);\">of</span> <span style=\"background-color:rgba(135,206,250,0.024892408);\">struck</span> <span style=\"background-color:rgba(135,206,250,0.030618345);\">flint</span> <span style=\"background-color:rgba(135,206,250,0.022707684);\">and</span> <span style=\"background-color:rgba(135,206,250,0.05603152);\">slate</span> <span style=\"background-color:rgba(135,206,250,0.06619204);\">.</span> <span style=\"background-color:rgba(135,206,250,0.021241447);\">the</span> <span style=\"background-color:rgba(135,206,250,0.048488773);\">palate</span> <span style=\"background-color:rgba(135,206,250,0.029540488);\">is</span> <span style=\"background-color:rgba(135,206,250,0.031124922);\">more</span> <span style=\"background-color:rgba(135,206,250,0.055431325);\">mineral</span> <span style=\"background-color:rgba(135,206,250,0.02734905);\">and</span> <span style=\"background-color:rgba(135,206,250,0.07420433);\">zesty</span> <span style=\"background-color:rgba(135,206,250,0.033580463);\">,</span> <span style=\"background-color:rgba(135,206,250,0.03864286);\">it</span> <span style=\"background-color:rgba(135,206,250,0.03750559);\">also</span> <span style=\"background-color:rgba(135,206,250,0.044206835);\">has</span> <span style=\"background-color:rgba(135,206,250,0.0423414);\">a</span> <span style=\"background-color:rgba(135,206,250,0.07369684);\">steely</span> <span style=\"background-color:rgba(135,206,250,0.0675741);\">,</span> <span style=\"background-color:rgba(135,206,250,0.12262109);\">minerally</span> <span style=\"background-color:rgba(135,206,250,0.09643711);\">feel</span> <span style=\"background-color:rgba(135,206,250,0.0985275);\">and</span> <span style=\"background-color:rgba(135,206,250,0.13345595);\">a</span> <span style=\"background-color:rgba(135,206,250,0.2267425);\">long</span> <span style=\"background-color:rgba(135,206,250,0.23961441);\">finish</span> <span style=\"background-color:rgba(135,206,250,1.0);\">.</span> <span style=\"background-color:rgba(135,206,250,0.8081383);\">drink</span> <span style=\"background-color:rgba(135,206,250,0.23410198);\">now</span>"
      ],
      "text/plain": [
       "<IPython.core.display.HTML object>"
      ]
     },
     "metadata": {},
     "output_type": "display_data"
    },
    {
     "name": "stdout",
     "output_type": "stream",
     "text": [
      "through:   \t96.88%\n",
      ".:   \t2.84%\n",
      "but:   \t0.19%\n",
      "or:   \t0.04%\n",
      "to:   \t0.02%\n",
      "--------\n",
      "\n"
     ]
    },
    {
     "data": {
      "text/html": [
       "<span style=\"background-color:rgba(135,206,250,0.093182065);\">wine</span> <span style=\"background-color:rgba(135,206,250,0.13158648);\">review</span> <span style=\"background-color:rgba(135,206,250,0.44112453);\">:</span> <span style=\"background-color:rgba(135,206,250,0.38797733);\">germany</span> <span style=\"background-color:rgba(135,206,250,0.6089512);\">:</span> <span style=\"background-color:rgba(135,206,250,0.10540922);\">mosel</span> <span style=\"background-color:rgba(135,206,250,0.15321465);\">:</span> <span style=\"background-color:rgba(135,206,250,0.16995962);\">riesling</span> <span style=\"background-color:rgba(135,206,250,0.13125032);\">:</span> <span style=\"background-color:rgba(135,206,250,0.0761871);\">while</span> <span style=\"background-color:rgba(135,206,250,0.030996311);\">the</span> <span style=\"background-color:rgba(135,206,250,0.06467703);\">nose</span> <span style=\"background-color:rgba(135,206,250,0.04397279);\">is</span> <span style=\"background-color:rgba(135,206,250,0.024142178);\">a</span> <span style=\"background-color:rgba(135,206,250,0.046629176);\">bit</span> <span style=\"background-color:rgba(135,206,250,0.066477634);\">demure</span> <span style=\"background-color:rgba(135,206,250,0.028257122);\">,</span> <span style=\"background-color:rgba(135,206,250,0.047415875);\">with</span> <span style=\"background-color:rgba(135,206,250,0.04043445);\">hints</span> <span style=\"background-color:rgba(135,206,250,0.026266035);\">of</span> <span style=\"background-color:rgba(135,206,250,0.030555118);\">struck</span> <span style=\"background-color:rgba(135,206,250,0.039429944);\">flint</span> <span style=\"background-color:rgba(135,206,250,0.03635333);\">and</span> <span style=\"background-color:rgba(135,206,250,0.059084248);\">slate</span> <span style=\"background-color:rgba(135,206,250,0.106444634);\">.</span> <span style=\"background-color:rgba(135,206,250,0.029810466);\">the</span> <span style=\"background-color:rgba(135,206,250,0.11451442);\">palate</span> <span style=\"background-color:rgba(135,206,250,0.052786373);\">is</span> <span style=\"background-color:rgba(135,206,250,0.05111744);\">more</span> <span style=\"background-color:rgba(135,206,250,0.070403785);\">mineral</span> <span style=\"background-color:rgba(135,206,250,0.04803093);\">and</span> <span style=\"background-color:rgba(135,206,250,0.056266367);\">zesty</span> <span style=\"background-color:rgba(135,206,250,0.043851145);\">,</span> <span style=\"background-color:rgba(135,206,250,0.06933396);\">it</span> <span style=\"background-color:rgba(135,206,250,0.07624446);\">also</span> <span style=\"background-color:rgba(135,206,250,0.08614955);\">has</span> <span style=\"background-color:rgba(135,206,250,0.046022918);\">a</span> <span style=\"background-color:rgba(135,206,250,0.08605958);\">steely</span> <span style=\"background-color:rgba(135,206,250,0.07329587);\">,</span> <span style=\"background-color:rgba(135,206,250,0.12753902);\">minerally</span> <span style=\"background-color:rgba(135,206,250,0.14321598);\">feel</span> <span style=\"background-color:rgba(135,206,250,0.09594624);\">and</span> <span style=\"background-color:rgba(135,206,250,0.12592468);\">a</span> <span style=\"background-color:rgba(135,206,250,0.20848827);\">long</span> <span style=\"background-color:rgba(135,206,250,0.44104633);\">finish</span> <span style=\"background-color:rgba(135,206,250,0.79916817);\">.</span> <span style=\"background-color:rgba(135,206,250,0.6713157);\">drink</span> <span style=\"background-color:rgba(135,206,250,1.0);\">now</span> <span style=\"background-color:rgba(135,206,250,0.3379802);\">through</span>"
      ],
      "text/plain": [
       "<IPython.core.display.HTML object>"
      ]
     },
     "metadata": {},
     "output_type": "display_data"
    },
    {
     "name": "stdout",
     "output_type": "stream",
     "text": [
      "2020:   \t55.15%\n",
      "2021:   \t10.31%\n",
      "2019:   \t6.42%\n",
      "2010:   \t5.92%\n",
      "2018:   \t5.25%\n",
      "--------\n",
      "\n"
     ]
    },
    {
     "data": {
      "text/html": [
       "<span style=\"background-color:rgba(135,206,250,0.21190318);\">wine</span> <span style=\"background-color:rgba(135,206,250,0.24160077);\">review</span> <span style=\"background-color:rgba(135,206,250,0.7463075);\">:</span> <span style=\"background-color:rgba(135,206,250,0.45269);\">germany</span> <span style=\"background-color:rgba(135,206,250,0.72040427);\">:</span> <span style=\"background-color:rgba(135,206,250,0.1873423);\">mosel</span> <span style=\"background-color:rgba(135,206,250,0.2712908);\">:</span> <span style=\"background-color:rgba(135,206,250,0.18358773);\">riesling</span> <span style=\"background-color:rgba(135,206,250,0.2709755);\">:</span> <span style=\"background-color:rgba(135,206,250,0.108018436);\">while</span> <span style=\"background-color:rgba(135,206,250,0.036517166);\">the</span> <span style=\"background-color:rgba(135,206,250,0.041512687);\">nose</span> <span style=\"background-color:rgba(135,206,250,0.04326755);\">is</span> <span style=\"background-color:rgba(135,206,250,0.04858952);\">a</span> <span style=\"background-color:rgba(135,206,250,0.029840885);\">bit</span> <span style=\"background-color:rgba(135,206,250,0.04516817);\">demure</span> <span style=\"background-color:rgba(135,206,250,0.034804944);\">,</span> <span style=\"background-color:rgba(135,206,250,0.029033199);\">with</span> <span style=\"background-color:rgba(135,206,250,0.023639714);\">hints</span> <span style=\"background-color:rgba(135,206,250,0.0244854);\">of</span> <span style=\"background-color:rgba(135,206,250,0.021522218);\">struck</span> <span style=\"background-color:rgba(135,206,250,0.03128681);\">flint</span> <span style=\"background-color:rgba(135,206,250,0.03740482);\">and</span> <span style=\"background-color:rgba(135,206,250,0.041806158);\">slate</span> <span style=\"background-color:rgba(135,206,250,0.076706);\">.</span> <span style=\"background-color:rgba(135,206,250,0.020552188);\">the</span> <span style=\"background-color:rgba(135,206,250,0.038027726);\">palate</span> <span style=\"background-color:rgba(135,206,250,0.033209857);\">is</span> <span style=\"background-color:rgba(135,206,250,0.026689641);\">more</span> <span style=\"background-color:rgba(135,206,250,0.046349045);\">mineral</span> <span style=\"background-color:rgba(135,206,250,0.043435056);\">and</span> <span style=\"background-color:rgba(135,206,250,0.02394051);\">zesty</span> <span style=\"background-color:rgba(135,206,250,0.04420392);\">,</span> <span style=\"background-color:rgba(135,206,250,0.03812077);\">it</span> <span style=\"background-color:rgba(135,206,250,0.031250753);\">also</span> <span style=\"background-color:rgba(135,206,250,0.047018237);\">has</span> <span style=\"background-color:rgba(135,206,250,0.060496785);\">a</span> <span style=\"background-color:rgba(135,206,250,0.03373363);\">steely</span> <span style=\"background-color:rgba(135,206,250,0.05833466);\">,</span> <span style=\"background-color:rgba(135,206,250,0.057341967);\">minerally</span> <span style=\"background-color:rgba(135,206,250,0.057644255);\">feel</span> <span style=\"background-color:rgba(135,206,250,0.07323799);\">and</span> <span style=\"background-color:rgba(135,206,250,0.109913625);\">a</span> <span style=\"background-color:rgba(135,206,250,0.08152172);\">long</span> <span style=\"background-color:rgba(135,206,250,0.10131371);\">finish</span> <span style=\"background-color:rgba(135,206,250,0.3192392);\">.</span> <span style=\"background-color:rgba(135,206,250,0.36780918);\">drink</span> <span style=\"background-color:rgba(135,206,250,0.17697592);\">now</span> <span style=\"background-color:rgba(135,206,250,1.0);\">through</span> <span style=\"background-color:rgba(135,206,250,0.15249674);\">2020</span>"
      ],
      "text/plain": [
       "<IPython.core.display.HTML object>"
      ]
     },
     "metadata": {},
     "output_type": "display_data"
    },
    {
     "name": "stdout",
     "output_type": "stream",
     "text": [
      ".:   \t99.97%\n",
      "to:   \t0.02%\n",
      "or:   \t0.0%\n",
      ",:   \t0.0%\n",
      "through:   \t0.0%\n",
      "--------\n",
      "\n"
     ]
    },
    {
     "data": {
      "text/html": [
       "<span style=\"background-color:rgba(135,206,250,0.28792804);\">wine</span> <span style=\"background-color:rgba(135,206,250,0.13555826);\">review</span> <span style=\"background-color:rgba(135,206,250,0.73803073);\">:</span> <span style=\"background-color:rgba(135,206,250,1.0);\">germany</span> <span style=\"background-color:rgba(135,206,250,0.5648751);\">:</span> <span style=\"background-color:rgba(135,206,250,0.2038239);\">mosel</span> <span style=\"background-color:rgba(135,206,250,0.37076953);\">:</span> <span style=\"background-color:rgba(135,206,250,0.32276726);\">riesling</span> <span style=\"background-color:rgba(135,206,250,0.2535804);\">:</span> <span style=\"background-color:rgba(135,206,250,0.07205829);\">while</span> <span style=\"background-color:rgba(135,206,250,0.028137526);\">the</span> <span style=\"background-color:rgba(135,206,250,0.08754088);\">nose</span> <span style=\"background-color:rgba(135,206,250,0.04292993);\">is</span> <span style=\"background-color:rgba(135,206,250,0.023822695);\">a</span> <span style=\"background-color:rgba(135,206,250,0.044225715);\">bit</span> <span style=\"background-color:rgba(135,206,250,0.056467645);\">demure</span> <span style=\"background-color:rgba(135,206,250,0.020988004);\">,</span> <span style=\"background-color:rgba(135,206,250,0.030492252);\">with</span> <span style=\"background-color:rgba(135,206,250,0.03729164);\">hints</span> <span style=\"background-color:rgba(135,206,250,0.016650707);\">of</span> <span style=\"background-color:rgba(135,206,250,0.0234441);\">struck</span> <span style=\"background-color:rgba(135,206,250,0.02708481);\">flint</span> <span style=\"background-color:rgba(135,206,250,0.021154603);\">and</span> <span style=\"background-color:rgba(135,206,250,0.044336863);\">slate</span> <span style=\"background-color:rgba(135,206,250,0.055765245);\">.</span> <span style=\"background-color:rgba(135,206,250,0.014981319);\">the</span> <span style=\"background-color:rgba(135,206,250,0.07661792);\">palate</span> <span style=\"background-color:rgba(135,206,250,0.03815454);\">is</span> <span style=\"background-color:rgba(135,206,250,0.029444499);\">more</span> <span style=\"background-color:rgba(135,206,250,0.04511591);\">mineral</span> <span style=\"background-color:rgba(135,206,250,0.028174827);\">and</span> <span style=\"background-color:rgba(135,206,250,0.039354023);\">zesty</span> <span style=\"background-color:rgba(135,206,250,0.029368775);\">,</span> <span style=\"background-color:rgba(135,206,250,0.02965717);\">it</span> <span style=\"background-color:rgba(135,206,250,0.042537954);\">also</span> <span style=\"background-color:rgba(135,206,250,0.054470144);\">has</span> <span style=\"background-color:rgba(135,206,250,0.02804601);\">a</span> <span style=\"background-color:rgba(135,206,250,0.04874467);\">steely</span> <span style=\"background-color:rgba(135,206,250,0.037617482);\">,</span> <span style=\"background-color:rgba(135,206,250,0.07059172);\">minerally</span> <span style=\"background-color:rgba(135,206,250,0.08343553);\">feel</span> <span style=\"background-color:rgba(135,206,250,0.0447738);\">and</span> <span style=\"background-color:rgba(135,206,250,0.04494179);\">a</span> <span style=\"background-color:rgba(135,206,250,0.072032556);\">long</span> <span style=\"background-color:rgba(135,206,250,0.29882303);\">finish</span> <span style=\"background-color:rgba(135,206,250,0.15022686);\">.</span> <span style=\"background-color:rgba(135,206,250,0.31300104);\">drink</span> <span style=\"background-color:rgba(135,206,250,0.19857492);\">now</span> <span style=\"background-color:rgba(135,206,250,0.12612464);\">through</span> <span style=\"background-color:rgba(135,206,250,0.709581);\">2020</span> <span style=\"background-color:rgba(135,206,250,0.33374363);\">.</span>"
      ],
      "text/plain": [
       "<IPython.core.display.HTML object>"
      ]
     },
     "metadata": {},
     "output_type": "display_data"
    },
    {
     "name": "stdout",
     "output_type": "stream",
     "text": [
      ":   \t100.0%\n",
      "imported:   \t0.0%\n",
      "the:   \t0.0%\n",
      "it:   \t0.0%\n",
      "try:   \t0.0%\n",
      "--------\n",
      "\n"
     ]
    }
   ],
   "source": [
    "info = text_generator.generate(\n",
    "    \"wine review : germany\", max_tokens=80, temperature=0.5\n",
    ")\n",
    "print_probs(info, vocab)"
   ]
  },
  {
   "cell_type": "code",
   "execution_count": 35,
   "id": "fcc7a7c0-6c64-47d3-acee-96e48f025e01",
   "metadata": {},
   "outputs": [
    {
     "name": "stdout",
     "output_type": "stream",
     "text": [
      "# Run Date: Monday, June 05, 2023\n",
      "# Run Time: 00:05:59\n"
     ]
    }
   ],
   "source": [
    "endTime = time.time()\n",
    "\n",
    "elapsedTime = time.strftime(\"%H:%M:%S\", time.gmtime(endTime - startTime))\n",
    "\n",
    "print(todaysDate.strftime('# Run Date: %A, %B %d, %Y'))\n",
    "print(f\"# Run Time: {elapsedTime}\")"
   ]
  }
 ],
 "metadata": {
  "kernelspec": {
   "display_name": "Python 3 (ipykernel)",
   "language": "python",
   "name": "python3"
  },
  "language_info": {
   "codemirror_mode": {
    "name": "ipython",
    "version": 3
   },
   "file_extension": ".py",
   "mimetype": "text/x-python",
   "name": "python",
   "nbconvert_exporter": "python",
   "pygments_lexer": "ipython3",
   "version": "3.8.10"
  },
  "vscode": {
   "interpreter": {
    "hash": "31f2aee4e71d21fbe5cf8b01ff0e069b9275f58929596ceb00d14d90e3e16cd6"
   }
  }
 },
 "nbformat": 4,
 "nbformat_minor": 5
}
